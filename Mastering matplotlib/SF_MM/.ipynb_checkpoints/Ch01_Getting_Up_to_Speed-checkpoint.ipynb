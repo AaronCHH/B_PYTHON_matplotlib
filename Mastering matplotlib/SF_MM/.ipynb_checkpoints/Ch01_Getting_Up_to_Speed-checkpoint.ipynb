{
 "cells": [
  {
   "cell_type": "markdown",
   "metadata": {},
   "source": [
    "# Chapter 1: Getting Up to Speed\n",
    "## A brief historical overview of matplotlib\n",
    "## What's new in matplotlib 1.4\n",
    "## The intermediate matplotlib user\n",
    "## Prerequisites for this book\n",
    "## Python 3\n",
    "## Coding style\n",
    "## Installing matplotlib\n",
    "## Using IPython Notebooks with matplotlib\n",
    "## Advanced plots – a preview\n",
    "## Setting up the interactive backend\n",
    "* **Joint plots with Seaborn**\n",
    "* **Scatter plot matrix graphs with Pandas**\n",
    "## Summary"
   ]
  },
  {
   "cell_type": "code",
   "execution_count": null,
   "metadata": {
    "collapsed": true
   },
   "outputs": [],
   "source": []
  }
 ],
 "metadata": {
  "anaconda-cloud": {},
  "kernelspec": {
   "display_name": "Python [default]",
   "language": "python",
   "name": "python3"
  },
  "language_info": {
   "codemirror_mode": {
    "name": "ipython",
    "version": 3
   },
   "file_extension": ".py",
   "mimetype": "text/x-python",
   "name": "python",
   "nbconvert_exporter": "python",
   "pygments_lexer": "ipython3",
   "version": "3.5.2"
  }
 },
 "nbformat": 4,
 "nbformat_minor": 1
}
