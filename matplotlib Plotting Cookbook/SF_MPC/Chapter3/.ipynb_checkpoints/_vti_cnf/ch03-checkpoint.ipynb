vti_encoding:SR|utf8-nl
vti_timelastmodified:TR|18 Sep 2015 18:27:58 -0000
vti_extenderversion:SR|12.0.0.0
vti_cacheddtm:TX|18 Sep 2015 18:27:58 -0000
vti_filesize:IR|317417
vti_backlinkinfo:VX|
