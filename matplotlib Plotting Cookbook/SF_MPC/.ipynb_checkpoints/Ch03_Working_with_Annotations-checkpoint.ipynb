{
 "cells": [
  {
   "cell_type": "markdown",
   "metadata": {},
   "source": [
    "# Chapter 3: Working with Annotations"
   ]
  },
  {
   "cell_type": "markdown",
   "metadata": {},
   "source": [
    "## Introduction"
   ]
  },
  {
   "cell_type": "markdown",
   "metadata": {},
   "source": [
    "## Adding a title"
   ]
  },
  {
   "cell_type": "code",
   "execution_count": 2,
   "metadata": {
    "collapsed": false
   },
   "outputs": [
    {
     "data": {
      "image/png": "iVBORw0KGgoAAAANSUhEUgAAAgMAAAFyCAYAAABoTdmuAAAABHNCSVQICAgIfAhkiAAAAAlwSFlz\nAAAPYQAAD2EBqD+naQAAIABJREFUeJzt3Xd0FXX+//HnmyZtDSiIgKGDgOICoWNAROktIkJQAeHo\nIq4grqDi6iKuuuuKKCt8QUSlRlBKKCIdUaQmKAqhCSJIUaRJT+Dz++MGfpGlJrmZW16Pc+ZwMpmZ\nz2uScO/7fuYznzHnHCIiIhK+snkdQERERLylYkBERCTMqRgQEREJcyoGREREwpyKARERkTCnYkBE\nRCTMqRgQEREJcyoGREREwpyKARERkTCnYkAkzJhZSTM7a2ZdvM6SGcxsiZktTue+Z83spczOJBJs\nVAyIZBEz65X65rPc6ywhxgFnvQ4hEsxyeB1AJIx0BrYDtcysjHNum9eBQsS9XgcQCXbqGRDJAmZW\nGqgHPA3sBx70NlHocM6lOOdSvM4hEsxUDIhkjQeBA8Bs4FOuoRgwsx/NbIaZ3Wtma83shJmtN7OY\ni2xb2sw+MbPfzOyYmS03sxZXOH631MsXf77I9waYWYqZFU39eomZrTOzSma2OLWNXWbW7yL7Fjaz\n0Wa2NzXzNxeOU0gzfuHp1MsoP6Qec66ZFU/d5kUz22lmx81supkVuOAYS8xsUZqvc5rZIDNbY2aH\nzOyomS01s7uu8KMWCVsqBkSyRmdgSuon2DigvJlFXeW+DqgAfAx8BjwHJAOfmFnjcxuZ2U3Acnzd\n5u8CA4DrgBlm1vYyx/8UOMHFC5TOwCLn3J40WW4A5gBr8fV0JAH/MrOmabLkBr5IPeY44BngEPCR\nmT15kXYeAh4HhgJvAg1Tz++fQBPgX8BIoHXq9y/8+aR1PdAdWAz0B/4BFAI+N7M7LvNzEAlfzjkt\nWrT4cQGi8A1wa5Rm3U/AW1e5/3bgDNA2zbo/AT8Da9KsG5K6Xd006/IBPwA/pFlXMjVPlzTrJgA7\nL2i3Wup2D6dZtzi1jc5p1uUEdgOT06zrk7pdpzTrsgPLgMNAvguy7AXyp9n21dT1iUC2C3KeAHJe\nkGlRmq8NyHHBuVwP7AFGXbD+LPCS138jWrR4vahnQMT/HsT3ZrckzbpJQCczs6s8xm7nXPy5L5xz\nvwNjgWqpPQIAzYFVzrnlabY7BrwHlDKzypc5/ligmJk1uiD3cWDqBdsedc5NTNNGMrAKKJNmm+bA\nXufcx2m2O4Pvk39+fJ/805rsnDua5uuVqf+Oc86dvWB9LqD4pU7E+aQAmE/B1H3WANUvtZ9IOFMx\nIOJHZpYN6Ijv02sZMytrZmXxvXneDDS+3P5pbL3Ius2p/5ZK/bcksOki2yWl+f6lzMdXsDyYmtuA\nTsD01IIirV0X2f8gUDDN1yWBLZfIYhfJsvOCrw9foq1z6wtyGWbW1cy+BU4CvwG/AC2BiMvtJxKu\nVAyI+NfdQFF8b6xb0iyT8F3rDoi7ClI/fU8E2ptZLny5iwHjL7L5mUsc5mp7OS7mUse85rbM7CHg\nQ3w/5+5AU+AeYBF6zRO5KM0zIOJfDwH7gF787xtYeyDGzHo6505d4TjlLrLu1tR/f0z9d0eadWlV\nSvP9yxmLb0Bga6AFvk/T866wz6XsAKpkIEtGtMc3RuL+tCvNbJAf2xQJaqqSRfwkdUR9DDDTOTfN\nOTc17YJvxP/1QJurOFyxtLcSmtn1wMPAWufcL6mrP8M3oVHtNNvlAx4DtjvnNlyuAefcd8B3wKP4\n3lDjLrhefy0+A242s45psmQHngR+x3engb/8T29C6s+krh/bFAlq6hkQ8Z+2+Eb9z7jE91cAv+K7\nVPDJFY61GXjfzGri62noAdwEdE2zzb+AWHy30A3FN69BN3zX5++7ysxj8d265/CN3E+v94C/4LuV\nsAa+3osO+N6Q+1xkHMK1uNLliFnAfWY2Hd+8DmVSs6zHN3hRRC6gngER/+mMbzT+got90znn8L1Z\nNUsd8X45W/ANRGwBvI7vNr0HnHPnj53aQ1AXX9f+X4HX8A2ga+Wcu7AgufDe/HMm4Ptkvck5t+YS\n21xq3/PrnXMn8d0xMAHogq/AKAB0c869e5H9LnbMK7ZzibY/Ap4H7gDewTfvwoNAwkX2vVTbImHF\nfK9HIhKozGw78J1z7mouJ2S0rRvx3Y8/0Dn3mr/bE5HAkO6eATN73sxWmdkRM9tnZtPMrMJFthtk\nZrtTpxKdb2YXGwglIoHhEXyvCxe7i0BEQlRGLhNEA/8FauO7bScnMM/M8pzbwMyexddd+RhQCzgG\nzE29dUlEAoSZNTKzv+Kbwniac+4nrzOJSNbJtMsEZlYI361IDZxzX6Wu2w38xzk3JPXr6/ENfurq\nnJucKQ2LhDgz24bvMsHlni+Q0TYW4xtv8BW+6Yf3XGEXEQkhmXk3QQF8A3EOwPlHtt4MLDy3gXPu\niJmtxPeio2JA5Co458pceasMt9HoyluJSKjKlGIgderSt4Gv0tzLfDO+4mDfBZvvS/3exY5zI77Z\nwn7ENwpaRERErk5ufNOTz3XO/XYtO2ZWz8BwoDJQP4PHaUrG7m0WEREJdw/im178qmW4GDCzd/Hd\n+xx9wXXGvfgmBynCH3sHiuB7DvrF/Agwfvx4KlWqdIlNQkPfvn0ZMmSI1zH8TucZesLlXHWeoSXU\nzzM5OZmGDRty6tQp+P9TlF+1DBUDqYVAW6DhhaOPnXPbzWwvvqeyrUvd/np8dx8Mu8QhTwJUqlSJ\n6tVD+0mjERERIX+OoPMMReFyrjrP0BLq57lo0aJzhQCk4zJ7RuYZGI6vK6IzcMzMiqQuudNs9jbw\ndzNrbWZV8E11uguI/98jioiISHp89tlnFCpUKN37Z2SegZ74HrKyBNidZnng3AbOuTfwzUUwElgJ\n5AGaO+dOZ6BdERERSWPOnDnUq1cv3funuxhwzmVzzmW/yDL2gu0GOueKOefyOueaOue2pjutiIiI\n/MGOHTvYsGED9eunfwy/HlTkkdjYWK8jZAmdZ+gJl3PVeYaWUD7POXPmkD17dmrXrn3ljS8hoB5U\nZGbVgYSEhISQHughIiKSWdq2bcuhQ4cYMmQIUVFRAFHOucRrOYZ6BkRERILUyZMnWbhwIc2bN8/Q\ncVQMiIiIBKkvvviCY8eO0apVqwwdR8WAiIhIkJo9ezYlS5bktttuy9BxVAyIiIgEIeccs2bNomXL\nlvgeEZR+KgZERESCUFJSEtu3b8/wJQJQMSAiIhKUZs+eTd68eWnUKONPIFcxICIiEoRmzZpF48aN\nyZ0795U3vgIVAyIiIkHm4MGDLFu2LFMuEYCKARERkaAzd+5czpw5Q8uWLTPleCoGREREgsysWbOo\nWrUqxYsXz5TjqRgQEREJImfOnGHOnDmZdokAVAyIiIgElRUrVnDgwAEVAyIiIuFq1qxZFC5cmJo1\na2baMVUMiIiIBJFZs2bRokULsmXLvLdwFQMiIiJBYseOHXz//feZeokAVAyIiIgEjdmzZ5MjRw7u\nvffeTD2uigEREZEgMWvWLBo0aEBERESmHlfFgIiISBA4duwYixYtyrSJhtJSMSAiIhIEFi1axKlT\npzJ9vACoGBAREQkK8fHxVKhQgQoVKmT6sVUMiIiIBLgzZ84wc+ZM2rZt65fjqxgQEREJcCtXruSX\nX35RMSAiIhKu4uPjKVy4MHXq1PHL8VUMiIiIBLj4+Hhat25N9uzZ/XJ8FQMiIiIBbNOmTWzatMlv\nlwhAxYCIiEhAi4+PJ2/evJk+62BaKgZEREQCWHx8PE2aNCFPnjx+a0PFgIiISIDat28fy5cv9+sl\nAlAxICIiErBmzpyJmfll1sG0VAyIiIgEqPj4eOrXr0+hQoX82o6KARERkQB07NgxFixY4PdLBKBi\nQEREJCDNmzePkydPqhgQEREJV/Hx8VSuXJly5cr5vS0VAyIiIgEmJSWFWbNmZUmvAKgYEBERCThf\nf/01v/32m4oBERGRcBUfH0/RokWpWbNmlrSnYkBERCSAOOeYPn06rVu3Jlu2rHmbVjEgIiISQL79\n9lu2bdvGfffdl2VtqhgQEREJIFOnTqVAgQI0atQoy9pUMSAiIhJApkyZQps2bciVK1eWtaliQERE\nJEBs3LiRDRs20L59+yxtV8WAiIhIgJg6dSr58uXj3nvvzdJ2VQyIiIgEiClTptCyZUvy5MmTpe2q\nGBAREQkA27dvJzExMcsvEYCKARERkYAwdepUrrvuOpo3b57lbasYEBERCQBTp06ladOm/OlPf8ry\ntlUMiIiIeGz37t18/fXXnlwiABUDIiIinps2bRo5cuSgdevWnrSvYkBERMRjU6dO5e6776ZgwYKe\ntJ/uYsDMos1shpn9bGZnzazNBd//MHV92uWzjEcWEREJHfv37+eLL77w7BIBZKxnIB/wDdALcJfY\nZg5QBLg5dYnNQHsiIiIhJz4+Hucc7dq18yxDjvTu6Jz7HPgcwMzsEpudcs79mt42REREQt2UKVOI\njo7mpptu8iyDv8cM3GVm+8xso5kNN7Mb/NyeiIhI0Dh8+DALFizI0scVX0y6ewauwhxgCrAdKAu8\nDnxmZnWdc5e6rCAiIhI2Zs6cSXJyMjExMZ7m8Fsx4JybnObL9Wb2HfADcBew+HL79u3bl4iIiD+s\ni42NJTZWQw5ERCR0TJo0iXr16hEZGXlN+8XFxREXF/eHdYcPH053DsuMD+lmdhZo55ybcYXtfgFe\ncM6NusT3qwMJCQkJVK9ePcO5REREAtWhQ4e46aabePPNN+ndu3eGj5eYmEhUVBRAlHMu8Vr2zbJ5\nBszsFuBGYE9WtSkiIhKopk+fTkpKCvfff7/XUdJ/mcDM8gHlgHN3EpQxsz8DB1KXf+AbM7A3dbt/\nA5uBuRkJLCIiEgomT55MdHQ0xYoV8zpKhnoGagBrgQR88wwMBhKBl4EzwB1APLAJGAWsBho455Iz\nElhERCTY/fbbb8yfP58HHnjA6yhAxuYZ+ILLFxPN0ntsERGRUDZt2jTOnj3r6ayDaenZBCIiIlls\n8uTJNGzYkJtvvtnrKICKARERkSz166+/smjRIjp27Oh1lPNUDIiIiGShqVOnAng+62BaKgZERESy\n0KRJk7j77rspXLiw11HOUzEgIiKSRfbu3csXX3wRUJcIQMWAiIhIlpkyZQrZsmXz/FkEF1IxICIi\nkkUmT57Mvffeyw03BNZDfFUMiIiIZIHdu3fz5ZdfBsxEQ2mpGBAREckCkydPJmfOnLRr187rKP9D\nxYCIiEgWmDBhAi1btqRAgQJeR/kfKgZERET8bPPmzaxZs4bOnTt7HeWiVAyIiIj42cSJE/nTn/5E\ny5YtvY5yUSoGRERE/Mg5x8SJE7nvvvvIkyeP13EuSsWAiIiIHyUkJLBlyxYefPBBr6NckooBERER\nP5owYQJFihShUaNGXke5JBUDIiIifnLmzBk+/vhjOnbsSI4cObyOc0kqBkRERPxkyZIl7N27N6Av\nEYCKAREREb+ZMGECZcuWpWbNml5HuSwVAyIiIn5w8uRJpkyZQufOnTEzr+NclooBERERP/jss884\ncuRIwE40lJaKARERET+YMGEC1atXp2LFil5HuSIVAyIiIpns0KFDzJ49Oyh6BUDFgIiISKabMmUK\np0+fplOnTl5HuSoqBkRERDLZmDFjuOeeeyhevLjXUa5K4M6AICIiEoS2bdvGl19+ybhx47yOctXU\nMyAiIpKJxo0bR/78+YmJifE6ylVTMSAiIpJJnHOMHTuW+++/n3z58nkd56qpGBAREckky5YtY9u2\nbXTt2tXrKNdExYCIiEgmGTt2LCVLlqRBgwZeR7kmKgZEREQywYkTJ5g0aRIPP/ww2bIF19trcKUV\nEREJUDNmzODIkSM8/PDDXke5ZioGREREMsGYMWOoW7cuFSpU8DrKNVMxICIikkF79+5l7ty5dOnS\nxeso6aJiQEREJIMmTJhAjhw56Nixo9dR0kXFgIiISAaNHTuWNm3aULBgQa+jpIuKARERkQz45ptv\nWLduXdDNLZCWigEREZEM+OCDDyhSpAhNmzb1Okq6qRgQERFJp5MnTzJ+/Hi6du1Kzpw5vY6TbioG\nRERE0mn69OkcPHiQ7t27ex0lQ1QMiIiIpNPo0aO58847ufXWW72OkiE5vA4gIiISjH788UcWLFjA\nhx9+6HWUDFPPgIiISDp8+OGH5M+fnw4dOngdJcNUDIiIiFyjM2fO8OGHH9KpUyfy5cvndZwMUzEg\nIiJyjRYsWMDOnTvp0aOH11EyhYoBERGRazR69GgqV65M7dq1vY6SKVQMiIiIXIP9+/czffp0evTo\ngZl5HSdTqBgQERG5BuPHjwfg4Ycf9jhJ5lExICIicpWcc4wePZo2bdpQuHBhr+NkGhUDIiIiV2n1\n6tV8//33ITNw8BwVAyIiIldp5MiRREZG0qRJE6+jZCoVAyIiIlfh0KFDfPzxxzz22GNkz57d6ziZ\nKt3FgJlFm9kMM/vZzM6aWZuLbDPIzHab2XEzm29m5TIWV0RExBvjx4/n1KlTIXeJADLWM5AP+Abo\nBbgLv2lmzwJ/BR4DagHHgLlmlisDbYqIiGQ55xwjRoygXbt2FC1a1Os4mS7dDypyzn0OfA5gF7/R\nsg/winNuVuo2XYB9QDtgcnrbFRERyWrLli1j/fr1DBkyxOsofuGXMQNmVhq4GVh4bp1z7giwEqjr\njzZFRET8ZeTIkZQtW5bGjRt7HcUv/DWA8GZ8lw72XbB+X+r3REREgsL+/fv55JNP+Mtf/kK2bKE5\n7j7dlwn8qW/fvkRERPxhXWxsLLGxsR4lEhGRcDVmzBicc3Tr1s3rKOfFxcURFxf3h3WHDx9O9/HM\nuf8Z+3ftBzE7C7Rzzs1I/bo08ANQ1Tm3Ls12S4C1zrm+lzhOdSAhISGB6tWrZziXiIhIRjjnuPXW\nW6lRowYTJ070Os5lJSYmEhUVBRDlnEu8ln390t/hnNsO7AXOX1wxs+uB2sDX/mhTREQksy1evJgt\nW7bQs2dPr6P4VbovE5hZPqAccO5OgjJm9mfggHNuJ/A28Hcz2wr8CLwC7ALiM5RYREQki4wYMYJK\nlSoRHR3tdRS/ysiYgRrAYnwDBR0wOHX9GKC7c+4NM8sLjAQKAF8CzZ1zpzPQpoiISJbYu3cv06ZN\nY/DgwSHzqOJLycg8A19whcsMzrmBwMD0tiEiIuKVUaNGkTNnzpB6VPGlhOY9EiIiIhmQnJzMiBEj\neOihhyhYsKDXcfxOxYCIiMgFpk6dyu7du3nyySe9jpIlVAyIiIhc4L///S8NGzakSpUqXkfJEgE5\n6ZCIiIhX1q5dy7Jly/j000+9jpJl1DMgIiKSxn//+18iIyNp27at11GyjIoBERGRVPv372fixIk8\n/vjj5MgRPp3nKgZERERSvf/++wA8+uijHifJWioGREREgJSUFIYPH05sbCyFChXyOk6WUjEgIiIC\nzJw5k507d4bN7YRpqRgQERHBN3CwXr16YfnU3PAZHSEiInIJ33//PYsXLyYuLs7rKJ5Qz4CIiIS9\nIUOGUKxYMe677z6vo3hCxYCIiIS1ffv2MX78eHr37k2uXLm8juMJFQMiIhLWhg0bRs6cOXnssce8\njuIZFQMiIhK2Tpw4wfDhw+nevXtYPJ3wUlQMiIhI2Bo3bhwHDhzgqaee8jqKp1QMiIhIWDp79ixv\nvfUWMTExlClTxus4ntKthSIiEpbmzJnDpk2bGD16tNdRPKeeARERCUuDBw+mdu3a1KtXz+sonlPP\ngIiIhJ21a9eyePFiJk2ahJl5Hcdz6hkQEZGwM2TIEEqWLBm2kwxdSMWAiIiElZ9//pm4uDj69OlD\njhzqIAcVAyIiEmaGDBlCvnz56NGjh9dRAoaKARERCRsHDhxg5MiRPPHEE1x//fVexwkYKgZERCRs\nDBs2jJSUFPr06eN1lICiYkBERMLCsWPHeOedd+jRowc33XST13ECiooBEREJC6NHj+bQoUM888wz\nXkcJOCoGREQk5J0+fZo333yT2NhYSpUq5XWcgKNiQEREQl5cXBw7d+7k2Wef9TpKQFIxICIiIe3s\n2bP8+9//pnXr1tx+++1exwlImm1BRERC2owZM0hKStIDiS5DPQMiIhKynHO8/vrrNGjQgLp163od\nJ2CpZ0BERELWokWLWLVqFXPmzPE6SkBTz4CIiISsQYMGERUVRdOmTb2OEtDUMyAiIiFpyZIlLF26\nlPj4eD2m+ArUMyAiIiFp0KBBVKtWjdatW3sdJeCpZ0BERELOl19+yeLFi5k2bZp6Ba6CegZERCTk\nvPzyy/z5z3+mbdu2XkcJCuoZEBGRkLJs2TIWLlzIp59+ql6Bq6SeARERCSmDBg3i9ttvJyYmxuso\nQUM9AyIiEjJWrFjBvHnzmDx5Mtmy6fPu1dJPSkREQsbLL79M5cqVad++vddRgop6BkREJCR89dVX\nfP7550yaNEm9AtdIPy0REQl6zjleeOEF/vznP3P//fd7HSfoqGdARESC3vz581m6dCmzZs1Sr0A6\n6CcmIiJB7VyvQN26dWnRooXXcYKSegZERCSoTZ8+nTVr1rBo0SLNK5BO6hkQEZGgdebMGV588UXu\nueceGjVq5HWcoKWeARERCVoff/wx69ev54MPPvA6SlBTz4CIiASl5ORkXnrpJdq0aUOtWrW8jhPU\n1DMgIiJBafTo0Wzbto1p06Z5HSXo+bVnwMz+YWZnL1g2+LNNEREJfb///jsDBw7k4Ycf5o477vA6\nTtDLip6B74HGwLkhnilZ0KaIiISwwYMHc+jQIV555RWvo4SErCgGUpxzv2ZBOyIiEgb27NnDm2++\nSe/evSlZsqTXcUJCVgwgLG9mP5vZD2Y23swis6BNEREJUQMHDuS6665jwIABXkcJGf4uBlYA3YCm\nQE+gNLDUzPL5uV0REQlBSUlJvP/++/z973+nQIECXscJGeacy7rGzCKAHUBf59yHF/l+dSChQYMG\nRERE/OF7sbGxxMbGZk1QEREJSG3btmXdunVs3LiR6667zus4nomLiyMuLu4P6w4fPszSpUsBopxz\niddyvCwtBgDMbBUw3zn3wkW+Vx1ISEhIoHr16lmaS0REAtvSpUtp2LAhEydO1IfDi0hMTCQqKgrS\nUQxk6aRDZpYfKAfsycp2RUQkuJ09e5Z+/fpRo0YNOnbs6HWckOPXuwnM7D/ATHyXBooDLwPJQNzl\n9hMREUlrwoQJrFq1iiVLlugRxX7g71sLbwEmAjcCvwJfAXWcc7/5uV0REQkRR48e5dlnn6VDhw40\nbNjQ6zghya/FgHNOF3VERCRDXn/9dQ4cOMAbb7zhdZSQpb4WEREJWNu3b2fw4MH069ePUqVKeR0n\nZKkYEBGRgNWvXz8KFSrEc88953WUkKanFoqISEBavHgxU6ZMYfz48eTLp7nq/Ek9AyIiEnBSUlJ4\n6qmnqFu3Lp07d/Y6TshTz4CIiAScUaNGsW7dOlatWoWZXXkHyRD1DIiISED55ZdfGDBgAI888gg1\na9b0Ok5YUDEgIiIBpX///mTLlk23EmYhXSYQEZGAsXTpUsaMGcOoUaMoVKiQ13HChnoGREQkICQn\nJ9OrVy/q1KlD9+7dvY4TVtQzICIiAeHtt98mKSmJhIQEPX8gi+mnLSIintu5cycDBw7kySefpGrV\nql7HCTsqBkRExHNPPfUUERERDBo0yOsoYUmXCURExFPx8fFMnTqVjz/+mOuvv97rOGFJPQMiIuKZ\nQ4cO0atXL1q1asUDDzzgdZywpWJAREQ8079/f37//Xf+7//+TzMNekiXCURExBOLFy9m1KhRDB8+\nnFtuucXrOGFNPQMiIpLljh8/zqOPPkp0dDR/+ctfvI4T9tQzICIiWW7gwIHs2rWL2bNna06BAKBi\nQEREslRCQgKDBw/mlVde4dZbb/U6jqDLBCIikoVOnjxJ165dqVKlCv369fM6jqRSz4CIiGSZl156\nic2bN7NmzRpy5szpdRxJpWJARESyxFdffcWbb77J66+/zh133OF1HElDlwlERMTvjh49SteuXalb\nty7PPPOM13HkAuoZCDDHjh3jl19+4dChQ+eXw4cPc/r0aZKTk0lJSSElJYUzZ86QK1cucufOfX7J\nkycPBQsWpFChQtx4443ccMMN6oYTkYDQr18/9u7dy9y5c8mePbvXceQCKgay2NmzZ/npp59ISkpi\n48aNbNq0iZ07d7Jz50527drFwYMHL7pftmzZyJEjx/klW7ZsJCcnc+LECc6ePXvJ9iIiIoiMjKRE\niRKUKFGCkiVLUrJkSSpUqEDFihXJly+fv05VRASAuXPnMmLECIYPH065cuW8jiMXoWLAj86ePcvm\nzZtZtWoVq1atYvXq1Xz//fccP34cgDx58nDrrbdSsmRJGjRowC233MItt9xCkSJFKFiwIAUKFKBg\nwYJERESQI8elf1UpKSmcPHmS48ePc/DgQfbv389vv/3G/v37+fXXX9m1axc//fQTy5cvZ9KkSX8o\nOEqUKEGlSpWoVKkSVapUoUaNGlSuXPmy7YmIXK0DBw7Qo0cPmjRpQs+ePb2OI5egV/xM5Jxj/fr1\nLFy4kAULFrB06VKOHDkCQMWKFalVqxadOnWiUqVKVKxYkRIlSmTKZBs5cuQgf/785M+fn5tuuumK\n9+0ePnyYTZs2kZSUdH6ZPXs277zzDs45cufOTdWqVYmKiqJmzZrUr1+fsmXLat5wEbkmzjl69OjB\niRMnGD16tF5DApiKgQw6fvw4c+fOZfr06cybN4+9e/eSK1cu6tevT79+/ahbty41atQgIiLC66jn\nRUREUKtWLWrVqvWH9UePHmXt2rUkJCSwZs0aFi5cyPDhw3HOUbRoURo0aHB+qVy5smYNE5HLGjFi\nBNOnT2f69Ol69kCAUzGQDr///vv5529//vnnnDhxgttuu40uXbpwzz33UL9+ffLmzet1zGuWP39+\noqOjiY6OPr/u0KFDfP311yxdupSlS5fSp08fUlJSuPHGG7nnnnto2rQpTZs2pVixYh4mF5FA8913\n39G3b19U77f6AAAbf0lEQVSeeOIJ2rZt63UcuQJzznmd4Twzqw4kJCQkUL16da/j/MHZs2dZsmQJ\nH330EVOmTOH48ePUrl2b++67j5iYGMqXL+91xCxx/PhxVqxYweLFi5k3bx6rV6/GOUeVKlVo1qwZ\nzZo1Izo6WncxiISx48ePU7NmTbJnz87KlSvJkyeP15HCQmJiIlFRUQBRzrnEa9lXxcAV7Nmzh5Ej\nR/LRRx+xY8cOypcvT7du3XjooYcoUaKE1/E8t3//fubPn8/cuXP5/PPP2bdvHwULFqR169bExMTQ\npEmToOwlEZH069mzJ2PHjmXNmjVUrlzZ6zhhIyPFgC4TXMKqVasYOnQokydPJleuXMTGxvLII49Q\nt25dDYJJo1ChQsTGxhIbG4tzjsTERKZNm8b06dMZO3YsefLkoWnTpsTExNCmTRsKFCjgdWQR8aMp\nU6YwcuRI3nvvPRUCQUQ9A2k455g1axavvfYaK1asoEyZMvz1r3+le/fuATUAMFhs2bLlfGGwfPly\ncuXKRcuWLencuTMtW7ZU16FIiNm8eTM1atSgWbNmTJo0SR+cslhGegY0HBzfeIBPP/2UatWq0aZN\nG3LkyMGMGTPYvHkzffv2VSGQTuXLl6d///58/fXX7Nq1i3/961/s3LmTDh06UKRIEbp27crcuXNJ\nSUnxOqqIZNCxY8do3749xYoV4/3331chEGTCuhhwzjF9+nSqVKlChw4dKFy4MF988QVffvklrVu3\n1pSZmah48eL07duX1atXs3nzZp555hlWrlxJs2bNKFasGE8//TTff/+91zFFJB2cc/Ts2ZNt27Yx\nZcoUrr/+eq8jyTUK22Jg2bJl3HnnncTExFC8eHGWL1/O/PnzadCggdfRQl758uV56aWXSEpKIiEh\ngYceeojx48dTpUoVatWqxYgRIzh06JDXMUXkKo0YMYLx48fz/vvvc9ttt3kdR9Ih7IqBrVu30q5d\nO+68805OnDjB/PnzmTdvHnXq1PE6WtgxM6pXr85bb73Frl27mDp1KkWKFOGJJ56gaNGiPPTQQyxa\ntOiyz14QEW+tWrWKPn368OSTTxIbG+t1HEmnsCkGjh8/zosvvshtt93G2rVrmTBhAmvWrOGee+7x\nOpoAuXLlIiYmhpkzZ7Jr1y5efvll1qxZQ+PGjalQoQKDBw/mt99+8zqmiKTx66+/cv/99xMVFcWb\nb77pdRzJgJAvBs6NC6hcuTJvvPEG/fr1Iykpic6dO2s63QBVtGhR+vfvT1JSEl999RV169ZlwIAB\n3HLLLXTr1o1Vq1YRSHfBiISj06dPc99993H69Gk++eQTcuXK5XUkyYCQfjfcu3cv7du3JyYmhsqV\nK/P999/zz3/+U5PgBAkzo379+owbN45du3YxcOBAvvjiC2rXrk2NGjUYPXr0+SdAikjWcc7x+OOP\ns2rVKqZNm6bnDoSAkCwGnHOMGzeOypUrs2zZMj755BNmz54dNlMGh6LChQvz7LPPsnXrVmbPnk3R\nokV59NFHz9+JsH37dq8jioSNd955hw8++IBRo0ZRt25dr+NIJgi5YmD37t20bt2aLl260Lx5c9av\nX8/999+ve15DRPbs2WnRogWzZs3ihx9+oGfPnowZM4Zy5crRvn17vvrqK11CEPGjzz//nL/97W/0\n79+fLl26eB1HMklIFQMzZszgjjvuICEhgfj4eCZMmEChQoW8jiV+Urp06fMTGQ0bNoz169cTHR1N\nrVq1mDBhAqdPn/Y6okhI2bhxIx07dqR58+a89tprXseRTBQSxcCJEyfOPyazXr16fPfdd7Rp08br\nWJJF8ubNS8+ePdmwYQOfffYZBQsW5KGHHqJ06dK8/vrrugtBJBPs27ePli1bcssttzBx4kRNyhZi\ngr4YWL9+PTVr1uSDDz5g2LBhxMfHqzcgTGXLlo3mzZszb948vvvuO1q0aMHLL79MZGQkvXr14ocf\nfvA6okhQOnr0KK1ateL48ePMnj1bMwyGoKAuBiZNmkStWrUAWL16Nb169dLYAAHg9ttvZ9SoUezc\nuZPnn3+eTz/9lAoVKvDAAw+QkJDgdTyRoJGSkkLHjh3ZuHEjn332GaVKlfI6kvhBUBYDycnJ9O3b\nl06dOtGuXTtWrlzJ7bff7nUsCUCFCxfmxRdfZMeOHQwbNozExERq1KhB48aNmTdvngYbilzGuWcO\nzJs3jylTplCtWjWvI4mfBF0xsHfvXho3bsy7777L0KFDGT9+PPny5fM6lgS4PHny0LNnTzZt2sTk\nyZM5fPgwTZs2pXr16sTFxenJiSIXMWjQIEaPHs37779PkyZNvI4jfhRUxcC3335LrVq12LJlC4sX\nL+bJJ5/UZQG5JtmzZ6dDhw6sXr2ahQsXctNNN9G5c2fKly/Pu+++q0mMRFKNGDGCgQMH8s9//pOu\nXbt6HUf8LGiKgdmzZ3PnnXdSqFAh1qxZw5133ul1JAliZsbdd9/N3LlzWbt2LXXr1qVPnz6UKFGC\nl19+WXcgSFgbN24cvXr1onfv3gwYMMDrOJIFAr4YcM4xdOhQ2rRpw913383SpUspXry417EkhFSt\nWpWJEyeydetWYmNj+fe//03JkiXp168fe/bs8TqeSJaaMmUK3bp1o3v37gwZMkS9r2HC78WAmT1h\nZtvN7ISZrTCzmle775kzZ3jyySfp06cPffv2ZerUqeTPn9+fcSWMlS5dmv/+97/8+OOP9OnTh/fe\ne4/SpUvTq1cvTXcsYWHOnDnExsbywAMPMHLkSD3MLYz49TdtZh2BwcA/gGrAt8BcM7viRACnTp2i\nY8eOjBgxgpEjR/Lmm29qkgvJEjfddBOvvvoqO3bs4KWXXuKTTz6hfPnydOnShaSkJK/jifjFkiVL\nuO+++2jevDljx47V622Y8XfZ1xcY6Zwb65zbCPQEjgPdL7fTsWPHaNmyJbNmzWLq1Kk89thjfo4p\n8r8KFCjAgAED2LFjB2+99RaLFy/mtttuo3379pqrQELKkiVLaNmyJXfeeSeTJk0iZ86cXkeSLOa3\nYsDMcgJRwMJz65zvpu4FwGUfc9WzZ09Wr17N3LlzNa2weC5v3rz07t2bH374gVGjRrFu3Tpq1KhB\ns2bNWLp0qdfxRDJk/vz5tGjRgvr16xMfH0/u3Lm9jiQe8GfPQCEgO7DvgvX7gJsvt+OePXtYsmQJ\nDRs29Fc2kWuWK1cuevTowcaNG4mLi2P37t00bNiQ6Oho5syZowmMJOjMmTOH1q1b06hRI2bMmEHe\nvHm9jiQeMX+9gJlZUeBnoK5zbmWa9f8GGjjn/qd3wMyqAwk1a9bk5pv/WC/ExsYSGxvrl6wi6eGc\nY9asWbz66qusXLmSatWqMWDAAGJiYnS9VQLejBkz6NChA82bN2fSpElcd911XkeSaxAXF0dcXNwf\n1h0+fPhcb2WUcy7xWo7nz2IgJ77xAe2dczPSrP8IiHDOxVxkn+pAQkJCAtWrV/dLLpHM5pxjyZIl\nvPbaayxYsIBbb72V5557jgcffFDXXiUgjRs3jkceeYSYmBgmTpyov9MQkZiYSFRUFKSjGPDbZQLn\nXDKQADQ+t858N6w2Br72V7siWc3MaNSoEfPnz2fFihVUrFiRRx55hHLlyjFs2DBOnDjhdUSR8wYP\nHkyXLl3o1q0bcXFxKgQE8P/dBG8Bj5pZFzOrCIwA8gIf+bldEU/Url2b6dOns27dOu6880569+5N\n6dKleeONNzhy5IjX8SSMOefo378/zzzzDAMGDGDUqFHkyJHD61gSIPxaDDjnJgPPAIOAtcAdQFPn\n3K/+bFfEa1WqVGHChAls3ryZtm3b8uKLL1KiRAleeOEF9u27cEytiH+dPn2aRx55hP/85z+88847\nvPrqq5pZUP7A79NLOeeGO+dKOefyOOfqOufW+LtNkUBRtmxZRo4cybZt23j00UcZOnQopUqV4okn\nnmDbtm1ex5MwcODAAZo2bcrEiROZOHEivXv39jqSBCDNNSmSBYoXL85//vMffvrpJ/7+97+fn9Ww\nc+fOfPvtt17HkxC1efNm6tSpw3fffcfChQt1R5ZckooBkSxUsGBBXnjhBX788UeGDh3K8uXLqVq1\nKi1atGDp0qWaq0AyzeLFi6lTpw7Zs2dn5cqVREdHex1JApiKAREP5M2blyeeeIItW7YwYcIEdu3a\nRcOGDalXrx7x8fGcPXvW64gSpJxzvPPOOzRp0oQaNWqwfPlyypYt63UsCXAqBkQ8lCNHjvOXCmbP\nnk3OnDlp164dt99+O2PGjOH06dNeR5QgcvToUTp37sxTTz1F7969mT17NgUKFPA6lgQBFQMiAcDM\nzl8q+OqrryhXrhzdunWjbNmyvPXWWxw+fNjriBLgzo0PmDlzJpMmTWLw4MGaQ0CumooBkQBTv359\nZsyYwXfffcfdd9/Ns88+S2RkJH379mX79u1ex5MAFBcXR40aNThz5gyrV6/mgQ<?xml version="1.0"?>
<!--<!DOCTYPE metadata SYSTEM "http://www.esri.com/metadata/esriprof80.dtd">-->
<metadata xml:lang="zh"><Esri><CreaDate>20160426</CreaDate><CreaTime>14535500</CreaTime><SyncOnce>FALSE</SyncOnce><SyncDate>20160426</SyncDate><SyncTime>14532200</SyncTime><ModDate>20160426</ModDate><ModTime>14532200</ModTime><DataProperties><lineage><Process ToolSource="C:\Program Files\ArcGIS\ArcToolbox\Toolboxes\Data Management Tools.tbx\Merge" Date="20111118" Time="091950">Merge 臺南縣;臺南市 Z:\100臺南千分之一\轉置GIS\行政界\Merge.shp "D_CODE 'D_CODE' true true false 10 Text 0 0 ,First,#,臺南縣,D_CODE,-1,-1,臺南市,D_CODE,-1,-1;D_NAME 'D_NAME' true true false 50 Text 0 0 ,First,#,臺南縣,D_NAME,-1,-1,臺南市,D_NAME,-1,-1;D_NAME1 'D_NAME1' true true false 50 Text 0 0 ,First,#,臺南縣,D_NAME1,-1,-1,臺南市,D_NAME1,-1,-1;AREA 'AREA' true true false 20 Double 15 19 ,First,#,臺南縣,AREA,-1,-1,臺南市,AREA,-1,-1;PERIMETER 'PERIMETER' true true false 20 Double 15 19 ,First,#,臺南縣,PERIMETER,-1,-1,臺南市,PERIMETER,-1,-1"</Process><Process ToolSource="C:\Program Files\ArcGIS\ArcToolbox\Toolboxes\Data Management Tools.tbx\Merge" Date="20111130" Time="212831">Merge Y:\100臺南千分之一\轉置GIS\1130最終撽交\1.數值地形圖地理資訊圖層成果檔(含ESRI之SHP、MapInfo之TAB_MIF_MID格式，需有分幅及全區整合資料)\SHP\TWD97\全區\Town\D_100_SS_Town.shp;Y:\100臺南千分之一\轉置GIS\1130最終撽交\1.數值地形圖地理資訊圖層成果檔(含ESRI之SHP、MapInfo之TAB_MIF_MID格式，需有分幅及全區整合資料)\SHP\TWD97\全區\Town\D_100_SY_Town.shp;Y:\100臺南千分之一\轉置GIS\1130最終撽交\1.數值地形圖地理資訊圖層成果檔(含ESRI之SHP、MapInfo之TAB_MIF_MID格式，需有分幅及全區整合資料)\SHP\TWD97\全區\Town\D_100_SH_Town.shp;Y:\100臺南千分之一\轉置GIS\1130最終撽交\1.數值地形圖地理資訊圖層成果檔(含ESRI之SHP、MapInfo之TAB_MIF_MID格式，需有分幅及全區整合資料)\SHP\TWD97\全區\Town\D_100_SG_Town.shp;Y:\100臺南千分之一\轉置GIS\1130最終撽交\1.數值地形圖地理資訊圖層成果檔(含ESRI之SHP、MapInfo之TAB_MIF_MID格式，需有分幅及全區整合資料)\SHP\TWD97\全區\Town\D_100_MD_Town.shp;Y:\100臺南千分之一\轉置GIS\1130最終撽交\1.數值地形圖地理資訊圖層成果檔(含ESRI之SHP、MapInfo之TAB_MIF_MID格式，需有分幅及全區整合資料)\SHP\TWD97\全區\Town\D_100_JL_Town.shp;Y:\100臺南千分之一\轉置GIS\1130最終撽交\1.數值地形圖地理資訊圖層成果檔(含ESRI之SHP、MapInfo之TAB_MIF_MID格式，需有分幅及全區整合資料)\SHP\TWD97\全區\Town\D_100_GT_Town.shp;Y:\100臺南千分之一\轉置GIS\1130最終撽交\1.數值地形圖地理資訊圖層成果檔(含ESRI之SHP、MapInfo之TAB_MIF_MID格式，需有分幅及全區整合資料)\SHP\TWD97\全區\Town\D_100_AN_Town.shp;Y:\100臺南千分之一\轉置GIS\1130最終撽交\1.數值地形圖地理資訊圖層成果檔(含ESRI之SHP、MapInfo之TAB_MIF_MID格式，需有分幅及全區整合資料)\SHP\TWD97\全區\Town\D_100_AD_Town.shp Y:\100臺南千分之一\轉置GIS\1130最終撽交\1.數值地形圖地理資訊圖層成果檔(含ESRI之SHP、MapInfo之TAB_MIF_MID格式，需有分幅及全區整合資料)\SHP\TWD97\全區\Town\D_100_Town.shp "ID 'ID' true true false 10 Double 0 10 ,First,#,Y:\100臺南千分之一\轉置GIS\1130最終撽交\1.數值地形圖地理資訊圖層成果檔(含ESRI之SHP、MapInfo之TAB_MIF_MID格式，需有分幅及全區整合資料)\SHP\TWD97\全區\Town\D_100_SS_Town.shp,ID,-1,-1,Y:\100臺南千分之一\轉置GIS\1130最終撽交\1.數值地形圖地理資訊圖層成果檔(含ESRI之SHP、MapInfo之TAB_MIF_MID格式，需有分幅及全區整合資料)\SHP\TWD97\全區\Town\D_100_SY_Town.shp,ID,-1,-1,Y:\100臺南千分之一\轉置GIS\1130最終撽交\1.數值地形圖地理資訊圖層成果檔(含ESRI之SHP、MapInfo之TAB_MIF_MID格式，需有分幅及全區整合資料)\SHP\TWD97\全區\Town\D_100_SH_Town.shp,ID,-1,-1,Y:\100臺南千分之一\轉置GIS\1130最終撽交\1.數值地形圖地理資訊圖層成果檔(含ESRI之SHP、MapInfo之TAB_MIF_MID格式，需有分幅及全區整合資料)\SHP\TWD97\全區\Town\D_100_SG_Town.shp,ID,-1,-1,Y:\100臺南千分之一\轉置GIS\1130最終撽交\1.數值地形圖地理資訊圖層成果檔(含ESRI之SHP、MapInfo之TAB_MIF_MID格式，需有分幅及全區整合資料)\SHP\TWD97\全區\Town\D_100_MD_Town.shp,ID,-1,-1,Y:\100臺南千分之一\轉置GIS\1130最終撽交\1.數值地形圖地理資訊圖層成果檔(含ESRI之SHP、MapInfo之TAB_MIF_MID格式，需有分幅及全區整合資料)\SHP\TWD97\全區\Town\D_100_JL_Town.shp,ID,-1,-1,Y:\100臺南千分之一\轉置GIS\1130最終撽交\1.數值地形圖地理資訊圖層成果檔(含ESRI之SHP、MapInfo之TAB_MIF_MID格式，需有分幅及全區整合資料)\SHP\TWD97\全區\Town\D_100_GT_Town.shp,ID,-1,-1,Y:\100臺南千分之一\轉置GIS\1130最終撽交\1.數值地形圖地理資訊圖層成果檔(含ESRI之SHP、MapInfo之TAB_MIF_MID格式，需有分幅及全區整合資料)\SHP\TWD97\全區\Town\D_100_AN_Town.shp,ID,-1,-1,Y:\100臺南千分之一\轉置GIS\1130最終撽交\1.數值地形圖地理資訊圖層成果檔(含ESRI之SHP、MapInfo之TAB_MIF_MID格式，需有分幅及全區整合資料)\SHP\TWD97\全區\Town\D_100_AD_Town.shp,ID,-1,-1;CityName 'CityName' true true false 8 Text 0 0 ,First,#,Y:\100臺南千分之一\轉置GIS\1130最終撽交\1.數值地形圖地理資訊圖層成果檔(含ESRI之SHP、MapInfo之TAB_MIF_MID格式，需有分幅及全區整合資料)\SHP\TWD97\全區\Town\D_100_SS_Town.shp,CityName,-1,-1,Y:\100臺南千分之一\轉置GIS\1130最終撽交\1.數值地形圖地理資訊圖層成果檔(含ESRI之SHP、MapInfo之TAB_MIF_MID格式，需有分幅及全區整合資料)\SHP\TWD97\全區\Town\D_100_SY_Town.shp,CityName,-1,-1,Y:\100臺南千分之一\轉置GIS\1130最終撽交\1.數值地形圖地理資訊圖層成果檔(含ESRI之SHP、MapInfo之TAB_MIF_MID格式，需有分幅及全區整合資料)\SHP\TWD97\全區\Town\D_100_SH_Town.shp,CityName,-1,-1,Y:\100臺南千分之一\轉置GIS\1130最終撽交\1.數值地形圖地理資訊圖層成果檔(含ESRI之SHP、MapInfo之TAB_MIF_MID格式，需有分幅及全區整合資料)\SHP\TWD97\全區\Town\D_100_SG_Town.shp,CityName,-1,-1,Y:\100臺南千分之一\轉置GIS\1130最終撽交\1.數值地形圖地理資訊圖層成果檔(含ESRI之SHP、MapInfo之TAB_MIF_MID格式，需有分幅及全區整合資料)\SHP\TWD97\全區\Town\D_100_MD_Town.shp,CityName,-1,-1,Y:\100臺南千分之一\轉置GIS\1130最終撽交\1.數值地形圖地理資訊圖層成果檔(含ESRI之SHP、MapInfo之TAB_MIF_MID格式，需有分幅及全區整合資料)\SHP\TWD97\全區\Town\D_100_JL_Town.shp,CityName,-1,-1,Y:\100臺南千分之一\轉置GIS\1130最終撽交\1.數值地形圖地理資訊圖層成果檔(含ESRI之SHP、MapInfo之TAB_MIF_MID格式，需有分幅及全區整合資料)\SHP\TWD97\全區\Town\D_100_GT_Town.shp,CityName,-1,-1,Y:\100臺南千分之一\轉置GIS\1130最終撽交\1.數值地形圖地理資訊圖層成果檔(含ESRI之SHP、MapInfo之TAB_MIF_MID格式，需有分幅及全區整合資料)\SHP\TWD97\全區\Town\D_100_AN_Town.shp,CityName,-1,-1,Y:\100臺南千分之一\轉置GIS\1130最終撽交\1.數值地形圖地理資訊圖層成果檔(含ESRI之SHP、MapInfo之TAB_MIF_MID格式，需有分幅及全區整合資料)\SHP\TWD97\全區\Town\D_100_AD_Town.shp,CityName,-1,-1;TownName 'TownName' true true false 10 Text 0 0 ,First,#,Y:\100臺南千分之一\轉置GIS\1130最終撽交\1.數值地形圖地理資訊圖層成果檔(含ESRI之SHP、MapInfo之TAB_MIF_MID格式，需有分幅及全區整合資料)\SHP\TWD97\全區\Town\D_100_SS_Town.shp,TownName,-1,-1,Y:\100臺南千分之一\轉置GIS\1130最終撽交\1.數值地形圖地理資訊圖層成果檔(含ESRI之SHP、MapInfo之TAB_MIF_MID格式，需有分幅及全區整合資料)\SHP\TWD97\全區\Town\D_100_SY_Town.shp,TownName,-1,-1,Y:\100臺南千分之一\轉置GIS\1130最終撽交\1.數值地形圖地理資訊圖層成果檔(含ESRI之SHP、MapInfo之TAB_MIF_MID格式，需有分幅及全區整合資料)\SHP\TWD97\全區\Town\D_100_SH_Town.shp,TownName,-1,-1,Y:\100臺南千分之一\轉置GIS\1130最終撽交\1.數值地形圖地理資訊圖層成果檔(含ESRI之SHP、MapInfo之TAB_MIF_MID格式，需有分幅及全區整合資料)\SHP\TWD97\全區\Town\D_100_SG_Town.shp,TownName,-1,-1,Y:\100臺南千分之一\轉置GIS\1130最終撽交\1.數值地形圖地理資訊圖層成果檔(含ESRI之SHP、MapInfo之TAB_MIF_MID格式，需有分幅及全區整合資料)\SHP\TWD97\全區\Town\D_100_MD_Town.shp,TownName,-1,-1,Y:\100臺南千分之一\轉置GIS\1130最終撽交\1.數值地形圖地理資訊圖層成果檔(含ESRI之SHP、MapInfo之TAB_MIF_MID格式，需有分幅及全區整合資料)\SHP\TWD97\全區\Town\D_100_JL_Town.shp,TownName,-1,-1,Y:\100臺南千分之一\轉置GIS\1130最終撽交\1.數值地形圖地理資訊圖層成果檔(含ESRI之SHP、MapInfo之TAB_MIF_MID格式，需有分幅及全區整合資料)\SHP\TWD97\全區\Town\D_100_GT_Town.shp,TownName,-1,-1,Y:\100臺南千分之一\轉置GIS\1130最終撽交\1.數值地形圖地理資訊圖層成果檔(含ESRI之SHP、MapInfo之TAB_MIF_MID格式，需有分幅及全區整合資料)\SHP\TWD97\全區\Town\D_100_AN_Town.shp,TownName,-1,-1,Y:\100臺南千分之一\轉置GIS\1130最終撽交\1.數值地形圖地理資訊圖層成果檔(含ESRI之SHP、MapInfo之TAB_MIF_MID格式，需有分幅及全區整合資料)\SHP\TWD97\全區\Town\D_100_AD_Town.shp,TownName,-1,-1;TownCode 'TownCode' true true false 11 Text 0 0 ,First,#,Y:\100臺南千分之一\轉置GIS\1130最終撽交\1.數值地形圖地理資訊圖層成果檔(含ESRI之SHP、MapInfo之TAB_MIF_MID格式，需有分幅及全區整合資料)\SHP\TWD97\全區\Town\D_100_SS_Town.shp,TownCode,-1,-1,Y:\100臺南千分之一\轉置GIS\1130最終撽交\1.數值地形圖地理資訊圖層成果檔(含ESRI之SHP、MapInfo之TAB_MIF_MID格式，需有分幅及全區整合資料)\SHP\TWD97\全區\Town\D_100_SY_Town.shp,TownCode,-1,-1,Y:\100臺南千分之一\轉置GIS\1130最終撽交\1.數值地形圖地理資訊圖層成果檔(含ESRI之SHP、MapInfo之TAB_MIF_MID格式，需有分幅及全區整合資料)\SHP\TWD97\全區\Town\D_100_SH_Town.shp,TownCode,-1,-1,Y:\100臺南千分之一\轉置GIS\1130最終撽交\1.數值地形圖地理資訊圖層成果檔(含ESRI之SHP、MapInfo之TAB_MIF_MID格式，需有分幅及全區整合資料)\SHP\TWD97\全區\Town\D_100_SG_Town.shp,TownCode,-1,-1,Y:\100臺南千分之一\轉置GIS\1130最終撽交\1.數值地形圖地理資訊圖層成果檔(含ESRI之SHP、MapInfo之TAB_MIF_MID格式，需有分幅及全區整合資料)\SHP\TWD97\全區\Town\D_100_MD_Town.shp,TownCode,-1,-1,Y:\100臺南千分之一\轉置GIS\1130最終撽交\1.數值地形圖地理資訊圖層成果檔(含ESRI之SHP、MapInfo之TAB_MIF_MID格式，需有分幅及全區整合資料)\SHP\TWD97\全區\Town\D_100_JL_Town.shp,TownCode,-1,-1,Y:\100臺南千分之一\轉置GIS\1130最終撽交\1.數值地形圖地理資訊圖層成果檔(含ESRI之SHP、MapInfo之TAB_MIF_MID格式，需有分幅及全區整合資料)\SHP\TWD97\全區\Town\D_100_GT_Town.shp,TownCode,-1,-1,Y:\100臺南千分之一\轉置GIS\1130最終撽交\1.數值地形圖地理資訊圖層成果檔(含ESRI之SHP、MapInfo之TAB_MIF_MID格式，需有分幅及全區整合資料)\SHP\TWD97\全區\Town\D_100_AN_Town.shp,TownCode,-1,-1,Y:\100臺南千分之一\轉置GIS\1130最終撽交\1.數值地形圖地理資訊圖層成果檔(含ESRI之SHP、MapInfo之TAB_MIF_MID格式，需有分幅及全區整合資料)\SHP\TWD97\全區\Town\D_100_AD_Town.shp,TownCode,-1,-1"</Process><Process ToolSource="c:\program files (x86)\arcgis\desktop10.1\ArcToolbox\Toolboxes\Data Management Tools.tbx\Merge" Date="20160426" Time="145324">Merge D:\NCTU\DATA\Tainan\combine\DATA\永康市\town\D_100_2114245_Town.shp;D:\NCTU\DATA\Tainan\combine\DATA\永康市\town\D_100_2124245_Town.shp;D:\NCTU\DATA\Tainan\combine\DATA\永康市\town\D_100_2124246_Town.shp;D:\NCTU\DATA\Tainan\combine\DATA\永康市\town\D_100_2124247_Town.shp;D:\NCTU\DATA\Tainan\combine\DATA\永康市\town\D_100_2124248_Town.shp;D:\NCTU\DATA\Tainan\combine\DATA\永康市\town\D_100_2134247_Town.shp;D:\NCTU\DATA\Tainan\combine\DATA\永康市\town\D_100_2134248_Town.shp;D:\NCTU\DATA\Tainan\combine\DATA\永康市\town\D_100_2134249_Town.shp;D:\NCTU\DATA\Tainan\combine\DATA\永康市\town\D_100_2144249_Town.shp;D:\NCTU\DATA\Tainan\combine\DATA\永康市\town\D_100_2144250_Town.shp;D:\NCTU\DATA\Tainan\combine\DATA\永康市\town\D_100_2154250_Town.shp;D:\NCTU\DATA\Tainan\combine\DATA\永康市\town\D_100_2154251_Town.shp;D:\NCTU\DATA\Tainan\combine\DATA\永康市\town\D_100_2154252_Town.shp;D:\NCTU\DATA\Tainan\combine\DATA\永康市\town\D_100_2164252_Town.shp D:\NCTU\DATA\Tainan\combine\DATA\永康市\Town.shp "ID "ID" true true false 10 Double 0 10 ,First,#,D:\NCTU\DATA\Tainan\combine\DATA\永康市\town\D_100_2114245_Town.shp,ID,-1,-1,D:\NCTU\DATA\Tainan\combine\DATA\永康市\town\D_100_2124245_Town.shp,ID,-1,-1,D:\NCTU\DATA\Tainan\combine\DATA\永康市\town\D_100_2124246_Town.shp,ID,-1,-1,D:\NCTU\DATA\Tainan\combine\DATA\永康市\town\D_100_2124247_Town.shp,ID,-1,-1,D:\NCTU\DATA\Tainan\combine\DATA\永康市\town\D_100_2124248_Town.shp,ID,-1,-1,D:\NCTU\DATA\Tainan\combine\DATA\永康市\town\D_100_2134247_Town.shp,ID,-1,-1,D:\NCTU\DATA\Tainan\combine\DATA\永康市\town\D_100_2134248_Town.shp,ID,-1,-1,D:\NCTU\DATA\Tainan\combine\DATA\永康市\town\D_100_2134249_Town.shp,ID,-1,-1,D:\NCTU\DATA\Tainan\combine\DATA\永康市\town\D_100_2144249_Town.shp,ID,-1,-1,D:\NCTU\DATA\Tainan\combine\DATA\永康市\town\D_100_2144250_Town.shp,ID,-1,-1,D:\NCTU\DATA\Tainan\combine\DATA\永康市\town\D_100_2154250_Town.shp,ID,-1,-1,D:\NCTU\DATA\Tainan\combine\DATA\永康市\town\D_100_2154251_Town.shp,ID,-1,-1,D:\NCTU\DATA\Tainan\combine\DATA\永康市\town\D_100_2154252_Town.shp,ID,-1,-1,D:\NCTU\DATA\Tainan\combine\DATA\永康市\town\D_100_2164252_Town.shp,ID,-1,-1;CityName "CityName" true true false 8 Text 0 0 ,First,#,D:\NCTU\DATA\Tainan\combine\DATA\永康市\town\D_100_2114245_Town.shp,CityName,-1,-1,D:\NCTU\DATA\Tainan\combine\DATA\永康市\town\D_100_2124245_Town.shp,CityName,-1,-1,D:\NCTU\DATA\Tainan\combine\DATA\永康市\town\D_100_2124246_Town.shp,CityName,-1,-1,D:\NCTU\DATA\Tainan\combine\DATA\永康市\town\D_100_2124247_Town.shp,CityName,-1,-1,D:\NCTU\DATA\Tainan\combine\DATA\永康市\town\D_100_2124248_Town.shp,CityName,-1,-1,D:\NCTU\DATA\Tainan\combine\DATA\永康市\town\D_100_2134247_Town.shp,CityName,-1,-1,D:\NCTU\DATA\Tainan\combine\DATA\永康市\town\D_100_2134248_Town.shp,CityName,-1,-1,D:\NCTU\DATA\Tainan\combine\DATA\永康市\town\D_100_2134249_Town.shp,CityName,-1,-1,D:\NCTU\DATA\Tainan\combine\DATA\永康市\town\D_100_2144249_Town.shp,CityName,-1,-1,D:\NCTU\DATA\Tainan\combine\DATA\永康市\town\D_100_2144250_Town.shp,CityName,-1,-1,D:\NCTU\DATA\Tainan\combine\DATA\永康市\town\D_100_2154250_Town.shp,CityName,-1,-1,D:\NCTU\DATA\Tainan\combine\DATA\永康市\town\D_100_2154251_Town.shp,CityName,-1,-1,D:\NCTU\DATA\Tainan\combine\DATA\永康市\town\D_100_2154252_Town.shp,CityName,-1,-1,D:\NCTU\DATA\Tainan\combine\DATA\永康市\town\D_100_2164252_Town.shp,CityName,-1,-1;TownName "TownName" true true false 10 Text 0 0 ,First,#,D:\NCTU\DATA\Tainan\combine\DATA\永康市\town\D_100_2114245_Town.shp,TownName,-1,-1,D:\NCTU\DATA\Tainan\combine\DATA\永康市\town\D_100_2124245_Town.shp,TownName,-1,-1,D:\NCTU\DATA\Tainan\combine\DATA\永康市\town\D_100_2124246_Town.shp,TownName,-1,-1,D:\NCTU\DATA\Tainan\combine\DATA\永康市\town\D_100_2124247_Town.shp,TownName,-1,-1,D:\NCTU\DATA\Tainan\combine\DATA\永康市\town\D_100_2124248_Town.shp,TownName,-1,-1,D:\NCTU\DATA\Tainan\combine\DATA\永康市\town\D_100_2134247_Town.shp,TownName,-1,-1,D:\NCTU\DATA\Tainan\combine\DATA\永康市\town\D_100_2134248_Town.shp,TownName,-1,-1,D:\NCTU\DATA\Tainan\combine\DATA\永康市\town\D_100_2134249_Town.shp,TownName,-1,-1,D:\NCTU\DATA\Tainan\combine\DATA\永康市\town\D_100_2144249_Town.shp,TownName,-1,-1,D:\NCTU\DATA\Tainan\combine\DATA\永康市\town\D_100_2144250_Town.shp,TownName,-1,-1,D:\NCTU\DATA\Tainan\combine\DATA\永康市\town\D_100_2154250_Town.shp,TownName,-1,-1,D:\NCTU\DATA\Tainan\combine\DATA\永康市\town\D_100_2154251_Town.shp,TownName,-1,-1,D:\NCTU\DATA\Tainan\combine\DATA\永康市\town\D_100_2154252_Town.shp,TownName,-1,-1,D:\NCTU\DATA\Tainan\combine\DATA\永康市\town\D_100_2164252_Town.shp,TownName,-1,-1;TownCode "TownCode" true true false 11 Text 0 0 ,First,#,D:\NCTU\DATA\Tainan\combine\DATA\永康市\town\D_100_2114245_Town.shp,TownCode,-1,-1,D:\NCTU\DATA\Tainan\combine\DATA\永康市\town\D_100_2124245_Town.shp,TownCode,-1,-1,D:\NCTU\DATA\Tainan\combine\DATA\永康市\town\D_100_2124246_Town.shp,TownCode,-1,-1,D:\NCTU\DATA\Tainan\combine\DATA\永康市\town\D_100_2124247_Town.shp,TownCode,-1,-1,D:\NCTU\DATA\Tainan\combine\DATA\永康市\town\D_100_2124248_Town.shp,TownCode,-1,-1,D:\NCTU\DATA\Tainan\combine\DATA\永康市\town\D_100_2134247_Town.shp,TownCode,-1,-1,D:\NCTU\DATA\Tainan\combine\DATA\永康市\town\D_100_2134248_Town.shp,TownCode,-1,-1,D:\NCTU\DATA\Tainan\combine\DATA\永康市\town\D_100_2134249_Town.shp,TownCode,-1,-1,D:\NCTU\DATA\Tainan\combine\DATA\永康市\town\D_100_2144249_Town.shp,TownCode,-1,-1,D:\NCTU\DATA\Tainan\combine\DATA\永康市\town\D_100_2144250_Town.shp,TownCode,-1,-1,D:\NCTU\DATA\Tainan\combine\DATA\永康市\town\D_100_2154250_Town.shp,TownCode,-1,-1,D:\NCTU\DATA\Tainan\combine\DATA\永康市\town\D_100_2154251_Town.shp,TownCode,-1,-1,D:\NCTU\DATA\Tainan\combine\DATA\永康市\town\D_100_2154252_Town.shp,TownCode,-1,-1,D:\NCTU\DATA\Tainan\combine\DATA\永康市\town\D_100_2164252_Town.shp,TownCode,-1,-1"</Process></lineage><itemProps><itemName Sync="TRUE">Town</itemName><imsContentType Sync="TRUE">002</imsContentType><itemSize Sync="TRUE">0.000</itemSize><itemLocation><linkage Sync="TRUE">file://\\USER\D$\NCTU\DATA\Tainan\combine\Arrange\永康\Town</linkage><protocol Sync="TRUE">Local Area Network</protocol></itemLocation></itemProps><coordRef><type Sync="TRUE">Projected</type><geogcsn Sync="TRUE">GCS_TWD_1997</geogcsn><csUnits Sync="TRUE">Linear Unit: Meter (1.000000)</csUnits><projcsn Sync="TRUE">TWD_1997_TM_Taiwan</projcsn><peXml Sync="TRUE">&lt;ProjectedCoordinateSystem xsi:type='typens:ProjectedCoordinateSystem' xmlns:xsi='http://www.w3.org/2001/XMLSchema-instance' xmlns:xs='http://www.w3.org/2001/XMLSchema' xmlns:typens='http://www.esri.com/schemas/ArcGIS/10.1'&gt;&lt;WKT&gt;PROJCS[&amp;quot;TWD_1997_TM_Taiwan&amp;quot;,GEOGCS[&amp;quot;GCS_TWD_1997&amp;quot;,DATUM[&amp;quot;D_TWD_1997&amp;quot;,SPHEROID[&amp;quot;GRS_1980&amp;quot;,6378137.0,298.257222101]],PRIMEM[&amp;quot;Greenwich&amp;quot;,0.0],UNIT[&amp;quot;Degree&amp;quot;,0.0174532925199433]],PROJECTION[&amp;quot;Transverse_Mercator&amp;quot;],PARAMETER[&amp;quot;False_Easting&amp;quot;,250000.0],PARAMETER[&amp;quot;False_Northing&amp;quot;,0.0],PARAMETER[&amp;quot;Central_Meridian&amp;quot;,121.0],PARAMETER[&amp;quot;Scale_Factor&amp;quot;,0.9999],PARAMETER[&amp;quot;Latitude_Of_Origin&amp;quot;,0.0],UNIT[&amp;quot;Meter&amp;quot;,1.0],AUTHORITY[&amp;quot;EPSG&amp;quot;,3826]]&lt;/WKT&gt;&lt;XOrigin&gt;-5372600&lt;/XOrigin&gt;&lt;YOrigin&gt;-10001100&lt;/YOrigin&gt;&lt;XYScale&gt;450310428.58990461&lt;/XYScale&gt;&lt;ZOrigin&gt;-100000&lt;/ZOrigin&gt;&lt;ZScale&gt;10000&lt;/ZScale&gt;&lt;MOrigin&gt;-100000&lt;/MOrigin&gt;&lt;MScale&gt;10000&lt;/MScale&gt;&lt;XYTolerance&gt;0.001&lt;/XYTolerance&gt;&lt;ZTolerance&gt;0.001&lt;/ZTolerance&gt;&lt;MTolerance&gt;0.001&lt;/MTolerance&gt;&lt;HighPrecision&gt;true&lt;/HighPrecision&gt;&lt;WKID&gt;102443&lt;/WKID&gt;&lt;LatestWKID&gt;3826&lt;/LatestWKID&gt;&lt;/ProjectedCoordinateSystem&gt;</peXml></coordRef><copyHistory><copy source="D:\NCTU\DATA\Tainan\combine\DATA\永康市\Town" dest="\\USER\D$\NCTU\DATA\Tainan\combine\Arrange\永康\Town" date="20160426" time="14535500"></copy></copyHistory></DataProperties></Esri><idinfo><native Sync="TRUE">Microsoft Windows Vista Version 6.1 (Build 7601) Service Pack 1; ESRI ArcCatalog 9.3.0.1770</native><descript><langdata Sync="TRUE">zh</langdata><abstract>REQUIRED: A brief narrative summary of the data set.</abstract><purpose>REQUIRED: A summary of the intentions with which the data set was developed.</purpose></descript><citation><citeinfo><origin>REQUIRED: The name of an organization or individual that developed the data set.</origin><pubdate>REQUIRED: The date when the data set is published or otherwise made available for release.</pubdate><title Sync="TRUE">D_100_2114245_Town</title><ftname Sync="TRUE">D_100_2114245_Town</ftname><geoform Sync="TRUE">vector digital data</geoform><onlink Sync="TRUE">\\nas_server2\亞新國土\100臺南千分之一\轉置GIS\1130最終撽交\1.數值地形圖地理資訊圖層成果檔(含ESRI之SHP、MapInfo之TAB_MIF_MID格式，需有分幅及全區整合資料)\SHP\TWD97\全區\Town\分幅\D_100_2114245_Town.shp</onlink></citeinfo></citation><timeperd><current>REQUIRED: The basis on which the time period of content information is determined.</current><timeinfo><sngdate><caldate>REQUIRED: The year (and optionally month, or month and day) for which the data set corresponds to the ground.</caldate></sngdate></timeinfo></timeperd><status><progress>REQUIRED: The state of the data set.</progress><update>REQUIRED: The frequency with which changes and additions are made to the data set after the initial data set is completed.</update></status><spdom><bounding><westbc Sync="TRUE">REQUIRED: Western-most coordinate of the limit of coverage expressed in longitude.</westbc><eastbc Sync="TRUE">REQUIRED: Eastern-most coordinate of the limit of coverage expressed in longitude.</eastbc><northbc Sync="TRUE">REQUIRED: Northern-most coordinate of the limit of coverage expressed in latitude.</northbc><southbc Sync="TRUE">REQUIRED: Southern-most coordinate of the limit of coverage expressed in latitude.</southbc></bounding></spdom><keywords><theme><themekt>REQUIRED: Reference to a formally registered thesaurus or a similar authoritative source of theme keywords.</themekt><themekey>REQUIRED: Common-use word or phrase used to describe the subject of the data set.</themekey></theme></keywords><accconst>REQUIRED: Restrictions and legal prerequisites for accessing the data set.</accconst><useconst>REQUIRED: Restrictions and legal prerequisites for using the data set after access is granted.</useconst><natvform Sync="TRUE">Shapefile</natvform></idinfo><dataIdInfo><envirDesc Sync="TRUE"> Version 6.2 (Build 9200) ; Esri ArcGIS 10.1.1.3143</envirDesc><dataLang><languageCode Sync="TRUE" value="eng"></languageCode><countryCode value="USA" Sync="TRUE"></countryCode></dataLang><idCitation><resTitle Sync="TRUE">Town</resTitle><presForm><PresFormCd Sync="TRUE" value="005"></PresFormCd></presForm></idCitation><spatRpType><SpatRepTypCd Sync="TRUE" value="001"></SpatRepTypCd></spatRpType></dataIdInfo><metainfo><langmeta Sync="TRUE">zh</langmeta><metstdn Sync="TRUE">FGDC Content Standards for Digital Geospatial Metadata</metstdn><metstdv Sync="TRUE">FGDC-STD-001-1998</metstdv><mettc Sync="TRUE">local time</mettc><metc><cntinfo><cntorgp><cntper>REQUIRED: The person responsible for the metadata information.</cntper><cntorg>REQUIRED: The organization responsible for the metadata information.</cntorg></cntorgp><cntaddr><addrtype>REQUIRED: The mailing and/or physical address for the organization or individual.</addrtype><city>REQUIRED: The city of the address.</city><state>REQUIRED: The state or province of the address.</state><postal>REQUIRED: The ZIP or other postal code of the address.</postal></cntaddr><cntvoice>REQUIRED: The telephone number by which individuals can speak to the organization or individual.</cntvoice></cntinfo></metc><metd Sync="TRUE">20111130</metd></metainfo><mdLang><languageCode Sync="TRUE" value="eng"></languageCode><countryCode value="USA" Sync="TRUE"></countryCode></mdLang><mdStanName Sync="TRUE">ISO 19115 Geographic Information - Metadata</mdStanName><mdStanVer Sync="TRUE">DIS_ESRI1.0</mdStanVer><mdChar><CharSetCd Sync="TRUE" value="004"></CharSetCd></mdChar><mdHrLv><ScopeCd Sync="TRUE" value="005"></ScopeCd></mdHrLv><mdHrLvName Sync="TRUE">dataset</mdHrLvName><distinfo><resdesc Sync="TRUE">Downloadable Data</resdesc><stdorder><digform><digtinfo><transize Sync="TRUE">0.000</transize><dssize Sync="TRUE">0.000</dssize></digtinfo></digform></stdorder></distinfo><distInfo><distributor><distorTran><onLineSrc><orDesc Sync="TRUE">002</orDesc><linkage Sync="TRUE">file://\\nas_server2\亞新國土\100臺南千分之一\轉置GIS\1130最終撽交\1.數值地形圖地理資訊圖層成果檔(含ESRI之SHP、MapInfo之TAB_MIF_MID格式，需有分幅及全區整合資料)\SHP\TWD97\全區\Town\分幅\D_100_2114245_Town.shp</linkage><protocol Sync="TRUE">Local Area Network</protocol></onLineSrc><transSize Sync="TRUE">0.000</transSize></distorTran><distorFormat><formatName Sync="TRUE">Shapefile</formatName></distorFormat></distributor><distFormat><formatName Sync="TRUE">Shapefile</formatName></distFormat><distTranOps><transSize Sync="TRUE">0.000</transSize></distTranOps></distInfo><spdoinfo><direct Sync="TRUE">Vector</direct><ptvctinf><esriterm Name="Town"><efeatyp Sync="TRUE">Simple</efeatyp><efeageom code="4" Sync="TRUE"></efeageom><esritopo Sync="TRUE">FALSE</esritopo><efeacnt Sync="TRUE">0</efeacnt><spindex Sync="TRUE">FALSE</spindex><linrefer Sync="TRUE">FALSE</linrefer></esriterm></ptvctinf></spdoinfo><spatRepInfo><VectSpatRep><geometObjs Name="Town"><geoObjTyp><GeoObjTypCd value="002" Sync="TRUE"></GeoObjTypCd></geoObjTyp><geoObjCnt Sync="TRUE">0</geoObjCnt></geometObjs><topLvl><TopoLevCd value="001" Sync="TRUE"></TopoLevCd></topLvl></VectSpatRep></spatRepInfo><eainfo><detailed Name="Town"><enttyp><enttypl Sync="TRUE">Town</enttypl><enttypt Sync="TRUE">Feature Class</enttypt><enttypc Sync="TRUE">0</enttypc></enttyp><attr><attrlabl Sync="TRUE">FID</attrlabl><attalias Sync="TRUE">FID</attalias><attrtype Sync="TRUE">OID</attrtype><attwidth Sync="TRUE">4</attwidth><atprecis Sync="TRUE">0</atprecis><attscale Sync="TRUE">0</attscale><attrdef Sync="TRUE">Internal feature number.</attrdef><attrdefs Sync="TRUE">ESRI</attrdefs><attrdomv><udom Sync="TRUE">Sequential unique whole numbers that are automatically generated.</udom></attrdomv></attr><attr><attrlabl Sync="TRUE">Shape</attrlabl><attalias Sync="TRUE">Shape</attalias><attrtype Sync="TRUE">Geometry</attrtype><attwidth Sync="TRUE">0</attwidth><atprecis Sync="TRUE">0</atprecis><attscale Sync="TRUE">0</attscale><attrdef Sync="TRUE">Feature geometry.</attrdef><attrdefs Sync="TRUE">ESRI</attrdefs><attrdomv><udom Sync="TRUE">Coordinates defining the features.</udom></attrdomv></attr><attr><attrlabl Sync="TRUE">ID</attrlabl><attalias Sync="TRUE">ID</attalias><attrtype Sync="TRUE">Double</attrtype><attwidth Sync="TRUE">10</attwidth><atprecis Sync="TRUE">10</atprecis><attscale Sync="TRUE">0</attscale></attr><attr><attrlabl Sync="TRUE">CityName</attrlabl><attalias Sync="TRUE">CityName</attalias><attrtype Sync="TRUE">String</attrtype><attwidth Sync="TRUE">8</attwidth><atprecis Sync="TRUE">0</atprecis><attscale Sync="TRUE">0</attscale></attr><attr><attrlabl Sync="TRUE">TownName</attrlabl><attalias Sync="TRUE">TownName</attalias><attrtype Sync="TRUE">String</attrtype><attwidth Sync="TRUE">10</attwidth><atprecis Sync="TRUE">0</atprecis><attscale Sync="TRUE">0</attscale></attr><attr><attrlabl Sync="TRUE">TownCode</attrlabl><attalias Sync="TRUE">TownCode</attalias><attrtype Sync="TRUE">String</attrtype><attwidth Sync="TRUE">11</attwidth><atprecis Sync="TRUE">0</atprecis><attscale Sync="TRUE">0</attscale></attr></detailed></eainfo><mdDateSt Sync="TRUE">20160426</mdDateSt><dataqual><lineage><procstep><procdesc Sync="TRUE">Dataset copied.</procdesc><srcused Sync="TRUE"></srcused><procdate Sync="TRUE">20111118</procdate><proctime Sync="TRUE">10063200</proctime></procstep><procstep><procdesc Sync="TRUE">Dataset moved.</procdesc><srcused Sync="TRUE">Z:\100臺南千分之一\轉置GIS\行政界\新市區</srcused><procdate Sync="TRUE">20111118</procdate><proctime Sync="TRUE">10192300</proctime></procstep><procstep><procdesc Sync="TRUE">Dataset copied.</procdesc><srcused Sync="TRUE">Z:\100臺南千分之一\轉置GIS\行政界\成果\D_100_SS__Town</srcused><procdate Sync="TRUE">20111130</procdate><proctime Sync="TRUE">19121500</proctime></procstep><procstep><procdesc Sync="TRUE">Dataset copied.</procdesc><srcused Sync="TRUE">Z:\100臺南千分之一\轉置GIS\新市區\final1130\D_100_SS_Town</srcused><procdate Sync="TRUE">20111130</procdate><proctime Sync="TRUE">19543200</proctime></procstep><procstep><procdesc Sync="TRUE">Dataset copied.</procdesc><srcused Sync="TRUE">X:\100臺南千分之一\轉置GIS\新市區\final1130\TWD97\D_100_SS_Town</srcused><procdate Sync="TRUE">20111130</procdate><proctime Sync="TRUE">20024600</proctime></procstep></lineage></dataqual><spref><horizsys><cordsysn><geogcsn Sync="TRUE">GCS_TWD_1997</geogcsn><projcsn Sync="TRUE">TWD_1997_TM_Taiwan</projcsn></cordsysn><planar><planci><plance Sync="TRUE">coordinate pair</plance><plandu Sync="TRUE">meters</plandu><coordrep><absres Sync="TRUE">0.000000</absres><ordres Sync="TRUE">0.000000</ordres></coordrep></planci></planar><geodetic><horizdn Sync="TRUE">D_TWD_1997</horizdn><ellips Sync="TRUE">Geodetic Reference System 80</ellips><semiaxis Sync="TRUE">6378137.000000</semiaxis><denflat Sync="TRUE">298.257222</denflat></geodetic></horizsys></spref><refSysInfo><RefSystem><refSysID><identCode Sync="TRUE" code="3826">TWD_1997_TM_Taiwan</identCode><idCodeSpace Sync="TRUE">EPSG</idCodeSpace><idVersion Sync="TRUE">7.11.2</idVersion></refSysID></RefSystem></refSysInfo></metadata>
                                                                                                                                                                                                                                                                                                                                                                                                                                                                                                                                                                                                                                                                                                                                                                                                                                                                                                                                                                                                                                                                                                                                                                                                                                                                                                                                                                                                                                                                                                                                                                                                                                                                                                                                                                                                                                                                                                                                                                                                                                                                                                                                                                                                                                                                                                                                                                                                                                                                                                                                                                                                                                                                                                 7zzg0sDbT8ALzvnhgW+Pxvv3F8P59ykk25MREREzphw68HI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"TRUE">TWD97</identCode></refSysID></RefSystem></refSysInfo><spatRepInfo><VectSpatRep><topLvl><TopoLevCd Sync="TRUE" value="001"></TopoLevCd></topLvl><geometObjs Name="RF27_99_City"><geoObjTyp><GeoObjTypCd Sync="TRUE" value="001"></GeoObjTypCd></geoObjTyp><geoObjCnt Sync="TRUE">0</geoObjCnt></geometObjs></VectSpatRep></spatRepInfo><eainfo><detailed Name="RF27_99_City"><enttyp><enttypl Sync="TRUE">RF27_99_City</enttypl><enttypt Sync="TRUE">Feature Class</enttypt><enttypc Sync="TRUE">0</enttypc></enttyp><attr><attrlabl Sync="TRUE">FID</attrlabl><attalias Sync="TRUE">FID</attalias><attrtype Sync="TRUE">OID</attrtype><attwidth Sync="TRUE">4</attwidth><atprecis Sync="TRUE">0</atprecis><attscale Sync="TRUE">0</attscale><attrdef Sync="TRUE">Internal feature number.</attrdef><attrdefs Sync="TRUE">ESRI</attrdefs><attrdomv><udom Sync="TRUE">Sequential unique whole numbers that are automatically generated.</udom></attrdomv></attr><attr><attrlabl Sync="TRUE">Shape</attrlabl><attalias Sync="TRUE">Shape</attalias><attrtype Sync="TRUE">Geometry</attrtype><attwidth Sync="TRUE">0</attwidth><atprecis Sync="TRUE">0</atprecis><attscale Sync="TRUE">0</attscale><attrdef Sync="TRUE">Feature geometry.</attrdef><attrdefs Sync="TRUE">ESRI</attrdefs><attrdomv><udom Sync="TRUE">Coordinates defining the features.</udom></attrdomv></attr><attr><attrlabl Sync="TRUE">ID</attrlabl><attalias Sync="TRUE">ID</attalias><attrtype Sync="TRUE">Number</attrtype><attwidth Sync="TRUE">10</attwidth></attr><attr><attrlabl Sync="TRUE">CityName</attrlabl><attalias Sync="TRUE">CityName</attalias><attrtype Sync="TRUE">String</attrtype><attwidth Sync="TRUE">8</attwidth></attr><attr><attrlabl Sync="TRUE">CityCode</attrlabl><attalias Sync="TRUE">CityCode</attalias><attrtype Sync="TRUE">String</attrtype><attwidth Sync="TRUE">11</attwidth></attr></detailed></eainfo><mdDateSt Sync="TRUE">20110818</mdDateSt></metadata>
                                                                                                                                                                                                                                                                                                                                                                                                                                                                                                                                                                                                                                                                                                                                                                                                                                                                                                                                                                                                                                                                                                                                                                                                                                                                                                                                                                                                                                                                                                                                                                                                                                                                                                                                                                                                                                                                                                                                                                                                                                                                                                                                                                                                                                                                                      '
                      ��     &X��AB\iA*VCA�u���lA����hCA                                   2   (   ^ +N +�  � 1<  � 58   =T  � VP  l� ��  � Ӵ  5� 	�  �~ �  � ��  8 �   � ��   � ��  *� (X  6� _L  � {�  � ��  	� �X  @ ��  
� ��  � ��   � ��   � �t  � �   x �|   ׈   ؔ  � �  #� 	l  � 8  � �  � �  � 0<  � 4�  p 6L   � 7  ( 8D    >H  p ?�  � Ah  � M\  � QH  %� w<   yX  � {�  P H  :P ��  � ш   h ��    �  � ��  � �   �  � �   � �\   � �   � �   � �P   p ��   � �   � �<   p �    �   ��   ` �4   � ��   � ��   x �      $  h �   �    �    � �  � p    t   �     h l   p �   � d   � �   h 	T   � 
   � 
�   � P   ` �   p (  � �   �   � T   �    	� �  @ (  � /�  � 6h   <|  � H@  � ^�  h kP   rd  @ ��  $� �d  0 ��  x �   �   � ��  � ��  H �    �0  x Ȭ  H ��  @ �<  
p ذ  � �|  ` ��  P �4  P �  @ ��    ��  � �t   ( ��  0 �  0   � �  � �   (    0 8  0 l  � %H  � ,$   2@  � 4�  X 90  	 B<  � H�  � Ml  � OP  � X  � ^�   r�  � v�    y�  � �p    �t  ( ��  � �t  H ��  � ´  ( ��  � Ȅ   ͘  � ҄  p ��  � ޴   ��  h �<  P �  � �L  � �H  ` ��  8 ��  � ��   �  � �  � �   � H  � >  � 4   @  @ �  � H  �   � �  � "�  p $H  �  �L  ( �x   � �D   � �    �   H �h  < ɨ  ( ��  � ߢ   ��   ��  � �   l 	  p 	�   � 	   H 	^   h 	�   P 	  � 	3  r 	?�  P 	B�   � 	CZ  ( 	D�  � 	H�  f 	I�  � 	O�  � 	Rv   x 	R�   0 	S&   h 	S�   P 	S�   � 	Tr   X 	T�   X 	U*   P 	U~   @ 	U�   @ 	V   P 	VZ   X 	V�   B 	V�   P 	WP   ` 	W�   P 	X   X 	Xd   � 	Y    x 	Y|   X 	Y�   � 	Z|   � 	[  � 	\�   	]�   � 	^|   � 	_   � 	_�   � 	`�   � 	a�   � 	b    H 	bl   h 	b�   � 	c�  @ 	d�   	e�  �� 
S� Y\ �  � �   @ �T  � �  � Ĭ  � �X O� "(  � $�   %�  ( '�  � +�   ,�  8 -�  x /T  h 1�   2�   � 3�  X 6  x 7�  H 8�  � :�   � ;|  � =0  � >�   ?�  � AL    Cp  � Fd  P H�  � J�    K�  � M4    N8  X O�   ` O�   � P�   R�  p Tl  @ U�   � V�   W�   � X�  � Z8  � ]   p ]x   � ^4   bP  p c�  P e  � f�  P h(  � l�  � nh   � o  H ph  � r   b r�   � sv   � tj   uv  @ v�   � w^   � w�   � x�  ` {J   ` {�   � |b  @ ~�  x �"  @ �f   � �"   � �   � ��  8 ��   �  � ��   � ��  � ��  8 ��  @ �&  X ��  ( ��  0 ��    �   � ��   X ��  � ��   � �~   � �"   � ��  � ��   � �^   � �  ,h �n   � ��   � ��  � ւ  X ��   � �z   � �6  X ڒ  H ��    ��   � ݎ  p �  � �  � ��  � �  �   0 F    J  �� �.  � �L   �`  � �$  v  �  � �  � t  � P  
` �  � p  � T   p �  
 "�  � =�  ` ?
  x B�  � H   � H�  x JB  � L  � N�  � Q   � Q�   � R�  	� \*   ]>  P ^�  � d  � g   � g�  ( h�  ( j   k:  � n�  ( q   s  � u
  � v�  x x
  	 �  � ��  � �F  � �  x ��  � �z  p ��  � ��  X ��  � κ   ��  X 2  � �  !P >:  H @�  � Mj  � f  H gR  0 h�  � yJ  � �&   � �  � ��    ��  � �v  P ��  p �>  � ��  H �.   � ��  8� ��  8� 3�  � ?.  � B�  � H�  18 z  	� ��  8� ��  :� �.  x ��  ( ��  � �z  � �  �  �  � f  � 
  � �  `    &   � 	
   � 	�  ( 
�  ( �  ( *  ( V  ( �   � ^   � B   � &   �    � �     X n  0 �   � N  H �  x    � !�   � "�  � )    F    b"  h g�  � m  � t�  � yZ   � zV  � {�  X }V  8 �   � �&   � ��  5  �  � Ъ  � ҆    Ӫ  � �f   � �R  � ��  @ �*  � �   � �   � ��  p �Z  � �   � ��  ( �  0 �B  � ��  � ��  � �~   � �"   � ��  ` �*  ` �   �  ( �   � �  X   8 R  X �  � z   p �   
       B   � 6   J  � "  0 $:   )V   � *  � /�  p ;
    C.   � C�   E   � E�   � F�   � Gr   � H  � I�   K�  8 L�   � M�  � Oj    Q�  � T�   � U~  H V�   W�   � X�   � Y.   � Y�   � Zv   � [   � [�  � ^�  � `V  � a�  P cF   � d:  H e�   � fZ  P i�  � kj  h l�  � o�   � pF  @ q�  H s�  ( u   � u�  x wZ    y^  P z�  � |�  8 ��  p �N  � �2  � �.    �2  � �  � ��   � �>  X ��  0 ��  0 �  � ��   � ��   ��  H �   �.    �2  � �.  � ��  0 �  ( �:  � �&   � �  P �f  � �R  � �>   �R  � ��  � �  � �  � j  0 �  0 �  � �  � �  � ^  � %:  � (�  � -�  � J6  	� S�   Y�  P \*  x m�  � yj  � ~�  P �J  � �6  � ��  � �v  � �R  � �6   �B   � ��   ��    �  x ��   ��  � �j  x ��   �  X �^  � �:  � Ⱦ  p �2   �F  8 ��  � >  � �  p n  	�   � �  � �  @ �  � !�  P &�  @ 6  � :�   ` ;B  � A  x D�  ` J�  � M�  � T6  @ `z  � bf  � d:  0 gn   i�  � lN  � o2  � u  ` x�  0 z�  � ~�  	� �n  lH ��  � T  #� 7:  � 8�  ( ;    [.   � [�  P u   8 uB   j u�   � v~   x v�   x wv   X w�   X x.   � x�   @ y&   ` y�   X y�   ` zJ   � {.   P {�   � |>   x |�   X }   H }b   H }�   H }�   H ~F   H ~�   H ~�   @ "   @ f   P �   @ �   P �R   P ��   � �B   � ��  � �J   � �>   � ��   � ��   x �   � ��   p ��   � ��   X �
    �   H �Z   � �  x ��   � �&   � ��   x �F   � ��  � ��  �� 0J   X 0�   P P�   P QN  \ X�  � ZJ  � p�  p rZ  0  �~   ��  `X �   ` $Z  � 5�   X 6B  � 7�  m �  � ��  P ��   �
  ( �6    �Z  � @f  X B�   @ C  P DZ   En   x E�   � F�   � GZ  �� �  �
 �   ` �t   h ��   � �t   � �   � ל    ��  � �T   H � � Ѱ  R �  	  �
  � ��  x �L   � ��  � �   ��   � �  ( �   ��  	@ �  � �  � � �8  ��  
@  �0  h  ��   �  �   �  �   h  �p    �|   h  ��   �  ��   �  ��   �  �t  H  ��   x  �<   �  ��   �  �T    �h   x  ��   �  �x   p  ��   �  �x    Ȍ   �  �  `  �t   �  �0   x  ˬ  P  �   0  �4  8  �p  �  ��  �  ր   �  �t  p  ��    �  @  �H   �  �4   �  ��   �  ��  0  �   �  ��   � ! `  8 !�  � !(  P !|  @ !
�  � !t   � !p  � !D   � !    !  X !p  � !T  � !"�  @ !$$    !%H  � !C� � "^�  � "m�  � "u   8 "{\  � "��  h "�T    "�x  X "��  p "�H   "�d   � "�8   � "��  h "�8    "�\   "�h   � "�   � "��   � "��   � "�p  � "�  8 "�X   � "�<   � "�8   � "�,  ( "�X   "�t  � "��   "�  @ "�H  � "��  0 "�  ` "�t  ` "��   � "�d L #̴ *� $�z  @ $��  ƨ %�j  � %�   � %ʪ   � %�n   � %��   � %̎  H %��  	P %�.   � %�  � %��  ` %�:  @ %�~    %�  P %��  ( %�"  ( %�N   � %��   � %��   h %�R  %� &&  0 &Z  � &�   � &�   � &v   � &R   � &  � &�   � &V  Z &sb   � &tN   � &t�  � &{�  � &~�  � &�n  � &�  p &�v  p &��  fp &�^  h '�  "P '@  0 'AR  8 'B�  8 'C�  8 'E   � 'E�  � '_�  $( '��   h '�.  $� '��  .@ '�>  3� (*�  � (G�    (b�  � (v�  @ (��  � (��  � (�j    (�n  
 (�z  h (��  	� (��  p (�6  �� )s�  pP )�&  k  *O*  X *P�  $� *uB  �  + f   � +"  p +�  X +�   +#�  � +8�  � +O�  h +f2  �� ,�   � ,�   ,�   � ,j   � ,   � ,�  P ,F  0 ,	z  � ,F  � ,"   � ,�   � ,�  X ,�   � ,�   p ,>   x ,�   � ,^   � ,J   P ,�   p ,    ,   � ,  � ,�   ,�  	� ,#v   ,'�   � ,(   � ,(�   � ,)6   � ,)�   � ,*�   x ,+   � ,+�   p ,,"   � ,,�   � ,-J  p ,/�   � ,0�  ( ,1�   � ,2b   � ,2�  @ ,6B    ,9f   � ,:J   � ,;F  X ,<�  X ,=�  X ,?Z  � ,@�  x ,Br    ,C�    ,D�  ( ,E�  � ,G�  � ,I�  � ,KZ  � ,L�  � ,N�  p ,P   � ,P�   � ,QF  � ,S"  h ,T�  h ,U�  � ,W�  � ,Yb   � ,Z   ,[   � ,[�   ,`�  X ,c  � ,e�  x ,hV  ( ,j�  H ,m�   ,n�  0 ,r  � ,s�   ,t�   ,v  h ,w~   ,y�   � ,z�  '
���p                  z� #�A������AClC����A�r���ACxm�~�                                       2 �, �b  � ��  � ��  �   � �  � F  � �  � n  � 	  � 
�  �   ` �  �   � �  � >  � �  � f  � �   � �  � V   � �  � r  �   � �  �  .   �  �     �  � "f  � #�  � %�  � '"  � (�  � *J  � +�  � -r  � /  � 0�  4 1�    1�   2�   p 3f  � 4�  � 6�  � 8"  � 9�  � ;J  $ <r   � =r  � ?   � ?�  � A*  � B�  � DR  � E�  � Gz  � I  � J�   D J�   < K*  � L�   � Mv   4 M�   ( M�  � On  � Q  � R�  � T*  � U�  � WR   Xn  � Z  � [�  � ]*  0 ^^    ^~  � `  \ ar  h b�  � dr   � en  � g  � h�  � j*   L jz  � l  � m�   4 m�  � on  � q  � r�  $ s�   ( s�   � t�   � u  d v~   � w:   , wj  � x�   \ y^  � z�  � |�   $ |�  � ~B  � �  � �j   x ��  � �z  � �  � ��  � �6   � ��   @ ��  � ��  � �&   � ��    �  � ��   ��  � �N   � �J  � ��  � �r  � �  � ��   � �B  � ��  � �j  � ��  � ��   � �  \ �z   ��  � �  � ��  � �>  | ��  � �R   4 ��    ��    ��    ��  h �    �*  H �v   � �V   | ��    ��  � �r    ��   0 ��    ��   � ��  � �"   �>   �F  � ��  � �n  � �   � ��  � �.  � ��    ��  � �r  \ ��  � �f  � ��  � Ŏ  t �   $ �.  � ��  � �V  � ��   , �  � ͮ   d �  � Ϫ  � �>  � ��    ��  � �r   < Բ  � �F   � �6   < �v  � �  � ښ   � �j  \ ��  � �^  � ��   4 �*   � �  � �   � �  � �&  � �  � �N  � ��  � �v  � �
  � �  8 ��   x �V  � ��  � �~  � �  � ��   ( ��  � �f  | ��  � �z  0 ��  � �B  � ��  8   � �  � :   J  4 �    �    �   L �   � �     �   $     *    J   � �   � 	�   � 
N  � �   � �    �   \ &  � �   x 6   P �    �   $ �   \    � �   � v   ( �    �    �  4 �       � �  P �  � ~  �   � �  � 6   � �  t :  � �   �  � !z   � "  � #�  � %.  � &�  � (V  0 )�    )�  � +2  d ,�  � ..   | .�  � 0B   � 0�  � 2f   � 3^   < 3�   � 4r  � 6  H 7R    7Z    7f    7~    7�    7�    7�   � 8�  8 9�   , 9�   0 :*  � ;�   � <B  4 =z   4 =�   >�  D @   � @�  � B*   4 Bb   � C2   H C~   � D:   � E   � E�  h G   � G�  � Iv  � K
   � K�  � M�  X N�    N�   P  � Q�   $ Q�   � RV    Rr  @ S�     S�   T T2  � U�   V�   � W�  � Yb   L Y�  � [F  � \�     \�    ]  8 ^J    ^b    ^v    ^�    ^�   L ^�   \ _B   d _�     _�   8 `
    `   \ `r    `�    `�    `�   T a   d aj   8 a�   X b   X b^   � b�  � d�   $ d�  � fF  � g�    g�   ` hR   � i2   � i�   $ i�   0 j    j*    jF    jR    jb    jv   � k"   h k�   T k�   � l�  � n&   8 nb    nr    n~   0 n�  � pF     pj   � qV  � r�   � s�   0 t    t  � u�   � v�   � w6     wZ  x x�  � zj   t z�  � |v  � ~
  h v  � �
   � ��   � �z    �~   t ��  � ��   T ��   ��   ��  � ��    ��  � �&   � ��  � ��   L ��  � �j  � ��   � ��  � �Z  � ��   � ��    ��  � �f  � ��  L �J  � ��   @ �  � ��  � �B    �b  � ��  T �N  � ��  � �j  � ��    �   �   � �   � ��  � �R   p ��  � �Z  � ��   D �6  4 �n    �z    ��    ��    ��    ��   $ �    �   �&    �6   p ��   h �   @ �Z  � ��   @ �2   $ �Z    �v   , ��   ` �
  @ �N  � ��   d �J  \ ��   \ �
    �    �2   @ �v   � �&  L �v   l ��   � ��  � �R   � ��   � ª   � Æ   L ��   P �*  � ž    ��   \ �B   � ��  L �   � ��    �   , �>   �V  8 ̒  � �&   h Β   � �V  � ��  � �~  � �  � զ   � �.  � ��  � �V  L ڦ  � �:  � ��  � �b    �v   @ ߺ    ��  h �F   � ��  � �  $ �   � �  � �:    �^   ` ��  � �V   � �*    �F    �R   � �2  ( �^    �~   � �V  � ��  p �^   � ��  � �  � �  d ��  � �   T �n  t ��  � �j    �v  8 ��  � �F   � ��  �  ^  � �  d Z    v  � 
   � �   0 *    :    N    V    f    v   � :    J   H �   P �    
   h v   4 �   D �   p 	j   h 	�    	�    	�    
    
   ( 
J   ` 
�   P    4 :   H �   D �   � n   d �   P *   $ R    j    �   t �    
  � �   D �    �    �        :    B    N   0 �   �         *    >    ^    j    �    �    �    �    �    �        *     N   @ �   p        \ v    ~   H �   � Z    f    �    �    �    �    �    �    �   d F   � �   ( *   �    | �  � *   ( V    b    n  �     
  � �  � 2   D z  �    � !�   � "z   < "�   ( "�   @ #*  H $v   � %v   < %�   � &�  � (*   � (�    (�   � )b   @ )�    )�   � *�  � ,B    ,^   8 ,�   d -   , -2    -B  � .�   ( /   � /�   � 0�   h 16   � 2  � 3�   < 3�   4 4&   4 4^   � 5J   � 5�  � 7j   p 7�  � 9r   � :
  h ;v  � =
   � =�    =�   , >    >.    >:   � >�  d @b   d @�   t AB    A^  $ B�  x D   � D�    D�   x E"  � F�   � G�   ` G�    I  D Jf   � KR   LZ    Lf  � M�   d N^  � O�   \ PR   ( P~   � Qj  � R�   � S�   8 T"    T*    TB    TV    Tb    T~    T�    T�    T�    T�   T U   � U�    U�    U�    U�     U�   h VR   x V�   � W�   0 W�    W�    W�    X     X&   ( XR   � Y:   � Z*    Z2   � [.   8 [j   � \    \"    \*   L \z   , \�   , \�   0 ]   x ]�    ]�   T ]�   $ ^   � ^�   8 _   `   � `�     a   T aZ   P a�   L a�   4 b6   ( bb    bz    b�   P b�  � dn   | d�   T eF  D f�   ` f�   � g�    g�   T g�   t hn    hv     h�    h�   � i2   jN   � k*   � k�   � l�  ` m�   � n�   � o�  � qn  � s  � t�   X t�  l vb  � w�   � x�  � z�  � |   � |�  � ~N  � �   P �6  � ��   l �:   � �*    �B    �b   < ��   ��  � �J   � ��   �   | ��  � �&   � ��  � ��   � �N   � �F    �b   � �>   � �
    �    �    �.    �6    �F   � �   � ��   � �^   P ��   @ ��   0 �*   ( �V    �^     ��   ( ��  0 ��  � �v   4 ��    ��  � �f  h ��  X �.   \ ��  D ��   � �j    �v   p ��  l �Z   � ��  � ��  | �  � ��   \ �   � ��    ��    ��  � �B    �R    �n    �v    ��     ��    ��    ��    ��    ��    �
   � ��     ��    �   � ��   0 ��   X �:   ( �f   4 ��   D ��     �
    �*   t ��   , ��     ��    �   $ �6    �R   8 ��   D ��    ��    �   , �2   x ��   T �    �   @ �^   D ��    ��   < ��    ��    �    �2   t ��   t �"   , �R   < ��   $ ��    ��   4 ��   < �>   , �n   4 ��   � �j   � �
   T �b   T ��   , ��     �   H �Z    �r   ( ��   � �N   p ��   � �J   �Z   � �   4 �J   8 ��    ��    ��    ��   $ ��   ( �     �:    �J    �j    �r   � ��   < �>    �Z   ( ��   | �   | ��  8 ��    ��  � �^    �n    ��   ��   \ �    �
    �"    �.    �>    �F     �j    ��    ��    ��    ��   < ��    �
   � ��    ��    ��    ��   D �>     �b   $ Ê    ê    ú    ��    ��   \ �:   @ �~    Ď   , ľ    ��   0 �    �"    �:   8 �v     Ś    Ţ    Ū    ź    ��    ��    �    �    �    �   @ �b   � �J    �R  $ �z     Ȟ    Ȳ   � ɒ  � �&   p ˚    ˢ    ˺    ��  � �V   � ��   � ξ    ��   , �    �   $ �6   0 �j  t ��  \ �B  � ��  � �j   \ ��    ��  � �j  � ��    �  � ڦ   d �    �"     �F     �j   ( ۖ   ܮ   � �Z   �z   � �b    �v   � �*   � �   �*  � �  � �F  ` �   8 ��    ��  � �   4 �   T �    �"   � ��  � �     �   p �  � �    �   ` �"   | �   t �   t �   � �V    �j   p ��  � �r    �   | �  � ��    ��  , ��    ��  ( �   � ��   H ��  � ��    ��   � �Z   X ��   � ��   h ��   h �f  ( ��  , ��   ��   �  �  H "   � �  � �  �    "   � �  � 	B   ( 	n  �    @ F   8 �   �  � &   � �        2    B    N    j  � �   � �   p �  | v   � n  �    � �   p Z  � �   � �  h �      � �    �   �  X  J   � !F   T !�    !�   0 !�     "   d "~   � #~  � %    %   4 %V  � &�  0 (   � )    *   � *�   � +�   � ,�   $ ,�   � -�   d .6  � /�  D 1    12    1>   � 22   T 2�  � 4   � 4�   4 4�    4�   ` 5Z  L 6�   � 7�   � 8:   9V  � :�  � <v   � =R  � >�  � @z   0 @�   \ A    A"   � A�    A�   L B&    B6    BJ    BZ    Br    B�   h B�   L CF    Cf    Cr    C�   < C�   , C�   ( D*   � D�   8 D�   h Ef    Er  � G   x G�    G�  � I"   X I~   , I�   X J
    J    J*    J:    JJ     Jn  L K�   � Lz   � MB   � N"   � O  \ Pv   � QB  � R�   0 S
   � S�    S�   4 S�   ( T   � T�    T�   , U*    U2   8 Un   L U�   L V   H VZ    Vz    V�   P V�    V�   < W2   � W�   @ X:    XV    Xv   X X�   � Y�   8 Y�   ( Z    Z   � Z�   � [F    [V     [z  � ]   0 ]B  � ^�   | _V   \ _�   � `�   4 `�   $ a
   D aR   $ az   @ a�   p b2    bF     bj    b�   H b�   ( b�    c    c.   $ cV    c^   dv    d�  � f&   < ff   g�   $ g�   4 g�   � h�   d i   ( i:   h i�   � j6   H j�   0 j�     j�   H k&   ( kR   L k�   ` l     l*    l>    lV   d l�   � mJ   nZ   t n�   � o�    p�   � qr   L q�   H r   � r�   � s�  h u   t u�   � vz   � w^   xv   � yV  � z�   |  � }�  � .   � �  � �z    ��   � �&  � ��   � ��  � �"    �B  � ��  � �j   4 ��  � �6   \ ��  � �*   $ �R  � ��   � ��   � ��   0 ��    ��    ��    ��    �
    �   �&   x ��    ��    ��  � �v   P ��   | �J   � ��   t �V   | ��   � �r  � �  � ��   t �   �  � ��    ��  � �R   0 ��   0 ��   � ��    ��   � �N  � ��   d �J   � ��  x �^    �r     ��     ��    ��    ��    �   � ��   $ ��   � ��   @ �   < �^  � ��    �   p ��   � �v    ��    ��   < ��    ��   H �J   T ��  t �    �"    �2  � ��    ��    ��    ��  � ��    ��   8 ��  � �v   � �   T �f  � ��   8 �6   � �   \ �b   8 ��    ��  � �N   � �  ` �r  | ��    ��    �  � ��  � �     �B   , �r   � ��  � Ò   d ��  � Ŏ   d ��  � Ǌ   t �  � ɖ  $ ʾ   � ˺  � �N   � �  h �n     ϒ  � �&   � Ѿ   , ��   � ��   0 ��   � ӆ  H ��   � Ն  H ��   ( ��   � ��    ��    ��    �    �    �.   � ��     ��    �   � ٖ   8 ��    ��   8 �&   , �V    �r    چ    ڒ    ڮ     ��   $ ��   ( �&   < �f    �n   $ ۖ    ۦ    ��    ��    ��     �    �"    �.    �B    �R   @ ܖ    ܶ    ��    ��   t �J    �b   X ݾ   L �    �.     �R    �r    ކ    ގ   < ��    ��    ��    �   $ �:    �B    �V     �z    ߊ   4 ��    ��   0 �    �&    �>    �R     �v     ��    �    �    ��    ��    ��    �    �6    �J    �V    �^    �z     �    �    ��   ( ��   L �F   , �v   < �    ��    ��    ��    ��    �    �2    �B    �J   0 �~    �     ��   X �   ( �J   < �   T ��   � �    ��   ��    ��   H �:   H �    �    �    �    ��    ��    ��    �    �"    �>    �^    �f    �    �    �    �    ��    ��   T �>   8 �z    �     �    ��    ��    ��    �
     �.   | �    �    ��   � �Z   l ��     ��     �    �2    �J    �R    �b    �n    �     �    �    ��   � �b    �j    �    �    �    �    ��    ��    ��    ��    �    �:   l �    �   8 ��    �    �.    �N    �f    �~   8 �    ��    ��    �   8 �B    �^    �r    �z    ��    �   ( ��    ��    �   < �F   < �    �   H ��    ��    �   $ �*    �:    �J     �n    �   � �   < �N    �^   t ��    ��    ��    �    �"    �*    �6    �>    �V   ( �    �    ��    ��   D ��    ��    �
   � ��   � �^    �r   $ ��   $ ��   � �N    �n   0 ��    ��    ��   � �z   | ��   � ��   4 ��   X �*    �J    �Z    �b   � ��   � ��    ��    ��    �    �&    �6    �B    �V   � ��   \ �V   � �&  � ��    ��   �  N   (  z     �     �     �     �   � �   �   � >   4 v    �    �    �    �    �    �   4    @ R   �    T ^   � �   � �    �   � �   ` �        *   8 f    v   L �   � 	n   � 	�   � 
�   � �   |    d z   ` �    �   $     .   � �    �   (    � �    �    �     "    .   $ V    v    �    �   P �   x n   d �    �    
   X f   4 �   �   @ �   ( *    B    ^   ( �   8 �    �    �   � n   �    �   � r    ~   L �   � R   �   T n   � 6   $ ^   � �   p b     �    �    �   8 �    �        
     .   , ^   � 
   � �   D �   @    �    < R   x �   �  j     �   (  �   | !2   $ !Z   � "6   #>   P #�    #�   8 #�   D $2   P $�   X $�   t %Z   T %�   � &b   � '*   � (   � (�     )"    ):   � )�   *�   � +r   � ,j   � -&   $ -N   ( -z   � .
   � .�   � /�   � 0~    0�    0�    0�    0�    0�   1�   4 2"   | 2�  � 46    4J   P 4�   � 5>   � 6    66   D 6~    6�    6�   x 7    7.  < 8n    8�   � 9  D :b    :v   0 :�   � ;.   <J    <R  � =�   P >:    >Z   , >�    >�   0 >�   � ?v  d @�   � A�    A�   D B*    BF    BN   D B�   � C6   � C�   $ D    D   � D�   4 D�   x Er   � F   P Fr   ` F�   � G�   � HZ   � H�   � Ir   x I�     J    J    J6   @ Jz   t J�   $ K    K&   D Kn   � L6    L>    L^    Lv    L�   ( L�    L�   \ M2   L M�   � N   h N�    N�    N�    N�   L O   d Oz  T P�    P�    P�   � Q�   4 Q�    R
   , R:  D S�    S�    S�   � TN   � T�   d U:   � U�   � Vr   � Wb   � X6   � X�   � Y�    Y�    Y�   $ Y�    Z    Z    Z.    Z6    Z>    ZV    Zj    Z�    Z�    Z�   8 Z�    Z�   h [j    [z   h [�   @ \*     \N    \b     \�    \�    \�    \�    \�   ( ]
   4 ]B    ]J   $ ]r   @ ]�   4 ]�    ^   X ^b     ^�    ^�  ( _�   $ _�   � `z   � aV    ar   � a�   � b�     b�     b�    b�    c    c    c    c6    cN   | c�   p dB   X d�   � e"   X e~   � f   � f�   � g�   � hz   i�   @ i�    i�   L j6    jJ    jZ   0 j�   | k   T kf    k~    k�    k�    k�   ( k�    k�   H lJ    lZ    lj    l�   , l�    l�    l�    l�   $ m    m    m6   ( mb   T m�   � n>   < n~    n�   p o
    o     o>    oN   $ ov    o�   @ o�     o�    p    p.    pF     pj     p�   $ p�    p�    p�   � q�   0 q�   0 q�   � r�   p s>   4 sv   t~   0 t�   ` u   @ uZ   , u�    u�    u�   , u�    u�    u�   < v>   P v�   $ v�   0 v�   @ w2   � w�    w�    x    x*   , xZ    xf     x�   $ x�   8 x�    x�    y    y*    y6   L y�    y�   ( y�   � zr   L z�    z�   � {�   � |:   � |�   � }�   X }�   � ~�   0 ~�    ~�   � N   @ �    �   l �   , �N   0 ��    ��   | �    �&   8 �b   , ��    ��    ��    ��   0 �   < �R     �v    ��    ��   T ��    �   8 �N    �^    �f     ��    ��    ��   $ ��    ��    ��   0 �    �6   d ��   X ��   � ��     ��   l �   P �r   ( ��     ��    ��   , �
   � ��     ��   D ��   t �v   � �   � ��    �   � ��   h �J   D ��   l �   h �n   � �Z   ( ��   � �R   � ��  � ��   @ ��  � �f   h ��   < �   X �n     ��   ��   ` �   � ��   �   � ��   d �"   \ ��   ��   l �   l �r   � �   � ��   � ��   � �n   T ��    ��   ��    ��    �   < �B    �J     �n   x ��   � �v    �~   � �:   � ��    ��   �  < �N   � ��   D �:   < �z    ��   8 ��  � �b    �j   X ��  < �   � ��    ��   � ��   � ��   $ ��   < ��   � ��   � �j   p ��   $ �   4 �>    �R   $ �z   t ��    �    �&    �B    �J   � ��  � ��    ��   ` �   < �F   P ��    ��    ��    ��    ��    �     �*   @ �n   H ��    ��   < �   @ �R    �n   0 ��   0 ��   H �"   H �n    ��   ` ��    ��   @ �>   L ��   � �    �.   8 �j   D ��    ��    ��    ��    ��   $ �&    �.   ( �Z   P ��    ��   ` �.   0 �b    �z    ��    ��  $ ��   D �   D �^   � ��   , �*   $ �R   p ��    ��    �
   � ��   � �^   � �   � �   X �b   D ��   @ ��   4 �&    �6    �>    �J    �V    �z   h ��   � Ĳ   ��     ��   � Ɔ   ( Ʋ   P �    �   T �r    �z    ǆ   Ȏ   ( Ⱥ  � �N   < ʎ    ʦ   \ �    �    �2   � �
   8 �F   h ̲   � �V   � ��  $ �
   D �R   � ��   � �z   � �R    �V   � �.   � �   x Ԃ   � �&    �.   4 �f    Ն    Վ    ՞    ղ   0 ��    ��   � ��   , ��   P �J   8 ׆    ג    צ   t �   �2  H �~    چ   � �f   h ��    ��    ��    �    �    �&   < �f    ܂   $ ܪ   \ �
   $ �2   0 �f   � ��    ��    �    �"     �F    �V    �j     ގ   , ޾    ��    ��    �    �    �.    �J    �j    �r    ߒ    ߲    ��   @ �   < �F    �f    �n    ��    ��    �    �     ��    ��    ��    �    �    �&    �2   < �r   8 �    ��    ��   H �6    �V   p ��    ��   t �^    �r    �    �    �    ��    ��    ��    ��    �
    �    �6    �>   ( �j   0 �    �     ��    ��     �
    �*   4 �b    �    �    �    ��    ��    ��     �"    �:   ( �f    �    �    �    �    �   ( ��    �
    �*    �>   $ �f    �v     �    �    ��    ��    ��    ��    �    �*   , �Z   L �    �    ��   4 �    �    �.   ( �Z    �v    �    �    ��    ��    ��   , �.   ( �Z   ( �    �   $ �    ��    ��    �    �    �*    �J    �f    �r    �   ( �    ��    ��    �    �&    �>   4 �v    �   l ��    �    �"    �>   � ��   h �6   0 �j    �    �   t �   h �r    �z   x ��   < �6   X �   0 ��    ��    ��    ��     �     �2     �V    �n    �    �   D ��    ��   4 �.    �6    �B   < �   ( �    �   < ��   D �B    �^    �v    �    �     ��    ��    ��    �
     �.   ( �Z   ` ��   � �N    �f   � �.   X ��   � �b    �~   l ��   h �Z    �f    �z   p ��   ( �    �&    �.    �N    �^   � �>   � ��    �     �&     �J    �V     �z    ��   $ ��    ��    ��    ��    �    �*    �:     �^    �z    ��    ��    ��   x �2   < �r    ��   h ��   , �.     �R    �^    �z    ��    ��   , ��   0 �   $ �>    �V     �z    ��    ��    ��    ��   (       2     F     Z   (  �      �     �     �   0  �        8 Z    z    �    �    �    �    �        &   d �    �     �   , �   � �   H �   @ .   8 j   d �   8    0 B    N    j    �     �    �    �    �   L 6    B    V   � �   $    \ r   p �  < 	&     	J    	Z    	z    	�   0 	�   � 
N    
V    
n    
�    
�    
�   , 
�   @ *   � 
   D R   l �   x >   t �   � b   l �   ( �   � �   ( �    �       < N    b   t �  <      >    Z    f    �    �    �    �    �    �            *   4 b   r   h �   � �   p 
   � �  � "   D j   �     �    �   X    0 B    ^    ~  �    � �    �   � �   � ~    �   � :  T  �     �     �     �     �    !    !2   ( !^    !j   X !�    !�   8 "    ".    ">   � "�    "�   T #:   ` #�   ` $   T $Z    $v   � %*   � %�   0 %�   � &�   < '*   � '�  , (�   @ ):   @ )~   *�     *�   � +Z    +v   l +�    +�   T ,V   � ,�   h -Z   � .   � /
   � /�   � 0N   � 1   < 1V   \ 1�   � 2�   � 3f     3�  t 5   � 5�    5�    5�     5�    6    6   0 6R   p 6�   � 7�    7�    7�   @ 8
   ( 86   � 8�   � 9�    9�    9�    9�    9�    :   , :B    :N    :^    :~    :�   , :�    :�    :�    ;   � ;�   � <V   X <�   � =>   � =�   h >.   T >�   @ >�    >�  $ @  t Az   x A�   @ B:   < Bz   � CR   4 C�   l C�   4 D2   $ DZ   , D�     D�    D�    D�   D E   $ EB     Ef    Ev   \ E�    E�   L F>   0 Fr   , F�   � Gz  ` H�   l IN    Ij   L I�  � KN   � L    L"    L2    L>    LJ   L L�   � MJ   � N:    NV   h N�   � OF   � O�   d PZ   � P�    R"   4 RZ   | R�   � Sn   t S�   � T�   � U"    U6   P U�    U�    U�   , U�    U�   ` VV   t V�     V�   X WN    Wj    W�    W�   4 W�   X�   � Y�   l Z   � Z�   p [:   4 [r   ( [�   , [�   \�   � ]n   � ]�   � ^�   h _>   � _�   `�   $ a
    a   � a�    a�     b
   � b�    b�   � cj   X c�    c�   | d^   � d�   � e�    e�   P e�    f    f.     fR   \ f�   h g   d g�   � h6   $ h^   � i*   l i�   4 i�   | jR  8 k�   � lV   d l�   4 l�   � m�   � n   d n~   p n�   L oB  ( pn   � q   H qf   � rJ   � r�   ` sZ  T t�   X u   � u�   � v�   � wv    w�    w�   � xj   T x�   ` y&   � y�    y�   t zZ   � {   � |
   � |�   � }�    }�    }�    }�   $ ~    ~    ~"   .   � �    �:     �^   � ��   4 �"   � ��   � ��   L �    �&   L �v   h ��   L �2   � ��   p �Z   , ��    ��    ��    ��   l �*   8 �f    �n   � ��   ( �*   X ��   8 ��    ��    ��   � ��  H ��   � ��    ��   L ��   L �:   ( �f   � �"   ` ��    ��   � �v   � �    �2   � ��   @ �   x ��   � �"   D �j   ` ��    ��    ��   P �:   � ��   � ��  l �6    �F   < ��   , ��   ( ��   � �n    ��    ��    ��   t �.   0 �b   0 ��   8 ��   � �Z   � �&   P �z   � �&    �F     �j   ( ��    ��   � ��   � �*   , �Z    �^   � ��   P �6   d ��   � �2   , �b   d ��   t �B    �Z   � ��   x �z   | ��   � ��   p �   t ��   � �:   8 �v   ��    ��    ��    ��    ��   @ �.    �J   H ��   � �J   � ��   � ��    ��    ��    ��   < �   � ��   � �*   � �*   H �v     ��    ��    ��    ��    ��    �   , �6    �>    �J    �b   � ��   � �z   � �
   h �v    ��   < ��    ��   , �
    �    �:   4 �r   4 ��   l �    �"   x ��   ��    ��   8 �   � ��   � ��    ��    ��   $ ��  D �    �2   � �"   ` ��   0 ��  p �.   @ �r   , ��   � �R    �n   � ��   < �2    �B   � �&   H �r   t ��   � �z   d ��   � ��   � �B   \ ��   ` �   � ��    ��    ��    ��    �
    �  ( �B    �V   � ��   0 �   4 �N    �Z     �~    ��   � �
    �"    �:    �F    �b       < ��   d �*    �>    �J   4 Â    Î    æ   � �f   X ��    ��    ��    �    �    �"   $ �J    �^   l ��     ��    �    �2     �V    �v    ƒ    ƪ    ��    ��   $ �   � Ǿ   8 ��    �    �&   D �n   < Ȯ   $ ��    ��    �   � ɾ   8 ��    �   , �6   � ��    ��   4 �6    �F   � ��    ��    ��   < �.   � ��   8 �   � ��    �   $ �.    �N   ( �z   8 ζ    ��    ��    ��    ��   $ �&     �J     �n    ς    Ϣ    Ϻ    ��   � �Z   p ��    ��   � ў    Ѷ     ��     ��   $ �&    �B   � ��   d �B   � ��   D �F   d Ԯ   � �2   X Վ   � �:   | ֺ   � צ   � �r    �v   H ��   � �^   � ��   � ��   � ܎   , ܾ    ��    ��    �    �"     �F    �Z   ( ݆   8 ��   $ ��   4 �"   0 �V    �r   D ޺    ��    ��    ��    ��    �   0 �6   $ �^     ߂   0 ߶    ��    ��    ��     �"   D �j    ��   l ��   , �*   $ �R    �b    �    �    �    �   T �     �*   @ �n    �    �    �   | �.   4 �f   t ��   , �   H �Z   X �    ��    ��   0 �    �2    �>    �V    �v    �    �    ��    ��    ��    �     �&    �:   t �   � �>    �J    �j   , �   $ ��    ��    ��    �
   ( �6   4 �n   8 �   H ��    �    �   8 �Z    �j    �r    �   L ��   h �J   4 �   H ��   @ �    �&   < �f   � �2   4 �j   � ��    �   L �b   X �   0 ��   < �2    �:   8 �v   , �   h �   T �j     �   0 ��    ��    ��    �    �    �.    �N     �r    ��    �    �    ��   < �   < �V    �r    �     �   D ��   @ �:   ( �f   @ �   0 ��   � �v   P ��     ��    �    �&   L �v    �     ��   , ��   $ ��    �    �&   < �f   D ��    ��    ��    �    �    �2    �R    �r    �~   $ ��   � �N   $ �v   � �>   h ��    ��   @ �
    �    �"   � ��   P �   � ��   � �N   P ��   X ��   \ �^  $ ��     ��    ��   $ ��   ( �   @ �R     �v   P ��    ��   � �b    �~   x ��   @  >   ,  n   $  �   <  �   P *   x �    �    �    �          >    Z    r     �    �   $ �   L    $ >     b    r   , �   0 �    �   8 &   4 ^    n   0 �   4 �   (    , 6   $ ^    f    �    �    �    �   T     :   0 n    v    �    �     �    �    �         2   $ Z   8 �     �    �     �       h �   D �   D 	     	6   ` 	�   4 	�   ` 
6   ( 
b   h 
�   H    8 V   $ ~   � 2   | �   � N   � �   H "    2   T �   < �   8            8 Z   , �   , �    �    �   P F   0 z   ( �   8 �    �       $ :   $ b   h �   � �    �   � j   �     .     R    b    z   p �   � v   � *   l �   � J   � �   | ~   �   D �   X 2   � �    �   � �   ( �   p :   � �      X ^   �   l  �  0 !�   � "�  � $F   $ $n   L $�   t %6   � &6  T '�   | (   , (>   � )&   � )�   � *n  $ +�   � ,^   � ,�   � -�  H .�  L 0B   � 1  < 2F   � 3B   H 3�    3�   4�   � 5�   ( 5�   � 6~    7�   8�  8 9�    :   � ;   � ;�    ;�    <   T <f   � =&    =6   8 =r   � >   � >�   X ?    ?*    ?F    ?R   4 ?�    ?�   � @^   l @�   h A:   , Aj   4 A�   � B�    B�   � C>     Cb   @ C�  � E:   H E�     E�   � FJ   � F�   � G�    H�   � I�   h JZ  X K�   L L   T L^    Lr    L�   , L�     L�    M    M   P Mj    Mr   ( M�   4 M�   � Nf   � N�  L PJ   � P�  H R"    R:   8 Rv   � Sn  P T�   � UN   � V     V*   , VZ   X V�    V�   � Wz   l W�    X�   x Yj   | Y�   � Z�   t [    [   h [�    [�    [�    [�   � \b    \n   � ]   < ]N    ]V   ( ]�    ]�   , ]�    ]�   T ^*   � ^�   � _�  ( `�    a    a"   ( aN   4 a�   � b~   � c2   < cr   x c�    d   @ dF   $ dn    d�    d�    d�   T e   < eB   8 e~   $ e�    e�    e�    e�   < f:    fZ   ( f�    f�    f�    f�    f�   $ g&     gJ   � g�   P hJ   0 h~    h�   L h�   ( i   L iR    ir    i�    i�   0 i�   T j:   H j�   @ j�   4 k    k     k>     kb    k�    k�    k�     k�    k�    k�    l    l"    l6    lN    lf    l~    l�    l�   ( l�    l�    m
    m    m>    mZ    mj   ( m�    m�    m�     m�   � n�   � o�    o�   � p�   X q   , q6   8 qr   � r^   l r�    r�   , s
   $ s2   � t   $ t.   l t�   � u�   4 u�   � v�   � w�   p x
   � x�   $ x�   L y*   h y�   � z   {2   � {�   x |v   4 |�   P }   � }�   X }�    ~   l ~�    ~�   8 ~�   4    X b    n    v    �    �    �   � �~   � �J     �n   � �2  @ �v   � �   L �j   � �:    �V   X ��    ��   � �J   $ �r   l ��    ��    �    �   H �j    ��   ��   T ��   H �B    �J   � �   � ��    �
   $ �2    �N   T ��    ��   \ �   � ��   � �j    �r   p ��   � ��   � �N    �f   P ��   � �r   ( ��   ` �   @ �F   p ��   ��   � ��     ��     �
   t ��    ��   � �   � ��  h �6   � �"   � ��   \ �B   � ��   � ��    ��   � �R   � �   \ �b   ��   @ ��  4 ��   h �j    ��    ��   � �j    ��   $ ��   � �Z   � ��   � ��   , �   � ��   � �b   D ��   � �n    ��    ��    ��    ��   L �&    �*   � ��  4 �6     �Z     �~   0 ��   < ��   � ��    ��    ��    ��   @ �    �2    �J   $ �r    ��    ��    ��   $ ��   , �    �    �.    �6    �J    �V    �n    �~    ��    ��    ��    ��    ��    ��    �    �    �    �2    �B    �R    �b    �n    �z    ��    ��    ��    ��    ��    ��    ��    ��    ��    �    �*    �B    �J    �f    ��    ��    ��    ��    ��    �    �    �*    �2    �R    �r    �z    ��    ��    ��    ��    ��    ��    ��    �    �"    �2    �:    �B    �^    �~    ��    ��    ��    ��    ��    ��    ��    ��    �
    �    �2    �>    �J    �V    �r    ��     ��    ��    ��    ��    ��    �   0 �:    �N    �j    ��    ��    ��     ��    ��    �    �    �*    �2    �B    �J    �j    �z    ��    ��     ��    ��    ��    ��    ��    �    �    �.    �B    �J    �R    �j    �r    ��    ��    ��    ��   8 ��    �    �6   8 �r    ��    ��    ��    ��    ��    ��     �    �.    �N    �f   ( ��    ��     ��    ��    �   D �J    �R   ( �~    ��    ��    ��   T �
     �.    �:   $ �b    �z    ��    ��    ��    ��    ��    ��    ��    ��    �    �    �    �2    �J    �^    �j    �r    ��    ��    ��    ��    ��    ��    ��    �    �    �    �&    �B    �R    �n    �z   < ��    ��    ��    ��   @ �*    �B   4 �z   , ��   ( ��    ��    ��   P �J   4 ��    ��    ��     ��   4 �    �   T �v    ��    ��    ��    ��   t �6    �J   $ �r   d ��    ��    ��    �    �    �&    �>    �J    �V    �^    �n    ��    ��   d ��     �    �2     �V     �z    ��   , ��    ��    ��    ��    ��    ��    ��    �
    �    �&    �.    �>    �^    �r                ¢    º    ��    ��    ��    ��    �    �&    �:     �^    �f    �v    Æ   l ��    �   8 �B    �R    �f    �~     Ģ    ��    ��    ��    �   H �Z    �b     ņ    Ŧ    Ŷ    ��    ��    ��    �    �    �*    �>     �b    �z   h ��   < �&   4 �^   4 ǖ    Ƕ     ��    ��   L �J   4 Ȃ    Ȋ    Ț     Ⱦ    ��    ��    �     �*    �6    �B    �Z    �v    Ɋ   $ ɲ   x �.    �B   $ �j   < ʪ   L ��   , �*    �6    �V   ( ˂   ( ˮ   4 ��   0 �     �>   0 �r   0 ̦    ��   L �    �*    �J   ( �v     ͚    ͢     ��   X �"    �*    �:    �Z   @ Ξ   d �   � ϒ   , ��    ��     ��    �     �*    �F   H В   x �   T �f   T Ѿ    ��     ��     �    �.   � ��   d �:    �V   � �&    �.    �N   d Զ   , ��    ��    �    �    �"    �2    �:   � ��   � �b     ֆ    ֖   h �   | ׂ    מ   t �    �   p ؒ   8 ��   ( ��    �    �.    �:    �J    �R    �^   p ��    ��    ��   , �*     �N    �n    ڊ    ڪ   ( ��    ��     �    �*    �F     �j   D ۲    ��   ( ��   0 �*    �J    �b   < ܢ    ܺ   , ��   4 �"    �6   h ݢ   H ��    �   $ �*    �:   x ޶   � �B    �^     ߂   @ ��   8 �    �
   T �b     ��   � �
    �    �   ( �J   $ �r   8 �   8 ��   0 �   L �n   ( �   ( ��   P �   @ �^    �~   L ��   ( ��    �   h �z    �    �   $ ��    ��   x �^   D �    �    ��   0 �   p �v    �   < ��     ��    �
    �    �2   8 �n    �   4 �    ��   4 �     �6    �N   0 �   , �     ��    ��   8 �*    �F   T �   L ��   P �B     �f    �z    �    �    ��    ��    ��    �    �"    �:    �N    �V    �j   $ �   $ �   ( ��   ( �   L �b    �z    �   4 �    ��    ��    ��    �
    �"    �.   � ��   4 �
     �.   p �    �    �    ��    ��    ��    �   h �   l ��    �    �"    �>    �R    �r    �~    ��    �    �    �    �    ��    ��    ��    ��    �     �&   D �n    �~    �     �    ��    ��    �
    �   \ �r   < �     ��   L �&    �B    �J    �f     �    �    �   X �
   � ��    ��   d �   0 �F   < ��    ��    ��    ��    ��    ��    ��    ��    �   ( �>   P ��   h ��   , �.   D �v    ��   l ��   T �V    �v   @ ��   $ ��    ��   ( �    �6   | ��    ��    ��    ��    ��   H �>     �b     ��   $ ��   H ��    �    �*    �>    �J    �b   P ��   $ ��   @ �"     �F    �f    ��   , ��     ��    ��   0 �"   L �r    ��    ��    ��    ��    ��     �   ( �.   4 �f   4 ��    ��    ��    ��   \ �F   \ ��   0 ��    ��    ��   X 	 Z    	 f    	 z   T 	 �   l 	B    	N    	V   0 	�    	�    	�     	�    	�    	�   X 	J   ( 	v   4 	�    	�   \ 	   < 	Z    	v     	�    	�   0 	�    	�   x 	f   < 	�    	�    	�   , 	�   < 	>     	b     	�     	�   0 	�   0 	    	    	>    	V   , 	�     	�   D 	�    	   ( 	>   ( 	j     	�    	�    	�    	�    	�    	�     	   � 	�   4 	�   < 		>    		V   4 		�   T 		�   | 	
f   < 	
�   ( 	
�   H 	   ( 	J   @ 	�     	�    	�   4 	
     	.    	J    	b   � 	
   ( 	6   H 	�    	�    	�   t 	   D 	b   @ 	�   D 	�    	     	2    	:   D 	�    	�   , 	�   L 	   P 	j   4 	�   T 	�   P 	N   d 	�    	�    	�   � 	n    	z    	�   0 	�    	�   P 	6    	B   4 	z   h 	�    	�   D 	F   ( 	r   < 	�   ` 	   X 	r   8 	�    	�    	�    	�    	�   � 	~    	�   x 	   0 	J    	Z    	b   T 	�   0 	�   4 	&    	:    	R   @ 	�   � 	"   P 	v   < 	�    	�   | 	>    	J    	R    	Z    	z    	�   0 	�    	�   8 	    	    	&   < 	f   0 	�    	�    	�   P 	    	    	&   4 	^    	n    	v     	�    	�   D 	�    	    	    	   8 	Z   ( 	�    	�   8 	�   \ 	*   h 	�   � 	   $ 	F    	R   ` 	�   , 	�    	�   | 	 ~   � 	!^    	!~   P 	!�   ` 	"6   0 	"j    	"�    	"�   X 	"�    	#    	#   H 	#^    	#n    	#z   8 	#�    	#�   @ 	$    	$6   \ 	$�    	$�     	$�    	$�    	$�    	$�   ` 	%^   P 	%�    	%�    	%�   x 	&R   � 	&�    	&�   ` 	'b    	'�    	'�    	'�   D 	'�    	'�    	'�   H 	(J    	(^    	(f     	(�    	(�    	(�   L 	)    	)     	):    	)J    	)^     	)�    	)�   4 	)�   D 	*"    	**   , 	*Z   0 	*�   $ 	*�   P 	+
   0 	+>    	+N    	+Z    	+z    	+�    	+�    	+�   @ 	+�    	,   \ 	,n   , 	,�    	,�    	,�    	,�    	,�   8 	-*    	->    	-R     	-v    	-�    	-�    	-�    	-�     	.    	.   , 	.F    	.Z    	.j    	.v   0 	.�   ( 	.�     	.�   ( 	/&   < 	/f    	/~    	/�    	/�   4 	/�    	/�   @ 	02   $ 	0Z    	0v   , 	0�    	0�    	0�   \ 	1.   0 	1b     	1�   , 	1�    	1�    	1�    	1�    	1�    	2
    	2&   @ 	2j   0 	2�    	2�   0 	2�    	3    	3    	3"    	3>    	3R    	3r   , 	3�   $ 	3�   ( 	3�   T 	4N     	4r    	4�    	4�    	4�     	4�    	5    	5   ` 	5�   @ 	5�   ` 	6*   D 	6r   0 	6�   � 	7*    	72   , 	7b    	7j    	7�    	7�    	7�   8 	7�    	7�    	8    	8&    	8:    	8B    	8R    	8Z    	8v    	8�    	8�    	8�   , 	8�   4 	9
   T 	9b    	9�    	9�    	9�     	9�   P 	:   0 	:N    	:Z   d 	:�   H 	;   L 	;^   4 	;�    	;�   P 	;�    	;�   ` 	<^   0 	<�    	<�    	<�    	<�    	<�    	=     	=*   L 	=z   ( 	=�    	=�    	=�   , 	=�   4 	>.    	>J   H 	>�    	>�    	>�   , 	>�   < 	?.    	?N   4 	?�   , 	?�   , 	?�     	@
   L 	@Z   X 	@�   p 	A*   p 	A�     	A�    	A�    	A�    	B   l 	B~    	B�     	B�    	B�   H 	C   $ 	CB   4 	Cz    	C�    	C�    	C�    	C�   8 	C�    	D    	D    	D*    	D2    	DF    	Db    	D�   $ 	D�    	D�    	D�     	E    	E"    	EB   8 	E~    	E�    	E�    	E�    	E�    	E�    	E�    	F    	F    	F:    	FJ   d 	F�    	F�    	F�    	F�    	F�    	G    	G    	G"    	G2    	GN     	Gr    	G�   4 	G�    	G�    	G�    	H   $ 	H.    	HF    	HZ   T 	H�    	H�    	H�    	H�    	H�    	I    	I&   l 	I�   x 	J     	J6    	JB    	JR    	Jj    	J�   4 	J�    	J�   ( 	J�    	J�    	K    	K    	K:   h 	K�   @ 	K�   � 	L�    	L�    	L�    	L�    	L�    	M     	M*   @ 	Mn    	M�   < 	M�   4 	N    	N    	N2    	NN    	NV    	Nb    	Nj    	Nz    	N�    	N�    	N�    	N�    	N�    	N�    	N�    	N�    	N�    	O
   \ 	Oj   � 	O�   � 	P�    	P�    	P�   D 	Q
    	Q*     	QN    	Qn    	Q�   L 	Q�    	Q�    	Q�    	R    	R&    	R2   8 	Rn   p 	R�    	R�     	S   ( 	SB    	S^    	Sn    	S�    	S�    	S�    	S�   0 	T   ( 	T.   0 	Tb    	T�   $ 	T�   X 	U   h 	Ur   p 	U�    	U�   ( 	V*    	V:   @ 	V~   d 	V�    	V�    	W   H 	WZ    	Wf   ( 	W�   p 	X    	X    	X"   4 	XZ   P 	X�   \ 	Y    	Y"    	Y:     	Y^    	Yf    	Yz    	Y�    	Y�    	Y�    	Y�    	Y�   $ 	Z    	Z    	Z>    	ZV    	Zn    	Z�    	Z�    	Z�    	Z�    	Z�     	[    	[.    	[B    	[V    	[v    	[�    	[�     	[�    	[�    	\
    	\    	\:    	\J    	\Z    	\v    	\�    	\�    	\�    	\�    	\�     	]    	]    	]2    	]F    	]^    	]f    	]�    	]�    	]�    	]�     	]�    	^    	^&   < 	^f    	^�   ( 	^�    	^�     	^�     	_   $ 	_.    	_>    	_^    	_n    	_�    	_�    	_�    	_�    	_�    	_�    	_�    	`    	`&    	`F     	`j   h 	`�    	`�    	a    	a    	a6    	a>    	aR    	aj    	a�    	a�    	a�     	a�    	a�    	a�    	a�    	b    	b"    	b>    	bR    	b^   $ 	b�    	b�    	b�     	b�    	b�   ( 	c
    	c   t 	c�     	c�    	c�     	c�    	c�     	d    	d"    	d*   $ 	dR    	db   4 	d�    	d�     	d�   8 	e    	e*    	e>   l 	e�    	e�    	e�   X 	f>    	f^    	fn     	f�    	f�    	f�   , 	f�     	g"    	g>    	gN    	gf    	g�    	g�    	g�    	g�    	g�    	g�    	h
     	h.    	h:   8 	hv    	h�    	h�    	h�    	h�    	h�    	h�    	h�    	i
   0 	i>   H 	i�     	i�    	i�    	i�    	i�    	i�    	i�    	j     	j>    	j^    	j~    	j�    	j�    	j�    	j�    	j�   $ 	k&   P 	kz   , 	k�    	k�    	k�   $ 	l    	l
    	l    	l.    	l>    	lJ    	lb    	lz    	l�    	l�    	l�    	l�    	l�    	l�    	l�     	m    	m"    	m2    	mF    	mZ   0 	m�   L 	m�    	m�   $ 	n   D 	nb    	n�    	n�    	n�    	n�   0 	n�   < 	o:   0 	on   0 	o�   0 	o�   $ 	o�    	p   0 	pB   @ 	p�   D 	p�    	p�   D 	q    	q>    	qN     	qr    	q�   @ 	q�   0 	q�    	r    	r*    	r:    	rF    	rb    	rv    	r�    	r�    	r�    	r�    	r�    	r�   ( 	s    	s     	s2     	sV    	sv    	s�    	s�    	s�    	s�    	s�    	s�    	s�    	t    	t:    	tN    	tb    	t~    	t�    	t�    	t�     	t�    	t�    	u    	u"   ( 	uN    	ub    	ur    	uz    	u�    	u�    	u�    	u�    	u�    	u�    	u�    	u�    	v    	v&    	v6    	vB    	vN     	vr    	v�    	v�    	v�    	v�    	v�    	w
    	w    	w.    	w:    	wJ    	wV    	wb    	wr    	wz    	w�    	w�    	w�    	w�    	w�    	w�    	w�    	w�    	x
    	x    	x*    	x2   @ 	xv     	x�    	x�    	x�    	x�     	y    	y"    	y6     	yZ    	yz    	y�    	y�    	y�    	y�    	y�    	y�   ( 	z*     	zN    	zj    	z�   , 	z�   @ 	z�   $ 	{&     	{J    	{Z   , 	{�    	{�   < 	{�    	|    	|    	|&   H 	|r     	|�   H 	|�    	|�    	}   $ 	}.    	}:    	}V    	}f    	}�    	}�    	}�    	}�    	}�    	}�    	~    	~*    	~2    	~J   0 	~~    	~�    	~�   P 	    	     	>     	b    	r   0 	�   , 	�   , 	�   T 	�^   ( 	��    	��    	��    	��     	��    	�   ( 	�2     	�V    	�j   ` 	��   $ 	��   , 	�&    	�:   8 	�v    	��    	��    	��   4 	��   x 	�V   d 	��   X 	�   $ 	�B   H 	��   H 	��    	��    	��    	�    	�2   H 	�~    	��   \ 	��    	�
     	�.   X 	��    	��     	��   l 	�2    	�F   < 	��    	��   D 	��    	��   t 	�n   � 	��   | 	�v   � 	�
   � 	��   h 	�Z   D 	��   T 	��   8 	�6    	�F    	�^    	�n    	��    	��    	��   d 	�&   L 	�v   T 	��    	��   t 	�f   D 	��    	��   @ 	�   4 	�:     	�^   X 	��   H 	�   t 	�~   @ 	��   0 	��   8 	�2   P 	��   $ 	��   P 	�    	�   t 	��     	��   0 	��   , 	�   d 	��    	��   L 	��   � 	��   0 	��   h 	�&   $ 	�N    	�j   T 	��   ( 	��   l 	�^    	�j    	��   @ 	��   0 	��   , 	�*     	�N   , 	�~   8 	��   $ 	��   P 	�6   4 	�n   | 	��   $ 	�    	�.   t 	��   T 	��   @ 	�B    	�J    	�V   @ 	��    	��   P 	�    	�"    	�6    	�V    	�j   P 	��    	��    	��     	�    	�&   \ 	��    	��    	��    	��    	��    	��     	�    	�&    	�>   ( 	�j    	��   ( 	��    	��    	��    	��    	��    	�   � 	��    	��   ( 	��    	��   $ 	�   8 	�N   d 	��    	��   $ 	��    	��   T 	�J   P 	��   p 	�   D 	�Z     	�~   H 	��   � 	�V    	�v    	��   \ 	��   H 	�6   0 	�j     	��    	��    	��    	��    	��    	��    	�
    	�    	�6    	�N    	�b    	�r    	�z    	��   D 	��    	��    	��    	�
    	�   \ 	�r   ` 	��    	��    	�    	�   ( 	�J    	�Z    	�n     	��     	��   , 	��   L 	�6    	�R   H 	��   D 	��   8 	�"   L 	�r    	��    	��    	��   P 	�    	�   < 	�^   � 	�     	�2    	�N   T 	��   8 	��    	��    	��   \ 	�V    	�r   ` 	��   d 	�>   D 	��    	��    	��   < 	��    	�   H 	�N   X 	��   0 	��    	��   D 	�.    	�6    	�>    	�R   8 	��    	��   0 	��    	��   8 	�*   L 	�z    	��    	��   H 	��     	�   , 	�B    	�V    	�n    	�z    	��    	��    	��    	��   $ 	�
    	�&    	�F    	�N    	�j    	�r    	�z     	��     	��     	��    	�    	�    	�*    	�6    	�F    	�Z     	�~     	��    	��   , 	��    	��    	�    	�    	�>    	�N    	�f     	��    	��    	��    	��    	��    	��    	��   4 	�.    	�F    	�b     	��    	��    	��    	��    	��    	��    	��    	�   ( 	�2    	�N     	�r    	��    	��    	��    	��    	��    	��    	�    	�6    	�B   $ 	�j    	��    	��    	��    	��    	��    	�    	�2    	�:    	�Z    	�z   ( 	��    	��    	��    	��    	��    	��    	�    	�    	�.    	�6   @ 	�z    	��   T 	��    	��    	��     	�"    	�*   , 	�Z   @ 	��   8 	��    	��    	�    	�    	�   0 	�R   D 	��   @ 	��   8 	�   D 	�b   H 	��    	��   $ 	��    	��    	�   P 	�f    	�z    	��   � 	�   L 	�b    	��   $ 	��    	��   $ 	��    	��    	�   4 	�:    	�Z   | 	��   8 	�    	�6   H 	��   T 	��   T 	�2   P 	��   \ 	��   , 	�   d 	�~     	��     	��   P 	�   H 	�f     	   ` 	��   < 	�.   4 	�f   H 	ò   \ 	�   0 	�F   � 	��   4 	�.    	�B    	�b   ( 	Ŏ     	Ų     	��    	��    	�    	�"    	�>    	�J     	�n   $ 	Ɩ    	Ʀ    	Ʈ    	ƾ    	��    	��     	�    	�"    	�*    	�6    	�B   p 	Ƕ    	��    	��   D 	�>   8 	�z   d 	��    	��   H 	�J   @ 	Ɏ   H 	��    	��   , 	�"    	�B   $ 	�j   l 	��   $ 	�   � 	˒    	˚   0 	��    	��    	��    	�
    	�    	�6   , 	�f    	�v    	̂    	̚    	̶   � 	�F    	�^   , 	͎    	͚     	;    	��    	��    	��   D 	�>   H 	Ί   8 	��    	��    	��    	��    	�    	�    	�.   \ 	ώ    	Ϛ   8 	��   � 	�n     	В    	Ъ   L 	��   $ 	�"     	�F   X 	Ѣ    	Ѿ    	��    	��    	�    	�&    	�:    	�R   P 	Ҧ   @ 	��    	�   @ 	�F     	�j    	�z    	ӆ     	Ӫ    	��   L 	�   H 	�b   0 	Ԗ   < 	��    	��   8 	�*   ( 	�V    	�r   P 	��   H 	�    	�2    	�R    	�j   ( 	֖   0 	��     	��   X 	�J   H 	ז    	ע    	׾   p 	�2   , 	�b    	�~    	ؚ    	غ    	��   L 	�    	�2   8 	�n   L 	پ    	��   P 	�"    	�*   , 	�Z   @ 	ڞ    	ڲ   ( 	��    	��     	�
   @ 	�N     	�r    	�z   � 	��    	�     	�:   H 	܆   4 	ܾ    	��   , 	��   p 	�n   < 	ݮ    	ݺ   < 	��    	�     	�>    	�J    	�j   H 	޶    	��   @ 	�   � 	ߖ    	߮    	��    	��    	��   8 	�2   P 	��   @ 	��   H 	�   D 	�^   ( 	�   8 	��    	��   � 	�b    	�j    	�v   8 	�   P 	�    	�    	�    	�6   P 	�   , 	�    	��   ` 	�6    	�B    	�R   , 	�   D 	��    	��    	�
    	�&     	�J    	�Z    	�r   $ 	�    	�    	��    	��    	��    	��    	�
    	�    	�"    	�>    	�J    	�R    	�n    	�~    	�    	�    	�    	��   $ 	��    	��    	�    	�"   ( 	�N     	�r    	�   $ 	�    	��   8 	�   P 	�Z    	�j   T 	��    	��    	��    	��   $ 	�"   ( 	�N    	�f    	�~    	�    	�    	�   ( 	��   4 	�    	�"   T 	�z    	�    	�    	�    	�   $ 	��    	��    	�    	�    	�&   , 	�V    	�^    	�r     	�    	�    	�    	��    	��   ( 	�   $ 	�>    	�R    	�j    	�~    	�    	�    	��    	��    	��    	��    	�     	�6    	�R    	�j    	�    	�   , 	��   8 	�    	�    	�&     	�J   ( 	�v   4 	�    	��   ( 	��    	��    	�
    	�    	�*    	�:    	�B    	�V    	�b    	�z    	�    	�    	�    	�    	�    	��    	��    	��   < 	�6    	�J    	�b     	��   ( 	�    	��    	��    	��    	��    	��    	�     	�&    	�2    	�>     	�b    	�~   L 	��    	��    	��    	�    	�    	�.    	�F    	�V    	�r    	�   $ 	�     	��    	��   @ 	�*   $ 	�R    	�Z    	�f    	�z    	�    	�   $ 	��    	��    	��   $ 	�    	�6    	�R   D 	��    	��    	��   0 	��     	�   $ 	�:    	�B   4 	�z    	��    	��     	��   H 	�    	�.   0 	�b   8 	��    	��    	��    	��    	�    	�    	�:    	�N   4 	��    	��    	��   $ 	��    	��    	��   $ 	�    	�    	�.    	�J   ( 	�v    	�~    	��   ( 	��   ( 	��    	��    	�   $ 	�>   H 	��   0 	��   P 	�    	�&    	�:    	�F    	�V    	�n     	��    	��    	��    	��   X 	�6   $ 	�^    	�~   4 	��   ( 	��    	��    	�   P 	�b    	��   L 	��   @ 	�    	�"    	�>   � 	��   T 	�:   ` 	��    	��    	��   $ 	��    	��   8 	�6    	�F     	�j    	�z   l 	��   8 
 &   � 
 �   4 
 �   , 
&   p 
�    
�   8 
�    
    
&   8 
b   $ 
�    
�    
�   x 
2   < 
r   x 
�    
    
    
:    
J   P 
�   8 
�    
�    
�    
    
.    
B    
V    
j    
�    
�    
�    
�    
�    
�     
�    
    
"    
:    
J    
j   4 
�    
�    
�    
�    
�   $ 
    
    
.    
J    
b    
�   8 
�    
�   L 
.    
F    
R    
Z    
n   , 
�   , 
�    
�    
	    
	   @ 
	^    
	j   , 
	�    
	�    
	�   0 
	�   P 

B   $ 

j   $ 

�   $ 

�   @ 

�    
    
"     
F    
^    
f   ( 
�    
�    
�   P 
    
*     
N    
Z    
b   4 
�   , 
�    
�    
�    

    
&    
2    
B    
^    
f    
�     
�   0 
�   4 
    
2   , 
b   $ 
�    
�   8 
�   $ 

     
.   8 
j   < 
�    
�   , 
�   $ 
    
   4 
V    
^   4 
�   @ 
�   0 
     
2     
V     
z    
�    
�   ` 
    
.    
F   L 
�   $ 
�   0 
�   T 
J   , 
z   D 
�    
�    
�    
    
   X 
z   8 
�    
�    
�   < 
.   8 
j    
�    
�    
�   ( 
�    
�    

   ( 
6    
R    
n   $ 
�    
�    
�   $ 
�    
�    
    
*   | 
�   ` 
    
*    
2   \ 
�   ` 
�    
   $ 
*    
:    
V    
^    
n    
~   8 
�    
�    
�   8 
2    
F    
^   < 
�    
�    
�   $ 
�    
�    
    
   ( 
:    
R   H 
�   , 
�   , 
�   , 
.   d 
�   L 
�   8 
"    
2   4 
j   ` 
�    
�   @ 
*    
2   $ 
Z    
z    
�   , 
�    
�    
�    
�   � 
�    
�   � 
 b    
 r   L 
 �   @ 
!   H 
!R   D 
!�   0 
!�   ( 
!�   < 
":   , 
"j   H 
"�   @ 
"�   0 
#.    
#>    
#Z    
#f    
#z    
#�    
#�   D 
#�    
#�    
$   0 
$F   � 
$�    
$�    
%    
%   L 
%n   $ 
%�     
%�   4 
%�   L 
&B    
&V   ( 
&�    
&�    
&�   \ 
&�     
'"   , 
'R   , 
'�    
'�   ( 
'�    
'�   $ 
'�    
(    
(    
(&     
(J    
(R    
(Z    
(j    
(�   $ 
(�   @ 
(�   ( 
)"    
):    
)J   D 
)�   � 
*"   0 
*V   h 
*�    
*�   < 
+   \ 
+v    
+�    
+�   4 
+�   L 
,&   $ 
,N    
,f   $ 
,�    
,�     
,�    
,�    
,�    
-   $ 
-.    
-J     
-n   $ 
-�    
-�    
-�    
-�    
-�    
.
    
.    
.&    
.>   � 
.�     
/   , 
/>    
/F    
/V   @ 
/�    
/�    
/�    
/�    
/�     
/�    
0    
0    
0*     
0N    
0f    
0�    
0�   8 
0�   4 
1
    
1   ( 
1J    
1R    
1^    
1r     
1�    
1�    
1�    
1�    
1�    
2    
2
   $ 
22    
2F    
2V   8 
2�   T 
2�    
3    
3&    
36    
3V   H 
3�   8 
3�    
3�    
4   T 
4j     
4�    
4�    
4�    
4�   $ 
4�   4 
56     
5Z    
5z    
5�    
5�    
5�    
5�    
5�   p 
6N    
6^    
6r   � 
6�   , 
7&    
72    
7B   T 
7�   4 
7�   , 
8    
8    
8&   @ 
8j   8 
8�   , 
8�    
8�    
8�   , 
9*   , 
9Z   0 
9�    
9�    
9�    
9�    
9�    
9�    
9�   4 
:.   X 
:�    
:�     
:�   $ 
:�    
:�   D 
;>   8 
;z   < 
;�    
;�     
;�    
;�     
<    
<.    
<J   ( 
<v   ( 
<�   l 
=   ( 
=>   ( 
=j   $ 
=�    
=�    
=�   h 
>.   $ 
>V    
>r   $ 
>�    
>�   < 
>�   P 
?:    
?N    
?f    
?�    
?�    
?�   ( 
?�   0 
@
    
@    
@.   ( 
@Z   0 
@�    
@�   8 
@�   X 
AF    
Ab     
A�   0 
A�   ( 
A�   ( 
B    
B2     
BV   ( 
B�    
B�    
B�    
B�    
B�    
B�   < 
C.   0 
Cb    
Cj    
C�     
C�   ( 
C�   0 
D
    
D    
D.    
DJ    
Dj     
D�   P 
D�   0 
E    
E6   ( 
Eb    
Ev     
E�   P 
E�   ` 
FR    
Ff   $ 
F�   8 
F�    
F�   ( 
G   0 
G:    
GN   X 
G�    
G�    
G�    
H     
H*   l 
H�    
H�   D 
H�    
I   D 
IN    
Ib    
I~    
I�    
I�   ( 
I�    
I�    
I�    
J    
J    
J"   ( 
JN    
JZ    
Jz   ( 
J�   4 
J�   L 
K.   h 
K�   d 
L    
L"   < 
Lb     
L�   P 
L�    
L�    
L�    
M    
M   ( 
MB   @ 
M�   ( 
M�   4 
M�    
M�    
N    
N   ( 
NB   X 
N�    
N�    
N�   � 
Of    
Or    
O�    
O�   x 
P"    
P2   X 
P�    
P�   $ 
P�   h 
Q>     
Qb     
Q�    
Q�   L 
Q�   ( 
R
    
R*   < 
Rj    
R�   , 
R�    
R�   4 
R�    
S   $ 
S*   , 
SZ    
Sv   H 
S�    
S�    
S�   h 
TR    
TZ   T 
T�    
T�    
T�    
T�   $ 
U
    
U    
U*   $ 
UR   P 
U�    
U�    
U�     
U�    
U�   H 
V:    
VN    
Vf    
Vz    
V�    
V�    
V�    
V�     
W   P 
WV    
Wr    
W�   0 
W�    
W�    
W�   $ 
X   0 
XB    
X^    
Xf    
Xv    
X�    
X�    
X�   0 
X�   X 
YF   l 
Y�    
Y�   4 
Y�   � 
Z�    
Z�   � 
[2    
[:   ( 
[f    
[z    
[�    
[�    
[�    
[�    
[�    
[�    
[�   ( 
\&   D 
\n    
\�   $ 
\�    
\�    
\�    
\�    
\�   $ 
]   ( 
]F    
]^    
]j    
]�    
]�    
]�    
]�    
]�    
]�    
]�     
^
    
^&    
^2    
^B    
^V    
^f     
^�    
^�    
^�    
^�    
^�    
^�   $ 
_"    
_:   , 
_j    
_�   X 
_�    
_�    
`    
`"   L 
`r   L 
`�    
`�    
`�    
a    
a    
a&    
a.    
a>    
aZ    
ar    
az    
a�   D 
a�   $ 
a�   4 
b2   , 
bb   8 
b�   $ 
b�    
b�   4 
c    
c&   < 
cf   0 
c�   < 
c�   8 
d    
d     
dB   0 
dv     
d�   0 
d�    
d�   , 
e   , 
e6   $ 
e^   $ 
e�    
e�    
e�    
e�    
e�     
f     
f2   @ 
fv    
f�    
f�   0 
f�   , 
f�   ( 
g"   H 
gn    
gz    
g�   $ 
g�   \ 
h
   D 
hR    
hf   ( 
h�   0 
h�   4 
h�     
i"   0 
iV   ( 
i�   ( 
i�   � 
jB   @ 
j�   @ 
j�    
j�   h 
kF   H 
k�   8 
k�    
k�   ( 
l   T 
lf   , 
l�   P 
l�   0 
m    
m>    
mJ    
mZ    
mf    
mn    
m~    
m�    
m�     
m�    
m�     
n    
n"    
n:   H 
n�    
n�   ( 
n�   ( 
n�    
o    
o&     
oJ   P 
o�    
o�   4 
o�     
p   ( 
p>   ( 
pj    
pr    
pz   D 
p�    
p�   ( 
q
   0 
q>     
qb   T 
q�   L 
r
   @ 
rN    
rZ    
rv    
r�    
r�   ( 
r�    
r�   4 
s    
s2     
sV    
sv   @ 
s�    
s�    
s�   , 
t    
t   P 
tr    
t�    
t�    
t�    
t�    
t�    
t�    
t�    
t�    
u    
u    
u:    
uF   X 
u�   t 
v     
v>   ( 
vj    
vr   $ 
v�    
v�    
v�    
v�    
v�    
v�   0 
w"     
wF   ( 
wr   @ 
w�    
w�    
w�    
w�    
x    
x   ( 
x:    
xZ     
x~    
x�   L 
x�   D 
y&   8 
yb    
y~    
y�     
y�    
y�   H 
z"   T 
zz   D 
z�    
z�    
z�    
z�    
{    
{    
{&   ` 
{�   , 
{�    
{�    
{�   , 
|    
|.   H 
|z    
|�   $ 
|�    
|�    
|�    
|�    
|�    
|�    
}   , 
}N   0 
}�    
}�    
}�    
}�    
}�    
}�    
}�    
}�    
~    
~    
~    
~&    
~:    
~Z    
~b    
~v    
~�    
~�    
~�   0 
~�    
~�    
~�   < 
6   P 
�    
�    
�    
�    
�    
�    
�   , 
�>    
�J    
�f    
�~    
��   ( 
��   , 
��    
�    
�    
�"    
�:   , 
�j   < 
��    
��    
��   $ 
�   4 
�:    
�B    
�Z    
�r   $ 
��    
��   ( 
��    
��    
��    
�    
�    
�    
�&    
�2    
�>    
�J    
�Z    
�j    
�~    
��    
��    
��    
��    
��    
��    
�   $ 
�.    
�F   ( 
�r    
�~    
��   ( 
��    
��    
��    
�    
�    
�    
�"    
�6    
�>    
�F    
�R    
�b    
�v    
�~   4 
��    
��   ( 
��    
��   @ 
�>    
�N   4 
��    
��    
��    
��   D 
�    
�    
�2   0 
�f   $ 
��    
��    
��    
��    
��    
��    
�
    
�    
�"    
�*    
�2   < 
�r   ( 
��   ( 
��    
��    
��    
�
   0 
�>    
�^    
�f   $ 
��   $ 
��   ( 
��     
�    
�&    
�.    
�6    
�>    
�R    
�b    
�v    
��   , 
��    
��    
��   L 
�:    
�R   ( 
�~    
��    
��    
��    
��    
��    
��    
��    
�    
�    
�*   , 
�Z     
�~    
��   @ 
��   4 
�    
�.   < 
�n   < 
��    
��   ( 
��   P 
�F     
�j    
��     
��    
��    
��    
��    
��   ( 
�&    
�:   8 
�v   D 
��   0 
��    
��    
�    
�&    
�6    
�V    
�f    
�~   4 
��    
��    
��    
��    
��    
��    
�    
�    
�.    
�:    
�N    
�V    
�n    
�z    
��    
��    
��    
��    
��    
��    
��    
��    
��    
�    
�"    
�.    
�6    
�B    
�^    
�f    
�n    
��   , 
��    
��    
��   $ 
��    
�
    
�"    
�.    
�>    
�J     
�n    
�v    
�~    
��    
��   0 
��   ( 
��     
�    
�    
�6    
�V    
�v    
��    
��    
��    
��    
��    
��    
��   $ 
�    
�*    
�2    
�:    
�F    
�^    
�f    
�n   , 
��    
��    
��   < 
��    
�    
�:   0 
�n    
��    
��    
��   P 
�   ( 
�:    
�V    
�^    
�r   $ 
��    
��     
��    
��    
��    
�
   @ 
�N    
�n    
��    
��   4 
��    
��    
��    
��    
�    
�.   \ 
��     
��    
��   D 
�    
�:    
�J    
�j   ( 
��    
��   0 
��   @ 
�"    
�6    
�J   $ 
�r   P 
��   < 
�   0 
�:   4 
�r   8 
��   0 
��     
�     
�*   P 
�~   | 
��   H 
�J   < 
��    
��    
��    
��    
��    
��   � 
��    
��   @ 
��   8 
�   � 
��   , 
��   � 
��   H 
��   , 
�   � 
��     
��   H 
�>   � 
��   , 
�   t 
��   x 
�   4 
�>   , 
�n   $ 
��     
��    
��   H 
�&    
�.    
�F    
�R    
�Z     
�~   , 
��    
��   T 
�"     
�F    
�V   $ 
�~   L 
��   @ 
�    
�*   4 
�b   4 
��    
��   @ 
��    
�   P 
�V   ( 
��   $ 
��    
��   4 
�     
�&    
�6    
�F    
�^    
�n   8 
��   � 
�.   , 
�^   X 
��   D 
�   ( 
�.   � 
��    
��    
��    
��   4 
�2    
�B   t 
��   < 
��   x 
�v    
��    
��   8 
��   , 
�
   @ 
�N   P 
��   D 
��   4 
�"    
�6   $ 
�^   8 
��     
��    
��    
��   t 
�j   T 
��     
��   ( 
�    
�&   D 
�n   8 
��   , 
��   4 
�    
�*    
�B   $ 
�j    
��   @ 
��     
��   D 
�:   4 
�r    
�~    
��    
��    
��    
��    
��    
�    
�"   L 
�r    
��    
��   H 
��   8 
�.    
�N    
�n   $ 
��    
��    
��   , 
��    
�   @ 
�V    
�j   $ 
��    
��   D 
��   8 
�.   P 
��   P 
��   , 
�    
�&    
�B   l 
��   � 
�Z   8 
��   4 
��    
��    
�    
�   l 
��   \ 
��    
��   D 
�>   , 
�n    
��    
��    
��    
��    
��    
��    
�
    
�    
�   X 
�z    
��   4 
��   D 
�   0 
�B    
�^   D 
��    
��   H 
�
   < 
�J    
�f    
�r    
��   L 
��    
��   < 
�:   8 
�v   , 
��   H 
��   ( 
�     
�B   , 
�r     
��   ( 
��    
��    
��   P 
�J   $ 
�r   $ 
    
ª   < 
��    
��    
�    
�    
�"    
�.    
�J     
�n    
�v    
Ò    
Ú   $ 
��    
��    
��   P 
�2    
�J   4 
Ă   P 
��    
��   p 
�f   t 
��   $ 
�   $ 
�.   ( 
�Z    
�z    
Ɔ    
Ʀ   , 
��   , 
�    
�   D 
�V    
�n    
ǂ    
Ǣ   ( 
��   P 
�"   $ 
�J    
�^   l 
��   0 
�   � 
��   $ 
��    
�   $ 
�6   $ 
�^    
�z    
ʖ   H 
��   8 
�    
�&     
�J    
�R    
�j   0 
˞   $ 
��    
��   , 
�   4 
�N   ( 
�z    
̖    
̶   8 
��   0 
�&    
�B    
�V   4 
͎   $ 
Ͷ   $ 
��   x 
�Z    
�f    
΂   , 
β   D 
��    
�   D 
�^    
�j    
ϊ    
Ϧ    
ϲ    
Ϻ   4 
��    
�    
�   @ 
�Z   $ 
Ђ    
К   ( 
��    
��    
��    
��   H 
�>   d 
Ѧ    
Ѳ    
��   D 
�   4 
�N   P 
Ң    
��   @ 
�    
�   @ 
�R    
�^    
�j    
ӊ   0 
Ӿ    
��    
��   4 
�    
�"   @ 
�f    
�v   D 
Ծ   | 
�>    
�R    
�^    
�f    
�~    
Ն    
Ւ    
ժ    
ղ    
��    
��    
��    
��    
�    
�
    
�   @ 
�^    
�f   $ 
֎    
֢    
ֺ    
��   0 
�    
�     
�2    
�B    
�N   ( 
�z    
׊    
ז   ( 
��    
��    
��    
��    
��    
�    
�
    
�    
�"    
�*    
�:    
�B    
�b    
�n   $ 
ؖ    
خ    
غ    
��     
��    
��    
�    
�    
�"    
�B    
�Z    
�z   $ 
٢    
ٮ   0 
��    
�    
�
    
�    
�>    
�F    
�^     
ڂ   0 
ڶ     
��    
��   ( 
�    
�2     
�V   8 
ے    
۪     
��   0 
�    
�    
�    
�.    
�:    
�Z    
�b    
�r    
ܒ    
ܲ    
ܺ   4 
��     
�   L 
�f   , 
ݖ   < 
��    
��   $ 
�
    
�   $ 
�B    
�Z    
�r   $ 
ޚ   $ 
��   0 
��    
�    
�"   $ 
�J    
�^     
߂   4 
ߺ   , 
��   $ 
�   H 
�^    
�~   < 
�   < 
��   ( 
�*     
�N    
�Z    
�f    
�   8 
�   $ 
��    
�   4 
�:    
�F    
�f    
�    
�   , 
��    
��   , 
�   4 
�R   � 
�*   8 
�f   0 
�   < 
��    
��   , 
�&   0 
�Z    
�b     
�    
�   D 
��   ( 
�   0 
�F   d 
�   � 
�:    
�Z    
�b    
�j    
�r    
�~    
�    
�    
�   $ 
��    
��    
��    
��    
�     
�&    
�2    
�:    
�F    
�R    
�r    
�     
�   0 
��   4 
�    
�2   $ 
�Z   ` 
�    
��   4 
�     
�2   0 
�f   ( 
�   $ 
�    
��    
��     
�   ( 
�F   D 
�    
�    
�   $ 
��   < 
�    
�2    
�:   D 
�   , 
�    
�   8 
��   h 
�b   ` 
��   @ 
�
    
�    
�.    
�>    
�N   4 
�    
�    
�     
��    
��    
�    
�"   \ 
�   8 
�    
��    
��    
�    
�   , 
�N   0 
��   4 
�   $ 
��   @ 
�&     
�J    
�V   4 
�    
�    
�   $ 
��   $ 
�
   $ 
�2   ( 
�^   $ 
�    
�    
�   0 
��    
�    
�   4 
�F    
�N   $ 
�v   ( 
�    
�   ( 
��   @ 
�    
�&    
�6    
�J    
�Z   $ 
�     
��    
��     
��    
��    
��    
�   D 
�V    
�b    
�j   ( 
��   h 
�    
�   8 
�V    
�j    
�z     
��   4 
��    
��    
��    
�
    
�    
�2   $ 
�Z    
�r    
��    
��   8 
��    
��    
�    
�2    
�:    
�J   $ 
�r    
�~   ( 
��   @ 
��    
��    
�     
�6   ( 
�b   X 
��   H 
�
    
�    
�:   ( 
�f   P 
��    
��   4 
�    
�    
�6   , 
�f     
��    
��    
��   � 
�Z   , 
��    
��     
��    
��   , 
�    
�2    
�J   8 
��   4 
��    
��     
��    
�     
�&    
�>    
�N   T 
��   h 
�    
�"    
�*    
�>   H 
��    
��   8 
��    
��   ,  
   (  6   <  v   ,  �   ,  �     �   0 "    6    V    j   < �    �   , �   $ "   l �   ` �    
         6    N    V    f   < �    �    �    �    �    
        6    F    f   ( �    �     �    �   l J   l �   � F    Z    r    z    �                                                                                                                                                                                                                                                                                                                                                                                                                                                                                                                                                                                                                                                                                                                                                                                                                                                                                                                                                                                                                                                                                                                                                                                                                                                                                                                                                                                                                                                                                                                                                                                                                                                                                                                                                                                                                                                                                                                                                                                                                                                                                                                                                                                                                                                                                                                                                                                                                                                                                                                                                                                                                                                                                                                               t5ezZs+TKleuW6yhYsOANc0DkyZPnrm/iKbHdW7l5hsBcuXLdsK106dKRI0cO\nzp49e8/rFM/mypGBvEB64PhNzx8HCt5pwaNHj7Jq1SoVAXErPj4+dO/enZ07dxIUFMSRI0do0KAB\n/v7+LFq0yLGT6bJkyUKhQoUoXLgw999/P/369ePy5cssWLDghtfdPFnRzJkzmTt3Lp06dWL48OGM\nGzeOGjVqJJyMd6+XMdauXZt9+/axffv2W349Q4Z/f+a41XOxsbEA/O9//2Pt2rW88MILjBgxgnHj\nxlGyZEmio6PvuD/Jcash8TtlvJVbvf5uPxOJ3a4x5l/rvNXJoDevwxjzr20ZY+64P+Jd3PLSwjJl\nyvDuu+/e8FxgYOANJ8mIOCV9+vR07NiRDh06sGDBAj766COaNm1K1apVGTRoEAEBAY4fbzXG3HDX\nxlsdZ96+fTv16tWjYcOGQNwb1+HDhxM+Vfr5+eHj40N4eDhNmza97XZatmxJiRIleOuttxg6dCgP\nPfTQXbPdyfbt22ncuDH16tUD4g5XHDt27I7LABQvXpxly5YRHR2dMDpwu4KSVuXMmZPTp0/f8Nye\nPXscSiNOCgoK+tc5KddOGk4KV5aBk0AMUOCm5wsAd/yXPXr06ETdtVDECcYYWrRoQfPmzVm1ahUf\nf/wx7du35/777+eNN97gmWeeuWHI2lWioqIS3iAuXLhAcHAwly9fpm7dugmvudUnVD8/P1avXs32\n7dvJnj073333HadPn04oAz4+PnTs2JExY8aQIUMGKlWqxNmzZ9m/f39CObi23oCAAGJiYhIKQeXK\nlW+b91ZZrn/uWq7atWsDMHHixHsadWnYsCETJkzgv//9L8888wxHjx5NmFbXU1SpUoWvvvqKoKAg\nGjRowMaNG9m8ebNmYfVCt/qAfN29CRLNZYcJrLXRQBjQ8NpzJu4jQUNgnau2K5LajDE89thjLF26\nlA0bNlC+fHmef/55ypQpw8iRI2+4vMwVNm/eTPv27Wnfvj0vv/wyu3fv5r333uPBBx+8IePNnn32\nWcqVK8fAgQN5/fXXyZMnD/7+/je8pkuXLjz99NNMmjSJrl278sEHH9zw6eP69bZr144uXbrw5ptv\nsmPHjttu927Pvfzyy9x333307t2bt99+m1q1av3r/IBbrSNLlix89NFH7N+/nx49ejBhwgRefPHF\nf70usXnu9Fxi3Lx8UrZbrFgxXnvtNUJCQnjhhRfYvXv3PZ0k6Yr9Ec/i0rsWGmOeBiYRdxXBJuKu\nLmgHlLfWnrjF6xN9C2MRd/T777/zySefMHPmTPLly8frr79Oz549k3wP+ClTptClSxeWLl16y2PK\nIiklJCSEb7755l/naIj7c9u7FlprZwP9gPeBrcCDQKNbFQERT1K5cmWmT5/O7t27adWqFe+88w7F\nihXjrbfe4vjxm8+pFRFxlsunl7LWjrLWlrDWZrHW1rHWbnH1NkXcRenSpRkzZgz79u1LODu+RIkS\n9OrVi3379iV6fe4y/a94Lv2MeSfNNSmSCvz8/Pjvf//LwYMHefvttxNmNezUqdMNE+7czrXL6C5f\nvuzqqOLlrs33IN5FZUAkFeXKlYu33nqL/fv3M2LECNavX0+VKlVo2rQpq1evvu2nsmsT/9xtRjuR\n5Prll1/uONGUeCaVAREHZM2alV69erFnzx6mT5/O4cOHadCgAXXr1iUkJORfk8GULVuWqlWrMmHC\nhH/N0S+SEqy1LF++nC1bttCxY0en40gqc+nVBImlqwnEW1lrWbRoEZ988glr1qyhQoUKDBw4kMDA\nwIQpfvfs2UODBg04ceIEDz30EPnz59dd5SRFREVFsWvXLg4ePEjnzp2ZNGmS4xNnSeIl52oClQER\nN7N27Vo+/fRT5s+fT5EiRejbty/du3fH19eXv//+m9mzZ7No0SJOnjypk70kweXLl9m3bx9RUVEU\nL148Ufcy8PHxoVy5crRr145GjRqpCKRRKgMiHmjbtm3897//ZcaMGWTJkoXu3bvz6quv3nCTHxGI\nm5r2xRdfxM/Pj+DgYCpUqOB0JHGA284zICJJV6lSJSZPnsyBAwfo3bs3kydPpkyZMrRv357169c7\nHU/cwD///EOXLl3o1KkTzZs3Z9OmTSoCkiQqAyJurnDhwnz00UccOnSIb775ht9++426detSu3Zt\nZs+enXCXQfEuGzdupEqVKgQHBzN16lRmzJjBfffd53QsSaNUBkTSiGzZsvHSSy8RERHB/PnzyZo1\nKx06dKB06dIMGzZM96b3EleuXGHw4MHUq1ePfPny8csvv9C5c2enY0kapzIgksakS5eO5s2bs2LF\nCrZu3cqjjz7Km2++iZ+fHz169LinSYwkbdq0aRPVq1dn6NChvPPOO6xZs4bSpUs7HUs8gMqASBpW\npUqVhPMKBg4cyMKFC6lSpQr16tVjxowZXLlyxemIkgIiIyMZMGAAderUIXPmzISFhfHuu++myi2y\nxTuoDIh4gEKFCjF48GD279/P999/T+bMmXnmmWcoWrQogwYN4sCBA05HlCSw1jJv3jwqVqzIV199\nxUcffcSGDRtuuD21SEpQGRDxIBkzZqRt27YsX76cHTt20LFjR0aOHEmpUqVo2bIl8+fP1wmHacSe\nPXto2rQpAQEBlC9fnm3btvHGG2/oFtbiEioDIh6qQoUKjBgxgr/++otRo0Zx6NAhWrZsSdGiRXnj\njTfYtWuX0xHlFk6fPs2AAQOoVKkSERERzJ07lx9//JGyZcs6HU08mMqAiIfLnj07L774Ilu3biU8\nPJy2bdsyZswYypcvj7+/PxMnTuTChQtOx/R6kZGRfPbZZ5QuXZpRo0bx5ptvsmPHDlq3bo0xxul4\n4uFUBkS8SNWqVfnmm284evQoQUFBZM6cme7du1OoUCG6d+/OihUriImJcTqmV7ly5Qrffvst5cqV\n46233qJTp07s3buXIUOGkDVrVqfjiZdQGRDxQpkzZ6Zjx44sXbqUffv28Z///IdVq1bRsGFDihYt\nyuuvv87mzZt17wMXunTpEiNGjKB06dL07NmTunXrsmPHDkaOHEnBggWdjideRmVAxMuVKFGCIUOG\nsHfvXjZs2MDTTz/NjBkzqFWrFuXKlePdd98lIiLC6Zge4+TJk3z88ceULFmS119/nYYNG7J9+3Zm\nzZql8wLEMSoDIgKAMYaHH36YL7/8ksOHD7N06VL8/f358ssvqVixIuXLl+eNN95g48aNxMbGOh03\nzfnll1/o1q0bRYoU4YMPPqB169bs3r2byZMn634C4jiVARH5lwwZMvDEE08wYcIEjh8/zvz586lX\nrx7jx4+ndu3aFC1alF69erF06VJNbHQH58+fZ9y4cdSrV4+qVauybNky3nvvPQ4fPsyYMWMoVaqU\n0xFFANAFqyJyR5kzZ6Z58+Y0b96cq1evsnbtWubOncvcuXMZNWoUWbNm5dFHH6Vx48Y0atSIsmXL\nevXZ79HR0axcuZIpU6YQHBzMlStXeOqpp/j+++9p1aqV5gkQt2Tc6QQhY0w1ICwsLIxq1ao5HUdE\n7sBay2+//UZoaCihoaGsWbOG6OhoSpQoQePGjXnsscfw9/enUKFCTkd1ucuXL7N06VLmzJnDDz/8\nwJkzZyhXrhxdu3blueeew8/Pz+mI4gXCw8OpXr06QHVrbXhillUZEJEUceHCBVatWsXixYsJDQ1l\n7969AJQpUwZ/f/+ER+nSpdP8yIG1ll27drFs2TKWLVvG8uXLuXDhAuXLl6dt27a0bduWKlWqpPn9\nlLQlOWVA41UikiKyZ8+ecDgB4MiRI6xZsybhMWnSJKy15M6dm+rVq9/wKFGihFu/cUZHR/Pbb7+x\nceNGNmzYwMqVKzl8+DAZM2akbt26vPnmmwQEBOhEQEmzNDIgIqnizJkzrFu3ji1bthAWFkZYWBhH\njhwBwNfXl/Lly1OhQoUb/lu8eHEyZcqUahmttRw/fpwdO3YkPH799VfCw8O5fPkyGTJkoEqVKtSv\nX58nn3wSf39/smXLlmr5RO5EIwMi4vZy5cpFs2bNaNasWcJzx44dIzw8nF9//ZWdO3eyY8cO5syZ\nwz///JPwmgIFClC0aFGKFStG0aJFyZcvH7lz5yZPnjzkyZOH3LlzkyVLFjJnzkymTJkSHjExMURF\nRREdHU10dDRRUVGcO3eOM2fOJDz+/vtvDh06lPA4ePAg58+fB8DHx4dy5cpRqVIl2rVrR+3atala\ntSqZM2dO9b87EVdTGRARxxQsWJCmTZvStGnThOestRw9epSdO3dy8OBBDh48mPBGvWTJEk6ePMnp\n06eTPW2yMYa8efNStGhRihYtyqOPPkrRokUpV64cFStWpFSpUjrzX7yGftJFxK0YYyhcuDCFCxe+\n7WustZw/f55Tp05x+vRpIiMjuXLlCleuXOHy5ctcuXKF9OnTkzFjxoSHj48Pvr6+5MqVi9y5c5Mj\nRw7SpdNUKyKgMiAiaZAxBl9fX3x9fTVxj0gKUC0WERHxcioDIiIiXk5lQERExMupDIiIiHg5lQER\nEREvpzIgIiLi5VQGREREvJzKgIiIiJdTGRAREfFyKgMiIiJeTmVARETEy6kMiIiIeDmVARERES+n\nMiAiIuLlVAZERES8nMqAiIiIl1MZEBER8XIqAyIiIl5OZUBERMTLqQyIiIh4OZUBERERL6cy4JCg\noCCnI6QK7afn8ZZ91X56Fm/Zz6RyWRkwxuw3xsRe94gxxgxw1fbSGm/5wdR+eh5v2Vftp2fxlv1M\nqgwuXLcF3gbGAib+uX9cuD0RERFJAleWAYAL1toTLt6GiIiIJIOrzxl4wxhz0hgTbozpZ4xJ7+Lt\niYiISCK5cmTgKyAcOA3UBT4BCgL97rBMZoCIiAgXxnIP586dIzw83OkYLqf99Dzesq/aT8/iDft5\n3Xtn5sQua6y19/5iY4YCA+/wEgtUsNbuvsWyXYExQHZrbfRt1t8JmH7PgURERORmz1hrZyRmgcSW\ngTxAnru8bJ+19uotlq0I/A6Ut9buucP6GwH7gcv3HExEREQyAyWAUGvtqcQsmKgykBzGmGeASUBe\na+25VNmoiIiI3JVLzhkwxtQGHgZWEnc5YV3gC2CqioCIiIh7ccnIgDGmKjAKuB/IBPwJTAGG3+58\nAREREXFGqh0mEBEREfekexOIiIh4OZUBERERL+f2ZcAY42OM+SX+ZkcPOp0npRljQowxB4wxkcaY\nI8aYKcaYQk7nSmnGmOLGmHHGmH3GmEvGmD3GmCHGmIxOZ0tpxphBxpi1xpiLxpjTTudJKcaYXsaY\nP+N/VjcYY2o6nSmlGWP8jTE/GGP+iv+d09LpTCnNGPOmMWaTMea8Mea4MWauMaac07lcwRjT0xjz\nqzHmXPxjnTGmsdO5XMkY80b8z+4XiVnO7csA8BlwmLgJjTzRCqA9UA5oA5QGvnM0kWuUJ+6GVS8A\nFYG+QE/gIydDuUhGYDbwP6eDpBRjTAdgGPAuUBX4FQg1xuR1NFjKywb8AryM5/7O8Qe+Ju6KryeI\n+3ldYozJ4mgq1zhE3ER51YDqxP2+DTHGVHA0lYvEF/QexP37TNyy7nwCoTGmCfA50BbYAVSx1v7m\nbCrXMsa0AOYCmay1MU7ncSVjTD+gp7W2jNNZXMEY04W4K2hyO50luYwxG4CN1to+8X82xP2iHWGt\n/czRcC5ijIkFWltrf3A6iyvFF7q/gfrW2p+dzuNqxphTQD9r7USns6QkY0x2IAx4CXgH2Gqtff1e\nl3fbkQFjTAHgW6AzEOlwnFRhjMkNPAOs9fQiEC8ncfeuEDcWfyinOrD82nM27lPEMqCOU7kkxeQk\nbhTEo/8tGmPSGWM6AlmB9U7ncYGRwHxr7YqkLOy2ZQCYCIyy1m51OoirGWM+McZcAE4CRYHWDkdy\nOWNMGeAVYLTTWeSu8gLpgeM3PX+cuJuPSRoVP8LzJfCztXaH03lcwRhTyRjzD3CFuPlvAqy1Ox2O\nlaLiS04V4M2kriNVy4AxZmj8iQ23e8QYY8oZY14FsgOfXls0NXMm173u53WLfEbcN/JJIAaY6kjw\nJEjCvmKM8QMWAbOstROcSZ44SdlPkTRgFHHn8HR0OogL7QQeAmoRdx7PFGNMeWcjpRxjTBHiCt0z\nyZnUL1XPGbjHGx39SdzJV81vej49cBWYbq193gXxUkwyb+jkR9yx2DrW2o2uyJeSEruvxpjCxE1T\nvc7dv4/XS8r31FPOGYg/THAJaHv98XNjzCTA11ob4FQ2V/L0cwaMMd8ALQB/a+1Bp/OkFmPMUmCv\ntfYlp7OkBGNMKyCYuA+S1z44pyfu0E8Mceef3fWN3iX3Jrid+Lso3fVOSsaY3sBb1z1VGAgFngY2\nuSZdyrnX/byN9PH/zZRCcVwqMfsaX3RWAJuBbq7MldKS+T1N06y10caYMKAh8AMkDC83BEY4mU2S\nJr4ItAIaeFMRiJeONPL79R4tAyrf9NwkIAL45F6KAKRyGbhX1trD1//ZGHORuMazz1p7xJlUKc8Y\nUwuoCfwMnAHKAO8De/CwE1ziRwRWETfyMwDIH/d+Atbam49Fp2nGmKJAbqA4kN4Y81D8l/Zaay86\nlyxZvgAmxZeCTcRdGpqVuF86HsMYk424f4fXPmGViv/+nbbWHnIuWcoxxowCAoGWwMX4k7UBzllr\nPerW8caYj4k7JHkQuI+4E7QbAE85mSslxf9OueF8j/j3zFPW2oh7XY9bloHbcN9rIJPuEnFzCwwh\n7vrmo8T94H7kgTd0ehIoFf+49kvVEPd9TX+7hdKo94HnrvtzePx/HwNWp36c5LPWzo6/BO19oABx\n1+I3staecDZZiqtB3GEsG/8YFv/8ZNLYaNYd9CRu31bd9PzzxN1QzpPkJ+57Vwg4B/wGPJXUM+7T\nkES/X7r1PAMiIiLieu58aaGIiIikApUBERERL6cyICIi4uVUBkRERLycyoCIiIiXUxkQERHxcioD\nIiIiXk5lQERExMupDIiIiHg5lQEREREvpzIgIiLi5f4P/TBShilE3FoAAAAASUVORK5CYII=\n",
      "text/plain": [
       "<matplotlib.figure.Figure at 0x7fe1b3d2b0>"
      ]
     },
     "metadata": {},
     "output_type": "display_data"
    }
   ],
   "source": [
    "# %load Chapter3/07.py\n",
    "import numpy\n",
    "import matplotlib.pyplot as plot\n",
    "\n",
    "X = numpy.linspace(-4, 4, 1024)\n",
    "Y = .25 * (X + 4.) * (X + 1.) * (X - 2.)\n",
    "\n",
    "box = {\n",
    "\t'facecolor' : '.75',\n",
    "\t'edgecolor' : 'k',\n",
    "  'boxstyle'  : 'round'\n",
    "}\n",
    "\n",
    "plot.text(-0.5, -0.20, 'Brackmard minimum', bbox = box)\n",
    "\n",
    "plot.plot(X, Y, c = 'k')\n",
    "plot.show()\n"
   ]
  },
  {
   "cell_type": "markdown",
   "metadata": {},
   "source": [
    "## Adding arrows"
   ]
  },
  {
   "cell_type": "code",
   "execution_count": 16,
   "metadata": {
    "collapsed": false
   },
   "outputs": [
    {
     "data": {
      "image/png": "iVBORw0KGgoAAAANSUhEUgAAAgMAAAFkCAYAAAC9wjgoAAAABHNCSVQICAgIfAhkiAAAAAlwSFlz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\n3MgAAAAASUVORK5CYII=\n",
      "text/plain": [
       "<matplotlib.figure.Figure at 0x7fe1bde3c8>"
      ]
     },
     "metadata": {},
     "output_type": "display_data"
    }
   ],
   "source": [
    "# %load Chapter3/08.py\n",
    "import numpy\n",
    "import matplotlib.pyplot as plot\n",
    "\n",
    "X = numpy.linspace(-4, 4, 1024)\n",
    "Y = .25 * (X + 4.) * (X + 1.) * (X - 2.)\n",
    "\n",
    "plot.annotate('Brackmard minimum',\n",
    "              ha = 'center', va = 'bottom',\n",
    "              xytext = (-1.5, 3.),\n",
    "              xy = (0.75, -2.7),\n",
    "              arrowprops = { 'facecolor' : 'k', 'shrink' : 0.05 })\n",
    "\n",
    "plot.plot(X, Y, c = 'k')\n",
    "plot.show()\n"
   ]
  },
  {
   "cell_type": "markdown",
   "metadata": {},
   "source": [
    "## Adding a legend"
   ]
  },
  {
   "cell_type": "code",
   "execution_count": 18,
   "metadata": {
    "collapsed": false
   },
   "outputs": [
    {
     "data": {
      "image/png": "iVBORw0KGgoAAAANSUhEUgAAAhAAAAF5CAYAAADOExOGAAAABHNCSVQICAgIfAhkiAAAAAlwSFlz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\n",
      "text/plain": [
       "<matplotlib.figure.Figure at 0x7fe1c20a58>"
      ]
     },
     "metadata": {},
     "output_type": "display_data"
    }
   ],
   "source": [
    "# %load Chapter3/09.py\n",
    "import numpy\n",
    "import matplotlib.pyplot as plot\n",
    "\n",
    "X = numpy.linspace(0, 6, 1024)\n",
    "Y1 = numpy.sin(X)\n",
    "Y2 = numpy.cos(X)\n",
    "\n",
    "plot.xlabel('X')\n",
    "plot.xlabel('Y')\n",
    "\n",
    "plot.plot(X, Y1, c = 'k',             lw = 3., label = 'sin(X)')\n",
    "plot.plot(X, Y2, c = '.5', ls = '--', lw = 3., label = 'cos(X)')\n",
    "\n",
    "plot.legend()\n",
    "plot.show()\n"
   ]
  },
  {
   "cell_type": "markdown",
   "metadata": {},
   "source": [
    "## Adding a grid"
   ]
  },
  {
   "cell_type": "code",
   "execution_count": 20,
   "metadata": {
    "collapsed": false
   },
   "outputs": [
    {
     "data": {
      "image/png": "iVBORw0KGgoAAAANSUhEUgAAAgMAAAFkCAYAAAC9wjgoAAAABHNCSVQICAgIfAhkiAAAAAlwSFlz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\nNQMiIiIRTs2AiIhIhPv/BehW7QuyJxYAAAAASUVORK5CYII=\n",
      "text/plain": [
       "<matplotlib.figure.Figure at 0x7fe1ad50f0>"
      ]
     },
     "metadata": {},
     "output_type": "display_data"
    }
   ],
   "source": [
    "# %load Chapter3/10.py\n",
    "import numpy\n",
    "import matplotlib.pyplot as plot\n",
    "\n",
    "X = numpy.linspace(-4, 4, 1024)\n",
    "Y = .25 * (X + 4.) * (X + 1.) * (X - 2.)\n",
    "\n",
    "plot.plot(X, Y, c = 'k')\n",
    "\n",
    "plot.grid(True, lw = 2, ls = '--', c = '.75')\n",
    "plot.show()\n"
   ]
  },
  {
   "cell_type": "markdown",
   "metadata": {},
   "source": [
    "## Adding lines"
   ]
  },
  {
   "cell_type": "code",
   "execution_count": 23,
   "metadata": {
    "collapsed": false
   },
   "outputs": [
    {
     "data": {
      "image/png": "iVBORw0KGgoAAAANSUhEUgAAAWoAAAFkCAYAAAAJ0nGTAAAABHNCSVQICAgIfAhkiAAAAAlwSFlz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\nQmCC\n",
      "text/plain": [
       "<matplotlib.figure.Figure at 0x7fe1b2d470>"
      ]
     },
     "metadata": {},
     "output_type": "display_data"
    }
   ],
   "source": [
    "import matplotlib.pyplot as plt\n",
    "N = 16\n",
    "\n",
    "for i in range(N):\n",
    "    plt.gca().add_line(plt.Line2D((0, i), (N - i, 0), color = '.75'))\n",
    "\n",
    "plt.grid(True)\n",
    "plt.axis('scaled')\n",
    "plt.show()"
   ]
  },
  {
   "cell_type": "markdown",
   "metadata": {},
   "source": [
    "## Adding shapes"
   ]
  },
  {
   "cell_type": "code",
   "execution_count": 24,
   "metadata": {
    "collapsed": false,
    "scrolled": true
   },
   "outputs": [
    {
     "data": {
      "image/png": "iVBORw0KGgoAAAANSUhEUgAAAhAAAAFkCAYAAABxWwLDAAAABHNCSVQICAgIfAhkiAAAAAlwSFlz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\n2f8AROhlIhnotcsAAAAASUVORK5CYII=\n",
      "text/plain": [
       "<matplotlib.figure.Figure at 0x7fe1bc9710>"
      ]
     },
     "metadata": {},
     "output_type": "display_data"
    }
   ],
   "source": [
    "import matplotlib.patches as patches\n",
    "import matplotlib.pyplot as plt\n",
    "\n",
    "# Circle\n",
    "shape = patches.Circle((0, 0), radius = 1., color = '.75')\n",
    "plt.gca().add_patch(shape)\n",
    "\n",
    "# Rectangle\n",
    "shape = patches.Rectangle((2.5, -.5), 2., 1., color = '.75')\n",
    "plt.gca().add_patch(shape)\n",
    "\n",
    "# Ellipse\n",
    "shape = patches.Ellipse((0, -2.), 2., 1., angle = 45., color = '.75')\n",
    "plt.gca().add_patch(shape)\n",
    "\n",
    "# Fancy box\n",
    "shape = patches.FancyBboxPatch((2.5, -2.5), 2., 1., boxstyle = 'sawtooth', color = '.75')\n",
    "plt.gca().add_patch(shape)\n",
    "\n",
    "# Display all\n",
    "plt.grid(True)\n",
    "plt.axis('scaled')\n",
    "plt.show()"
   ]
  },
  {
   "cell_type": "markdown",
   "metadata": {},
   "source": [
    "* **Working with polygons**"
   ]
  },
  {
   "cell_type": "code",
   "execution_count": 26,
   "metadata": {
    "collapsed": false
   },
   "outputs": [
    {
     "data": {
      "image/png": "iVBORw0KGgoAAAANSUhEUgAAAXwAAAFkCAYAAAAjYoA8AAAABHNCSVQICAgIfAhkiAAAAAlwSFlz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\nwQISS41B/PQAAAAASUVORK5CYII=\n",
      "text/plain": [
       "<matplotlib.figure.Figure at 0x7fe1b06c88>"
      ]
     },
     "metadata": {},
     "output_type": "display_data"
    }
   ],
   "source": [
    "import numpy as np\n",
    "import matplotlib.patches as patches\n",
    "import matplotlib.pyplot as plt\n",
    "theta = np.linspace(0, 2 * np.pi, 8)\n",
    "points = np.vstack((np.cos(theta), np.sin(theta))).transpose()\n",
    "plt.gca().add_patch(patches.Polygon(points, color = '.75'))\n",
    "plt.grid(True)\n",
    "plt.axis('scaled')\n",
    "plt.show()"
   ]
  },
  {
   "cell_type": "markdown",
   "metadata": {},
   "source": [
    "* **Working with path attributes**"
   ]
  },
  {
   "cell_type": "code",
   "execution_count": 27,
   "metadata": {
    "collapsed": false
   },
   "outputs": [
    {
     "data": {
      "image/png": "iVBORw0KGgoAAAANSUhEUgAAAXwAAAFkCAYAAAAjYoA8AAAABHNCSVQICAgIfAhkiAAAAAlwSFlz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\nAABJRU5ErkJggg==\n",
      "text/plain": [
       "<matplotlib.figure.Figure at 0x7fe1addbe0>"
      ]
     },
     "metadata": {},
     "output_type": "display_data"
    }
   ],
   "source": [
    "import numpy as np\n",
    "import matplotlib.patches as patches\n",
    "import matplotlib.pyplot as plt\n",
    "\n",
    "theta = np.linspace(0, 2 * np.pi, 6)\n",
    "points = np.vstack((np.cos(theta), np.sin(theta))).transpose()\n",
    "plt.gca().add_patch(plt.Circle((0, 0), radius = 1., color = '.75'))\n",
    "plt.gca().add_patch(plt.Polygon(points, closed=None, fill=None,\n",
    "                                lw = 3., ls = 'dashed', edgecolor = 'k'))\n",
    "\n",
    "plt.grid(True)\n",
    "plt.axis('scaled')\n",
    "plt.show()"
   ]
  },
  {
   "cell_type": "markdown",
   "metadata": {},
   "source": [
    "## Controlling ticks' spacing"
   ]
  },
  {
   "cell_type": "code",
   "execution_count": 28,
   "metadata": {
    "collapsed": false
   },
   "outputs": [
    {
     "data": {
      "image/png": "iVBORw0KGgoAAAANSUhEUgAAAhUAAAFkCAYAAACXcsmHAAAABHNCSVQICAgIfAhkiAAAAAlwSFlz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\nIeQiiooQQggh5CKKihBCCCHk4n/Z1kRMS3GulAAAAABJRU5ErkJggg==\n",
      "text/plain": [
       "<matplotlib.figure.Figure at 0x7fdf815f60>"
      ]
     },
     "metadata": {},
     "output_type": "display_data"
    }
   ],
   "source": [
    "import numpy as np\n",
    "import matplotlib.pyplot as plt\n",
    "import matplotlib.ticker as ticker\n",
    "\n",
    "X = np.linspace(-15, 15, 1024)\n",
    "Y = np.sinc(X)\n",
    "\n",
    "ax = plt.axes()\n",
    "ax.xaxis.set_major_locator(ticker.MultipleLocator(5))\n",
    "ax.xaxis.set_minor_locator(ticker.MultipleLocator(1))\n",
    "\n",
    "plt.plot(X, Y, c = 'k')\n",
    "plt.show()"
   ]
  },
  {
   "cell_type": "code",
   "execution_count": 29,
   "metadata": {
    "collapsed": false
   },
   "outputs": [
    {
     "data": {
      "image/png": "iVBORw0KGgoAAAANSUhEUgAAAhUAAAFkCAYAAACXcsmHAAAABHNCSVQICAgIfAhkiAAAAAlwSFlz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\nAElFTkSuQmCC\n",
      "text/plain": [
       "<matplotlib.figure.Figure at 0x7fdf8c2898>"
      ]
     },
     "metadata": {},
     "output_type": "display_data"
    }
   ],
   "source": [
    "import numpy as np\n",
    "import matplotlib.pyplot as plt\n",
    "import matplotlib.ticker as ticker\n",
    "\n",
    "X = np.linspace(-15, 15, 1024)\n",
    "Y = np.sinc(X)\n",
    "\n",
    "ax = plt.axes()\n",
    "ax.xaxis.set_major_locator(ticker.MultipleLocator(5))\n",
    "ax.xaxis.set_minor_locator(ticker.MultipleLocator(1))\n",
    "plt.grid(True, which='both')\n",
    "plt.plot(X, Y)\n",
    "plt.show()"
   ]
  },
  {
   "cell_type": "markdown",
   "metadata": {},
   "source": [
    "## Controlling ticks labeling"
   ]
  },
  {
   "cell_type": "code",
   "execution_count": 30,
   "metadata": {
    "collapsed": false
   },
   "outputs": [
    {
     "data": {
      "image/png": "iVBORw0KGgoAAAANSUhEUgAAAfwAAAFkCAYAAADFZ4k9AAAABHNCSVQICAgIfAhkiAAAAAlwSFlz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\nVAADX5KkAvw3wzPIw2WCOnAAAAAASUVORK5CYII=\n",
      "text/plain": [
       "<matplotlib.figure.Figure at 0x7fe06e7358>"
      ]
     },
     "metadata": {},
     "output_type": "display_data"
    }
   ],
   "source": [
    "import numpy as np\n",
    "import matplotlib.ticker as ticker\n",
    "import matplotlib.pyplot as plt\n",
    "\n",
    "name_list = ('Omar', 'Serguey', 'Max', 'Zhou', 'Abidin')\n",
    "value_list = np.random.randint(0, 99, size = len(name_list))\n",
    "pos_list = np.arange(len(name_list))\n",
    "\n",
    "ax = plt.axes()\n",
    "ax.xaxis.set_major_locator(ticker.FixedLocator((pos_list)))\n",
    "ax.xaxis.set_major_formatter(ticker.FixedFormatter((name_list)))\n",
    "\n",
    "plt.bar(pos_list, value_list, color = '.75', align = 'center')\n",
    "plt.show()"
   ]
  },
  {
   "cell_type": "markdown",
   "metadata": {},
   "source": [
    "* **A simpler way to create bar charts with fied labels**"
   ]
  },
  {
   "cell_type": "code",
   "execution_count": 32,
   "metadata": {
    "collapsed": false
   },
   "outputs": [
    {
     "data": {
      "image/png": "iVBORw0KGgoAAAANSUhEUgAAAfwAAAFkCAYAAADFZ4k9AAAABHNCSVQICAgIfAhkiAAAAAlwSFlz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\nAAAASUVORK5CYII=\n",
      "text/plain": [
       "<matplotlib.figure.Figure at 0x7fe06c0a58>"
      ]
     },
     "metadata": {},
     "output_type": "display_data"
    }
   ],
   "source": [
    "import numpy as np\n",
    "import matplotlib.pyplot as plt\n",
    "\n",
    "name_list = ('Omar', 'Serguey', 'Max', 'Zhou', 'Abidin')\n",
    "value_list = np.random.randint(0, 99, size = len(name_list))\n",
    "pos_list = np.arange(len(name_list))\n",
    "\n",
    "plt.bar(pos_list, value_list, color = '.75', align = 'center')\n",
    "plt.xticks(pos_list, name_list)\n",
    "plt.show()"
   ]
  },
  {
   "cell_type": "markdown",
   "metadata": {},
   "source": [
    "* **Advanced label generation**"
   ]
  },
  {
   "cell_type": "code",
   "execution_count": 35,
   "metadata": {
    "collapsed": false,
    "scrolled": true
   },
   "outputs": [
    {
     "data": {
      "image/png": "iVBORw0KGgoAAAANSUhEUgAAAhsAAAFkCAYAAACJu/k0AAAABHNCSVQICAgIfAhkiAAAAAlwSFlz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\nc+kiAAAAAElFTkSuQmCC\n",
      "text/plain": [
       "<matplotlib.figure.Figure at 0x7fe07c7ef0>"
      ]
     },
     "metadata": {},
     "output_type": "display_data"
    }
   ],
   "source": [
    "import numpy as np\n",
    "import matplotlib.pyplot as plt\n",
    "import matplotlib.ticker as ticker\n",
    "\n",
    "def make_label(value, pos):\n",
    "    return '%0.1f%%' % (100. * value)\n",
    "\n",
    "ax = plt.axes()\n",
    "ax.xaxis.set_major_formatter(ticker.FuncFormatter(make_label))\n",
    "X = np.linspace(0, 1, 256)\n",
    "\n",
    "plt.plot(X, np.exp(-10 * X), c ='k')\n",
    "plt.plot(X, np.exp(-5 * X), c= 'k', ls = '--')\n",
    "plt.show()"
   ]
  },
  {
   "cell_type": "code",
   "execution_count": 37,
   "metadata": {
    "collapsed": false
   },
   "outputs": [
    {
     "data": {
      "image/png": "iVBORw0KGgoAAAANSUhEUgAAAhcAAAF8CAYAAAB8AplMAAAABHNCSVQICAgIfAhkiAAAAAlwSFlz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\n",
      "text/plain": [
       "<matplotlib.figure.Figure at 0x7fe1ad7978>"
      ]
     },
     "metadata": {},
     "output_type": "display_data"
    }
   ],
   "source": [
    "import numpy as np\n",
    "import datetime\n",
    "import matplotlib.pyplot as plt\n",
    "import matplotlib.ticker as ticker\n",
    "\n",
    "start_date = datetime.datetime(1998, 1, 1)\n",
    "\n",
    "def make_label(value, pos):\n",
    "    time = start_date + datetime.timedelta(days = 365 * value)\n",
    "    return time.strftime('%b %y')\n",
    "\n",
    "ax = plt.axes()\n",
    "ax.xaxis.set_major_formatter(ticker.FuncFormatter(make_label))\n",
    "X = np.linspace(0, 1, 256)\n",
    "\n",
    "plt.plot(X, np.exp(-10 * X), c = 'k')\n",
    "plt.plot(X, np.exp(-5 * X), c = 'k', ls = '--')\n",
    "labels = ax.get_xticklabels()\n",
    "\n",
    "plt.setp(labels, rotation = 30.)\n",
    "plt.show()"
   ]
  },
  {
   "cell_type": "code",
   "execution_count": null,
   "metadata": {
    "collapsed": true
   },
   "outputs": [],
   "source": []
  }
 ],
 "metadata": {
  "kernelspec": {
   "display_name": "Python [default]",
   "language": "python",
   "name": "python3"
  },
  "language_info": {
   "codemirror_mode": {
    "name": "ipython",
    "version": 3
   },
   "file_extension": ".py",
   "mimetype": "text/x-python",
   "name": "python",
   "nbconvert_exporter": "python",
   "pygments_lexer": "ipython3",
   "version": "3.5.2"
  }
 },
 "nbformat": 4,
 "nbformat_minor": 1
}
