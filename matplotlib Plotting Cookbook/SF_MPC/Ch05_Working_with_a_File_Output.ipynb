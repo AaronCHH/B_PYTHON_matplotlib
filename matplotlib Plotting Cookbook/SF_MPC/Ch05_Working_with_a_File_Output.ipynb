{
 "cells": [
  {
   "cell_type": "markdown",
   "metadata": {},
   "source": [
    "# Chapter 5: Working with a File Output"
   ]
  },
  {
   "cell_type": "markdown",
   "metadata": {},
   "source": [
    "## Introduction"
   ]
  },
  {
   "cell_type": "markdown",
   "metadata": {},
   "source": [
    "## Generating a PNG picture file"
   ]
  },
  {
   "cell_type": "code",
   "execution_count": 7,
   "metadata": {
    "collapsed": true
   },
   "outputs": [],
   "source": [
    "# %load Chapter5/01.py\n",
    "import numpy\n",
    "from matplotlib import pyplot as plot\n",
    "\n",
    "X = numpy.linspace(-10, 10, 1024)\n",
    "Y = numpy.sinc(X)\n",
    "\n",
    "plot.plot(X, Y, c = 'k')\n",
    "plot.savefig('sinc1.png')\n"
   ]
  },
  {
   "cell_type": "markdown",
   "metadata": {},
   "source": [
    "## Handling transparency"
   ]
  },
  {
   "cell_type": "code",
   "execution_count": 8,
   "metadata": {
    "collapsed": true
   },
   "outputs": [],
   "source": [
    "# %load Chapter5/02.py\n",
    "import numpy\n",
    "from matplotlib import pyplot as plot\n",
    "\n",
    "X = numpy.linspace(-10, 10, 1024)\n",
    "Y = numpy.sinc(X)\n",
    "\n",
    "plot.plot(X, Y, c = 'k')\n",
    "plot.savefig('sinc2.png', transparent = True)\n"
   ]
  },
  {
   "cell_type": "code",
   "execution_count": 9,
   "metadata": {
    "collapsed": true
   },
   "outputs": [],
   "source": [
    "# %load Chapter5/03.py\n",
    "import numpy\n",
    "from matplotlib import pyplot as plot\n",
    "\n",
    "X = numpy.linspace(-10, 10, 1024)\n",
    "Y = numpy.sinc(X)\n",
    "\n",
    "plot.plot(X, Y)\n",
    "plot.savefig('sinc3.png', bbox_inches = 'tight')\n"
   ]
  },
  {
   "cell_type": "code",
   "execution_count": 12,
   "metadata": {
    "collapsed": true
   },
   "outputs": [],
   "source": [
    "# %load Chapter5/04.py\n",
    "import numpy\n",
    "from matplotlib import pyplot as plot\n",
    "\n",
    "X = numpy.linspace(-10, 10, 1024)\n",
    "Y = numpy.sinc(X)\n",
    "\n",
    "plot.plot(X, Y) # 72, 96, 150, 300\n",
    "plot.savefig('sinc4.png', dpi = 100)\n"
   ]
  },
  {
   "cell_type": "code",
   "execution_count": 15,
   "metadata": {
    "collapsed": true
   },
   "outputs": [],
   "source": [
    "# %load Chapter5/05.py\n",
    "import numpy\n",
    "from matplotlib import pyplot as plot\n",
    "\n",
    "X = numpy.linspace(-10, 10, 1024)\n",
    "Y = numpy.sinc(X)\n",
    "\n",
    "fig = plot.figure(figsize = (6.40, 4.80))\n",
    "plot.plot(X, Y)\n",
    "plot.savefig('sinc5.png', dpi = 72)\n"
   ]
  },
  {
   "cell_type": "code",
   "execution_count": 18,
   "metadata": {
    "collapsed": true
   },
   "outputs": [],
   "source": [
    "# %load Chapter5/06.py\n",
    "import numpy\n",
    "from matplotlib import pyplot as plot\n",
    "\n",
    "X = numpy.linspace(-10, 10, 1024)\n",
    "Y = numpy.sinc(X)\n",
    "\n",
    "fig = plot.figure(figsize = (33.11, 46.81))\n",
    "plot.plot(X, Y)\n",
    "plot.savefig('sinc6.pdf')\n"
   ]
  },
  {
   "cell_type": "code",
   "execution_count": 21,
   "metadata": {
    "collapsed": true
   },
   "outputs": [],
   "source": [
    "# %load Chapter5/07.py\n",
    "import random\n",
    "import matplotlib.pyplot as plot\n",
    "\n",
    "name_list = ('Omar', 'Serguey', 'Max', 'Zhou', 'Abidin')\n",
    "value_list = [random.randint(0, 99) for name in name_list]\n",
    "pos_list = range(len(name_list))\n",
    "\n",
    "plot.bar(pos_list, value_list, alpha = .5, color = '.25', align = 'center')\n",
    "\n",
    "plot.xticks(pos_list, name_list)\n",
    "\n",
    "plot.savefig('bar.png', transparent = True)\n"
   ]
  },
  {
   "cell_type": "markdown",
   "metadata": {},
   "source": [
    "## Controlling the output resolution"
   ]
  },
  {
   "cell_type": "code",
   "execution_count": 29,
   "metadata": {
    "collapsed": true
   },
   "outputs": [],
   "source": [
    "# %load Chapter5/08a.py\n",
    "import numpy\n",
    "import matplotlib.pyplot as plot\n",
    "\n",
    "theta = numpy.linspace(0, 2 * numpy.pi, 8)\n",
    "points = list(zip(numpy.cos(theta), numpy.sin(theta)))\n",
    "\n",
    "plot.figure(figsize=(4., 4.))\n",
    "plot.gca().add_patch(plot.Polygon(points, color = '.75'))\n",
    "\n",
    "plot.grid(True)\n",
    "plot.axis('scaled')\n",
    "\n",
    "plot.savefig('polygon-a.png', dpi = 128)\n"
   ]
  },
  {
   "cell_type": "code",
   "execution_count": 30,
   "metadata": {
    "collapsed": true
   },
   "outputs": [],
   "source": [
    "# %load Chapter5/08b.py\n",
    "import numpy\n",
    "import matplotlib.pyplot as plot\n",
    "\n",
    "theta = numpy.linspace(0, 2 * numpy.pi, 8)\n",
    "points = list(zip(numpy.cos(theta), numpy.sin(theta)))\n",
    "\n",
    "plot.figure(figsize=(8., 8.))\n",
    "plot.gca().add_patch(plot.Polygon(points, color = '.75'))\n",
    "\n",
    "plot.grid(True)\n",
    "plot.axis('scaled')\n",
    "\n",
    "plot.savefig('polygon-b.png', dpi = 64)\n"
   ]
  },
  {
   "cell_type": "code",
   "execution_count": 31,
   "metadata": {
    "collapsed": true
   },
   "outputs": [],
   "source": [
    "# %load Chapter5/08a.py\n",
    "import numpy\n",
    "import matplotlib.pyplot as plot\n",
    "\n",
    "theta = numpy.linspace(0, 2 * numpy.pi, 8)\n",
    "points = list(zip(numpy.cos(theta), numpy.sin(theta)))\n",
    "\n",
    "plot.figure(figsize=(4., 4.))\n",
    "plot.gca().add_patch(plot.Polygon(points, color = '.75'))\n",
    "\n",
    "plot.grid(True)\n",
    "plot.axis('scaled')\n",
    "\n",
    "plot.savefig('polygon-c.png', dpi = 300)\n"
   ]
  },
  {
   "cell_type": "markdown",
   "metadata": {},
   "source": [
    "## Generating PDF or SVG documents"
   ]
  },
  {
   "cell_type": "code",
   "execution_count": 33,
   "metadata": {
    "collapsed": true
   },
   "outputs": [],
   "source": [
    "import numpy as np\n",
    "from matplotlib import pyplot as plt\n",
    "\n",
    "X = np.linspace(-10, 10, 1024)\n",
    "Y = np.sinc(X)\n",
    "\n",
    "plt.plot(X, Y)\n",
    "plt.savefig('sinc.pdf')"
   ]
  },
  {
   "cell_type": "markdown",
   "metadata": {},
   "source": [
    "## Handling multiple-page PDF documents"
   ]
  },
  {
   "cell_type": "code",
   "execution_count": 35,
   "metadata": {
    "collapsed": true
   },
   "outputs": [],
   "source": [
    "# %load Chapter5/09.py\n",
    "import numpy\n",
    " \n",
    "from matplotlib import pyplot as plot\n",
    "from matplotlib.backends.backend_pdf import PdfPages\n",
    " \n",
    "# Generate the data\n",
    "data = numpy.random.randn(15, 1024)\n",
    " \n",
    "# The PDF document\n",
    "pdf_pages = PdfPages('histograms.pdf')\n",
    " \n",
    "# Generate the pages\n",
    "nb_plots = data.shape[0]\n",
    "nb_plots_per_page = 5\n",
    "nb_pages = int(numpy.ceil(nb_plots / float(nb_plots_per_page)))\n",
    "grid_size = (nb_plots_per_page, 1)\n",
    " \n",
    "for i, samples in enumerate(data):\n",
    "  # Create a figure instance (ie. a new page) if needed\n",
    "  if i % nb_plots_per_page == 0:\n",
    "  \tfig = plot.figure(figsize=(8.27, 11.69), dpi=100)\n",
    " \n",
    "  # Plot stuffs !\n",
    "  plot.subplot2grid(grid_size, (i % nb_plots_per_page, 0))\n",
    "  plot.hist(samples, 32, normed=1, facecolor='#808080', alpha=0.75)\n",
    " \n",
    "  # Close the page if needed\n",
    "  if (i + 1) % nb_plots_per_page == 0 or (i + 1) == nb_plots:\n",
    "    plot.tight_layout()\n",
    "    pdf_pages.savefig(fig)\n",
    " \n",
    "# Write the PDF document to the disk\n",
    "pdf_pages.close()\n"
   ]
  },
  {
   "cell_type": "code",
   "execution_count": null,
   "metadata": {
    "collapsed": true
   },
   "outputs": [],
   "source": []
  }
 ],
 "metadata": {
  "kernelspec": {
   "display_name": "Python [default]",
   "language": "python",
   "name": "python3"
  },
  "language_info": {
   "codemirror_mode": {
    "name": "ipython",
    "version": 3
   },
   "file_extension": ".py",
   "mimetype": "text/x-python",
   "name": "python",
   "nbconvert_exporter": "python",
   "pygments_lexer": "ipython3",
   "version": "3.5.2"
  }
 },
 "nbformat": 4,
 "nbformat_minor": 1
}
